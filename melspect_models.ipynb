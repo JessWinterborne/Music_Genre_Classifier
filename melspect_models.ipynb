{
  "nbformat": 4,
  "nbformat_minor": 0,
  "metadata": {
    "colab": {
      "name": "melspect_models.ipynb",
      "provenance": [],
      "collapsed_sections": []
    },
    "kernelspec": {
      "name": "python3",
      "display_name": "Python 3"
    },
    "language_info": {
      "name": "python"
    }
  },
  "cells": [
    {
      "cell_type": "code",
      "execution_count": 1,
      "metadata": {
        "colab": {
          "base_uri": "https://localhost:8080/"
        },
        "id": "TkFAvKlSJe1p",
        "outputId": "f865cc99-5c22-4016-fc8b-bc8cb1af39f7"
      },
      "outputs": [
        {
          "output_type": "stream",
          "name": "stdout",
          "text": [
            "Mounted at /content/drive\n"
          ]
        }
      ],
      "source": [
        "from google.colab import drive\n",
        "drive.mount('/content/drive')"
      ]
    },
    {
      "cell_type": "code",
      "source": [
        "import numpy as np\n",
        "import librosa\n",
        "from sklearn.model_selection import train_test_split\n",
        "import tensorflow.keras as keras\n",
        "import tensorflow as tf\n",
        "import matplotlib.pyplot as plt\n",
        "import os\n",
        "import pandas as pd\n",
        "import seaborn as sn\n",
        "from sklearn.metrics import confusion_matrix\n",
        "from tensorflow.python.keras.models import Sequential\n",
        "from tensorflow.python.keras.layers import Dense, Dropout, Flatten, Conv2D, MaxPooling2D\n",
        "from tensorflow.python.keras import utils\n",
        "from tensorflow.keras.utils import to_categorical"
      ],
      "metadata": {
        "id": "o1YVtMPEMAt7"
      },
      "execution_count": 111,
      "outputs": []
    },
    {
      "cell_type": "code",
      "source": [
        "def mel_spect_data(sample_rate = 22050, hop_length = 512):\n",
        "  labels = []\n",
        "  mel_spects = []\n",
        "  for folder in os.scandir('drive/MyDrive/Data/genres_original'):\n",
        "    for file in os.scandir('drive/MyDrive/Data/genres_original/'+str(folder)[11:-2]):\n",
        "      signal, sample_r = librosa.load(file, sample_rate)\n",
        "\n",
        "      label = str(file)[11:-12]\n",
        "      #labels.append(label)\n",
        "\n",
        "      spect = librosa.feature.melspectrogram(y=signal, sr=sample_r, hop_length=hop_length)\n",
        "      spect = librosa.power_to_db(spect, ref=np.max)\n",
        "\n",
        "      #if spect.shape[1] != 1320:\n",
        "      #      spect.resize(128,1320, refcheck=False)\n",
        "\n",
        "      if spect.shape == (128,1293):\n",
        "        mel_spects.append(spect)\n",
        "        labels.append(label)\n",
        "      \n",
        "      #mel_spects.append(spect)\n",
        "      #print(spect.shape)\n",
        "\n",
        "  labels = pd.Series(labels)\n",
        "  label_dict = {'blues': 0,'classical': 1,'country': 2,'disco': 3,'hiphop': 4,'jazz': 5,'metal': 6,'pop': 7,'reggae': 8,'rock': 9}\n",
        "  mel_spect_label = labels.map(label_dict).values\n",
        "  mel_spect_data = np.array(mel_spects)\n",
        "  return mel_spect_data, mel_spect_label"
      ],
      "metadata": {
        "id": "yGW6s6LhHISI"
      },
      "execution_count": 22,
      "outputs": []
    },
    {
      "cell_type": "code",
      "source": [
        "X, y = mel_spect_data()"
      ],
      "metadata": {
        "id": "fpKXGRP9MFhv"
      },
      "execution_count": 23,
      "outputs": []
    },
    {
      "cell_type": "code",
      "source": [
        "X.shape"
      ],
      "metadata": {
        "colab": {
          "base_uri": "https://localhost:8080/"
        },
        "id": "GY-v6NwJ5RmL",
        "outputId": "70563c5c-fb06-4a3d-8db3-6a045fae8d44"
      },
      "execution_count": 24,
      "outputs": [
        {
          "output_type": "execute_result",
          "data": {
            "text/plain": [
              "(944, 128, 1293)"
            ]
          },
          "metadata": {},
          "execution_count": 24
        }
      ]
    },
    {
      "cell_type": "code",
      "source": [
        "X_train, X_test, y_train, y_test = train_test_split(X, y, test_size=0.2)"
      ],
      "metadata": {
        "id": "t2kHhbdmnSPa"
      },
      "execution_count": 25,
      "outputs": []
    },
    {
      "cell_type": "code",
      "source": [
        "X_train.shape"
      ],
      "metadata": {
        "colab": {
          "base_uri": "https://localhost:8080/"
        },
        "id": "vGUaG2Z8HniS",
        "outputId": "7a600ba4-5c4f-418f-b991-2b67a8f88d02"
      },
      "execution_count": 26,
      "outputs": [
        {
          "output_type": "execute_result",
          "data": {
            "text/plain": [
              "(755, 128, 1293)"
            ]
          },
          "metadata": {},
          "execution_count": 26
        }
      ]
    },
    {
      "cell_type": "code",
      "source": [
        "X_train.min()"
      ],
      "metadata": {
        "colab": {
          "base_uri": "https://localhost:8080/"
        },
        "id": "m6DYHvLjTeRo",
        "outputId": "53eb7671-4954-4c01-f4ad-b43a87afbfe2"
      },
      "execution_count": 30,
      "outputs": [
        {
          "output_type": "execute_result",
          "data": {
            "text/plain": [
              "-80.0"
            ]
          },
          "metadata": {},
          "execution_count": 30
        }
      ]
    },
    {
      "cell_type": "code",
      "source": [
        "# Scaling our data to be between 0 and 1 using the minimum value from above\n",
        "X_train /= -80\n",
        "X_test /= -80"
      ],
      "metadata": {
        "id": "A2BtfKtIThFI"
      },
      "execution_count": 31,
      "outputs": []
    },
    {
      "cell_type": "code",
      "source": [
        "model = keras.Sequential([\n",
        "\n",
        "    # input layer\n",
        "    keras.layers.Flatten(input_shape=(X.shape[1], X.shape[2])),\n",
        "\n",
        "    # 1st dense layer\n",
        "    keras.layers.Dense(512, activation='relu'),\n",
        "\n",
        "    # 2nd dense layer\n",
        "    keras.layers.Dense(256, activation='relu'),\n",
        "\n",
        "    # 3rd dense layer\n",
        "    keras.layers.Dense(64, activation='relu'),\n",
        "\n",
        "    # output layer\n",
        "    keras.layers.Dense(10, activation='softmax')\n",
        "])"
      ],
      "metadata": {
        "id": "39US8vMknZ9O"
      },
      "execution_count": 32,
      "outputs": []
    },
    {
      "cell_type": "code",
      "source": [
        "optimiser = keras.optimizers.Adam(learning_rate=0.0001)\n",
        "model.compile(optimizer=optimiser,\n",
        "              loss='sparse_categorical_crossentropy',\n",
        "              metrics=['accuracy'])"
      ],
      "metadata": {
        "id": "iir_uLBWnfk2"
      },
      "execution_count": 33,
      "outputs": []
    },
    {
      "cell_type": "code",
      "source": [
        "history = model.fit(X_train, y_train, validation_data=(X_test, y_test), batch_size=32, epochs=50)"
      ],
      "metadata": {
        "colab": {
          "base_uri": "https://localhost:8080/"
        },
        "id": "j_uKca2IniD5",
        "outputId": "b1c68a35-90d9-4551-d0f7-5145f1b7e5cc"
      },
      "execution_count": 34,
      "outputs": [
        {
          "output_type": "stream",
          "name": "stdout",
          "text": [
            "Epoch 1/50\n",
            "24/24 [==============================] - 13s 493ms/step - loss: 5.3623 - accuracy: 0.0967 - val_loss: 2.8397 - val_accuracy: 0.1005\n",
            "Epoch 2/50\n",
            "24/24 [==============================] - 12s 482ms/step - loss: 2.6603 - accuracy: 0.1682 - val_loss: 2.8366 - val_accuracy: 0.2116\n",
            "Epoch 3/50\n",
            "24/24 [==============================] - 13s 544ms/step - loss: 2.2965 - accuracy: 0.2053 - val_loss: 2.1366 - val_accuracy: 0.2222\n",
            "Epoch 4/50\n",
            "24/24 [==============================] - 12s 482ms/step - loss: 2.0885 - accuracy: 0.3020 - val_loss: 2.1586 - val_accuracy: 0.1587\n",
            "Epoch 5/50\n",
            "24/24 [==============================] - 12s 480ms/step - loss: 1.9564 - accuracy: 0.3152 - val_loss: 2.2363 - val_accuracy: 0.2804\n",
            "Epoch 6/50\n",
            "24/24 [==============================] - 12s 481ms/step - loss: 1.9105 - accuracy: 0.3616 - val_loss: 2.3306 - val_accuracy: 0.2434\n",
            "Epoch 7/50\n",
            "24/24 [==============================] - 11s 477ms/step - loss: 1.8359 - accuracy: 0.3497 - val_loss: 2.1236 - val_accuracy: 0.2910\n",
            "Epoch 8/50\n",
            "24/24 [==============================] - 12s 520ms/step - loss: 1.7772 - accuracy: 0.3854 - val_loss: 2.0557 - val_accuracy: 0.2910\n",
            "Epoch 9/50\n",
            "24/24 [==============================] - 11s 479ms/step - loss: 1.6435 - accuracy: 0.4450 - val_loss: 1.7985 - val_accuracy: 0.3122\n",
            "Epoch 10/50\n",
            "24/24 [==============================] - 12s 481ms/step - loss: 1.5252 - accuracy: 0.4596 - val_loss: 1.7680 - val_accuracy: 0.3545\n",
            "Epoch 11/50\n",
            "24/24 [==============================] - 11s 480ms/step - loss: 1.6150 - accuracy: 0.4503 - val_loss: 1.7079 - val_accuracy: 0.4074\n",
            "Epoch 12/50\n",
            "24/24 [==============================] - 11s 478ms/step - loss: 1.5676 - accuracy: 0.4464 - val_loss: 1.9642 - val_accuracy: 0.2804\n",
            "Epoch 13/50\n",
            "24/24 [==============================] - 12s 522ms/step - loss: 1.5801 - accuracy: 0.4450 - val_loss: 1.7889 - val_accuracy: 0.3757\n",
            "Epoch 14/50\n",
            "24/24 [==============================] - 11s 479ms/step - loss: 1.4512 - accuracy: 0.5126 - val_loss: 2.0272 - val_accuracy: 0.2646\n",
            "Epoch 15/50\n",
            "24/24 [==============================] - 12s 481ms/step - loss: 1.3559 - accuracy: 0.5245 - val_loss: 1.7935 - val_accuracy: 0.4021\n",
            "Epoch 16/50\n",
            "24/24 [==============================] - 12s 484ms/step - loss: 1.2047 - accuracy: 0.6119 - val_loss: 1.7963 - val_accuracy: 0.3915\n",
            "Epoch 17/50\n",
            "24/24 [==============================] - 12s 482ms/step - loss: 1.2895 - accuracy: 0.5497 - val_loss: 1.9582 - val_accuracy: 0.4021\n",
            "Epoch 18/50\n",
            "24/24 [==============================] - 11s 480ms/step - loss: 1.2409 - accuracy: 0.5881 - val_loss: 1.8605 - val_accuracy: 0.3810\n",
            "Epoch 19/50\n",
            "24/24 [==============================] - 12s 481ms/step - loss: 1.2340 - accuracy: 0.5669 - val_loss: 1.8808 - val_accuracy: 0.3651\n",
            "Epoch 20/50\n",
            "24/24 [==============================] - 11s 479ms/step - loss: 1.1740 - accuracy: 0.5934 - val_loss: 1.5888 - val_accuracy: 0.4921\n",
            "Epoch 21/50\n",
            "24/24 [==============================] - 11s 477ms/step - loss: 1.0006 - accuracy: 0.6993 - val_loss: 1.6545 - val_accuracy: 0.4074\n",
            "Epoch 22/50\n",
            "24/24 [==============================] - 12s 483ms/step - loss: 1.0912 - accuracy: 0.6490 - val_loss: 1.9910 - val_accuracy: 0.4392\n",
            "Epoch 23/50\n",
            "24/24 [==============================] - 12s 490ms/step - loss: 1.0965 - accuracy: 0.6106 - val_loss: 1.6766 - val_accuracy: 0.4233\n",
            "Epoch 24/50\n",
            "24/24 [==============================] - 12s 482ms/step - loss: 1.0083 - accuracy: 0.6490 - val_loss: 2.1103 - val_accuracy: 0.3545\n",
            "Epoch 25/50\n",
            "24/24 [==============================] - 12s 482ms/step - loss: 1.1462 - accuracy: 0.5947 - val_loss: 1.6637 - val_accuracy: 0.4127\n",
            "Epoch 26/50\n",
            "24/24 [==============================] - 12s 483ms/step - loss: 0.8299 - accuracy: 0.7656 - val_loss: 1.4797 - val_accuracy: 0.5344\n",
            "Epoch 27/50\n",
            "24/24 [==============================] - 11s 479ms/step - loss: 0.9299 - accuracy: 0.6967 - val_loss: 1.8089 - val_accuracy: 0.3810\n",
            "Epoch 28/50\n",
            "24/24 [==============================] - 15s 636ms/step - loss: 0.8758 - accuracy: 0.7086 - val_loss: 1.6566 - val_accuracy: 0.4286\n",
            "Epoch 29/50\n",
            "24/24 [==============================] - 12s 481ms/step - loss: 0.9039 - accuracy: 0.7113 - val_loss: 1.5677 - val_accuracy: 0.4233\n",
            "Epoch 30/50\n",
            "24/24 [==============================] - 11s 479ms/step - loss: 0.8342 - accuracy: 0.7377 - val_loss: 1.7141 - val_accuracy: 0.4074\n",
            "Epoch 31/50\n",
            "24/24 [==============================] - 11s 479ms/step - loss: 0.8488 - accuracy: 0.7179 - val_loss: 1.5486 - val_accuracy: 0.4868\n",
            "Epoch 32/50\n",
            "24/24 [==============================] - 11s 478ms/step - loss: 0.7261 - accuracy: 0.7828 - val_loss: 1.6516 - val_accuracy: 0.4286\n",
            "Epoch 33/50\n",
            "24/24 [==============================] - 12s 482ms/step - loss: 0.8912 - accuracy: 0.7258 - val_loss: 1.8356 - val_accuracy: 0.4497\n",
            "Epoch 34/50\n",
            "24/24 [==============================] - 11s 480ms/step - loss: 0.7445 - accuracy: 0.7775 - val_loss: 1.4847 - val_accuracy: 0.4815\n",
            "Epoch 35/50\n",
            "24/24 [==============================] - 11s 479ms/step - loss: 0.6488 - accuracy: 0.8305 - val_loss: 1.9940 - val_accuracy: 0.4127\n",
            "Epoch 36/50\n",
            "24/24 [==============================] - 11s 478ms/step - loss: 0.8495 - accuracy: 0.7430 - val_loss: 1.4524 - val_accuracy: 0.5132\n",
            "Epoch 37/50\n",
            "24/24 [==============================] - 11s 480ms/step - loss: 0.6197 - accuracy: 0.8185 - val_loss: 1.5363 - val_accuracy: 0.4709\n",
            "Epoch 38/50\n",
            "24/24 [==============================] - 12s 483ms/step - loss: 0.6595 - accuracy: 0.7960 - val_loss: 1.7747 - val_accuracy: 0.4286\n",
            "Epoch 39/50\n",
            "24/24 [==============================] - 11s 481ms/step - loss: 0.6093 - accuracy: 0.8477 - val_loss: 1.5886 - val_accuracy: 0.4656\n",
            "Epoch 40/50\n",
            "24/24 [==============================] - 12s 481ms/step - loss: 0.6981 - accuracy: 0.7616 - val_loss: 1.6094 - val_accuracy: 0.4286\n",
            "Epoch 41/50\n",
            "24/24 [==============================] - 11s 479ms/step - loss: 0.5338 - accuracy: 0.8834 - val_loss: 1.3657 - val_accuracy: 0.5450\n",
            "Epoch 42/50\n",
            "24/24 [==============================] - 11s 478ms/step - loss: 0.4864 - accuracy: 0.9073 - val_loss: 1.5124 - val_accuracy: 0.4392\n",
            "Epoch 43/50\n",
            "24/24 [==============================] - 11s 474ms/step - loss: 0.4902 - accuracy: 0.8874 - val_loss: 1.3947 - val_accuracy: 0.4550\n",
            "Epoch 44/50\n",
            "24/24 [==============================] - 11s 474ms/step - loss: 0.4698 - accuracy: 0.8993 - val_loss: 1.4308 - val_accuracy: 0.5344\n",
            "Epoch 45/50\n",
            "24/24 [==============================] - 11s 471ms/step - loss: 0.4459 - accuracy: 0.9060 - val_loss: 1.4822 - val_accuracy: 0.4762\n",
            "Epoch 46/50\n",
            "24/24 [==============================] - 11s 472ms/step - loss: 0.3773 - accuracy: 0.9404 - val_loss: 1.4192 - val_accuracy: 0.5185\n",
            "Epoch 47/50\n",
            "24/24 [==============================] - 11s 475ms/step - loss: 0.4343 - accuracy: 0.9033 - val_loss: 1.5918 - val_accuracy: 0.4444\n",
            "Epoch 48/50\n",
            "24/24 [==============================] - 11s 478ms/step - loss: 0.4329 - accuracy: 0.8914 - val_loss: 1.4462 - val_accuracy: 0.4815\n",
            "Epoch 49/50\n",
            "24/24 [==============================] - 12s 480ms/step - loss: 0.3533 - accuracy: 0.9510 - val_loss: 1.7394 - val_accuracy: 0.4868\n",
            "Epoch 50/50\n",
            "24/24 [==============================] - 11s 479ms/step - loss: 0.3880 - accuracy: 0.9351 - val_loss: 1.3929 - val_accuracy: 0.5185\n"
          ]
        }
      ]
    },
    {
      "cell_type": "code",
      "source": [
        "def plot_history(history):\n",
        "\n",
        "  plt.figure(figsize=(6,3))\n",
        "  #create accuracy sublpot\n",
        "  plt.plot(history.history[\"accuracy\"], label=\"train accuracy\")\n",
        "  plt.plot(history.history[\"val_accuracy\"], label=\"test accuracy\")\n",
        "  plt.ylabel('Accuracy')\n",
        "  plt.xlabel('Epoch')\n",
        "  #axs[0].legend(loc=\"lower right\")\n",
        "  plt.title('Accuracy Comparison')\n",
        "  plt.legend()\n",
        "  plt.tight_layout()\n",
        "  plt.show()\n",
        "\n",
        "  plt.figure(figsize=(6,3))\n",
        "  #create error sublpot\n",
        "  plt.plot(history.history[\"loss\"], label=\"train error\")\n",
        "  plt.plot(history.history[\"val_loss\"], label=\"test error\")\n",
        "  plt.ylabel('Error')\n",
        "  plt.xlabel('Epoch')\n",
        "  #axs[1]wlegend(loc=\"upper right\")\n",
        "  plt.title('Error Comparison')\n",
        "  plt.legend()\n",
        "  plt.tight_layout()\n",
        "  plt.show()"
      ],
      "metadata": {
        "id": "AM80Mvy9orN-"
      },
      "execution_count": 35,
      "outputs": []
    },
    {
      "cell_type": "code",
      "source": [
        "plot_history(history)"
      ],
      "metadata": {
        "colab": {
          "base_uri": "https://localhost:8080/",
          "height": 433
        },
        "id": "JK07aysz7X80",
        "outputId": "39566461-64d5-4da2-d5a6-b5a0438b8491"
      },
      "execution_count": 36,
      "outputs": [
        {
          "output_type": "display_data",
          "data": {
            "text/plain": [
              "<Figure size 432x216 with 1 Axes>"
            ],
            "image/png": "[encoded data removed]"
          },
          "metadata": {
            "needs_background": "light"
          }
        },
        {
          "output_type": "display_data",
          "data": {
            "text/plain": [
              "<Figure size 432x216 with 1 Axes>"
            ],
            "image/png": "[encoded data removed]"
          },
          "metadata": {
            "needs_background": "light"
          }
        }
      ]
    },
    {
      "cell_type": "code",
      "source": [
        "#not bad, but there is overfitting. "
      ],
      "metadata": {
        "id": "q4Rq_DaNotSd"
      },
      "execution_count": 37,
      "outputs": []
    },
    {
      "cell_type": "code",
      "source": [
        "X_train, X_test, y_train, y_test = train_test_split(X, y, stratify=y, test_size=0.2)"
      ],
      "metadata": {
        "id": "rcKY1MQxMPpT"
      },
      "execution_count": 61,
      "outputs": []
    },
    {
      "cell_type": "code",
      "source": [
        "print(X_train.shape)"
      ],
      "metadata": {
        "colab": {
          "base_uri": "https://localhost:8080/"
        },
        "id": "g5YjvKfd6vJW",
        "outputId": "c243e8dd-9abc-49c9-b4a5-ffb310162198"
      },
      "execution_count": 51,
      "outputs": [
        {
          "output_type": "stream",
          "name": "stdout",
          "text": [
            "(755, 128, 1293)\n"
          ]
        }
      ]
    },
    {
      "cell_type": "code",
      "source": [
        "print(X_test.shape)"
      ],
      "metadata": {
        "colab": {
          "base_uri": "https://localhost:8080/"
        },
        "id": "z6QUQMmk6wRM",
        "outputId": "7eb72008-af7a-46fa-bce1-98c78de58651"
      },
      "execution_count": 52,
      "outputs": [
        {
          "output_type": "stream",
          "name": "stdout",
          "text": [
            "(189, 128, 1293)\n"
          ]
        }
      ]
    },
    {
      "cell_type": "code",
      "source": [
        "X_train /= -80\n",
        "X_test /= -80"
      ],
      "metadata": {
        "id": "d_RqziL1__vV"
      },
      "execution_count": 62,
      "outputs": []
    },
    {
      "cell_type": "code",
      "source": [
        "X_train = X_train[..., np.newaxis]\n",
        "X_test = X_test[..., np.newaxis]"
      ],
      "metadata": {
        "id": "MOZHNI_56tlH"
      },
      "execution_count": 63,
      "outputs": []
    },
    {
      "cell_type": "code",
      "source": [
        "print(X_train.shape)"
      ],
      "metadata": {
        "colab": {
          "base_uri": "https://localhost:8080/"
        },
        "id": "C8nKqZJB_ySp",
        "outputId": "880b0923-0996-4607-9cbb-e87bff329200"
      },
      "execution_count": 64,
      "outputs": [
        {
          "output_type": "stream",
          "name": "stdout",
          "text": [
            "(755, 128, 1293, 1)\n"
          ]
        }
      ]
    },
    {
      "cell_type": "code",
      "source": [
        "print(X_test.shape)"
      ],
      "metadata": {
        "colab": {
          "base_uri": "https://localhost:8080/"
        },
        "id": "ioWRvMRO_000",
        "outputId": "3ea080bd-129a-4c6a-dc75-d2a436cdda50"
      },
      "execution_count": 65,
      "outputs": [
        {
          "output_type": "stream",
          "name": "stdout",
          "text": [
            "(189, 128, 1293, 1)\n"
          ]
        }
      ]
    },
    {
      "cell_type": "code",
      "source": [
        "y_train = to_categorical(y_train, 10)\n",
        "y_test = to_categorical(y_test, 10)"
      ],
      "metadata": {
        "id": "noiAAaPM6zWE"
      },
      "execution_count": 66,
      "outputs": []
    },
    {
      "cell_type": "code",
      "source": [
        "#FFNN\n",
        "model = Sequential()\n",
        "\n",
        "# Adding a flattened layer to input our image data\n",
        "model.add(keras.layers.Flatten(input_shape = (128, 1293, 1)))\n",
        "\n",
        "# Adding a dense layer with 128 neurons\n",
        "model.add(keras.layers.Dense(128, activation='relu'))\n",
        "\n",
        "# Adding a dense layer with 128 neurons\n",
        "model.add(keras.layers.Dense(128, activation='relu'))\n",
        "\n",
        "# Adding a dense layer with 64 neurons\n",
        "model.add(keras.layers.Dense(64, activation='relu'))\n",
        "\n",
        "# Adding an output layer\n",
        "model.add(keras.layers.Dense(10, activation='softmax'))\n"
      ],
      "metadata": {
        "id": "iOJnKtUa6531"
      },
      "execution_count": 68,
      "outputs": []
    },
    {
      "cell_type": "code",
      "source": [
        "# Compiling our neural network\n",
        "model.compile(loss='categorical_crossentropy',optimizer='adam', metrics=['accuracy'])\n"
      ],
      "metadata": {
        "id": "z7yTq6Na7Ndx"
      },
      "execution_count": 69,
      "outputs": []
    },
    {
      "cell_type": "code",
      "source": [
        "# Fitting our neural network\n",
        "history = model.fit(X_train, y_train, batch_size=16, validation_data=(X_test, y_test), epochs=40)"
      ],
      "metadata": {
        "colab": {
          "base_uri": "https://localhost:8080/"
        },
        "id": "tz1fZJU17PVO",
        "outputId": "3fcd9871-cdaa-494c-eb10-b50a21830a2d"
      },
      "execution_count": 70,
      "outputs": [
        {
          "output_type": "stream",
          "name": "stdout",
          "text": [
            "Epoch 1/40\n",
            "48/48 [==============================] - 6s 111ms/step - loss: 25.6317 - accuracy: 0.0993 - val_loss: 3.9848 - val_accuracy: 0.1164\n",
            "Epoch 2/40\n",
            "48/48 [==============================] - 5s 103ms/step - loss: 3.3551 - accuracy: 0.1735 - val_loss: 4.5569 - val_accuracy: 0.0899\n",
            "Epoch 3/40\n",
            "48/48 [==============================] - 5s 102ms/step - loss: 2.6108 - accuracy: 0.2450 - val_loss: 2.6504 - val_accuracy: 0.1640\n",
            "Epoch 4/40\n",
            "48/48 [==============================] - 5s 103ms/step - loss: 2.3870 - accuracy: 0.2636 - val_loss: 2.4122 - val_accuracy: 0.2751\n",
            "Epoch 5/40\n",
            "48/48 [==============================] - 5s 106ms/step - loss: 2.7178 - accuracy: 0.2662 - val_loss: 2.5358 - val_accuracy: 0.2910\n",
            "Epoch 6/40\n",
            "48/48 [==============================] - 5s 104ms/step - loss: 2.5780 - accuracy: 0.2331 - val_loss: 2.7648 - val_accuracy: 0.1958\n",
            "Epoch 7/40\n",
            "48/48 [==============================] - 5s 102ms/step - loss: 2.4272 - accuracy: 0.2397 - val_loss: 4.1940 - val_accuracy: 0.1376\n",
            "Epoch 8/40\n",
            "48/48 [==============================] - 5s 103ms/step - loss: 2.3201 - accuracy: 0.2596 - val_loss: 2.0682 - val_accuracy: 0.2804\n",
            "Epoch 9/40\n",
            "48/48 [==============================] - 5s 103ms/step - loss: 2.1160 - accuracy: 0.2609 - val_loss: 1.8341 - val_accuracy: 0.3598\n",
            "Epoch 10/40\n",
            "48/48 [==============================] - 5s 105ms/step - loss: 1.8447 - accuracy: 0.3152 - val_loss: 1.9549 - val_accuracy: 0.3386\n",
            "Epoch 11/40\n",
            "48/48 [==============================] - 5s 110ms/step - loss: 2.0325 - accuracy: 0.2874 - val_loss: 2.3071 - val_accuracy: 0.1005\n",
            "Epoch 12/40\n",
            "48/48 [==============================] - 7s 141ms/step - loss: 1.9470 - accuracy: 0.2927 - val_loss: 1.9978 - val_accuracy: 0.2698\n",
            "Epoch 13/40\n",
            "48/48 [==============================] - 6s 115ms/step - loss: 1.8044 - accuracy: 0.3285 - val_loss: 3.1384 - val_accuracy: 0.1587\n",
            "Epoch 14/40\n",
            "48/48 [==============================] - 7s 137ms/step - loss: 1.7633 - accuracy: 0.3377 - val_loss: 2.1283 - val_accuracy: 0.3122\n",
            "Epoch 15/40\n",
            "48/48 [==============================] - 6s 129ms/step - loss: 2.1119 - accuracy: 0.3046 - val_loss: 2.4964 - val_accuracy: 0.2328\n",
            "Epoch 16/40\n",
            "48/48 [==============================] - 7s 141ms/step - loss: 2.0186 - accuracy: 0.2570 - val_loss: 1.9183 - val_accuracy: 0.2910\n",
            "Epoch 17/40\n",
            "48/48 [==============================] - 5s 108ms/step - loss: 1.6359 - accuracy: 0.3841 - val_loss: 1.6958 - val_accuracy: 0.3968\n",
            "Epoch 18/40\n",
            "48/48 [==============================] - 6s 123ms/step - loss: 1.6164 - accuracy: 0.4013 - val_loss: 1.8676 - val_accuracy: 0.3333\n",
            "Epoch 19/40\n",
            "48/48 [==============================] - 8s 156ms/step - loss: 1.6168 - accuracy: 0.4026 - val_loss: 1.9583 - val_accuracy: 0.3122\n",
            "Epoch 20/40\n",
            "48/48 [==============================] - 8s 160ms/step - loss: 1.4780 - accuracy: 0.4238 - val_loss: 1.6975 - val_accuracy: 0.3651\n",
            "Epoch 21/40\n",
            "48/48 [==============================] - 7s 153ms/step - loss: 1.5154 - accuracy: 0.4146 - val_loss: 2.0714 - val_accuracy: 0.2751\n",
            "Epoch 22/40\n",
            "48/48 [==============================] - 8s 160ms/step - loss: 1.5208 - accuracy: 0.4026 - val_loss: 2.0840 - val_accuracy: 0.3069\n",
            "Epoch 23/40\n",
            "48/48 [==============================] - 6s 125ms/step - loss: 1.9709 - accuracy: 0.2967 - val_loss: 2.5238 - val_accuracy: 0.2328\n",
            "Epoch 24/40\n",
            "48/48 [==============================] - 7s 145ms/step - loss: 1.8409 - accuracy: 0.3219 - val_loss: 1.8337 - val_accuracy: 0.3333\n",
            "Epoch 25/40\n",
            "48/48 [==============================] - 7s 152ms/step - loss: 1.5510 - accuracy: 0.4159 - val_loss: 1.7553 - val_accuracy: 0.3598\n",
            "Epoch 26/40\n",
            "48/48 [==============================] - 5s 105ms/step - loss: 1.4389 - accuracy: 0.4278 - val_loss: 1.6591 - val_accuracy: 0.3598\n",
            "Epoch 27/40\n",
            "48/48 [==============================] - 5s 106ms/step - loss: 1.4259 - accuracy: 0.4371 - val_loss: 1.7352 - val_accuracy: 0.3915\n",
            "Epoch 28/40\n",
            "48/48 [==============================] - 5s 103ms/step - loss: 1.3903 - accuracy: 0.4596 - val_loss: 1.9757 - val_accuracy: 0.3386\n",
            "Epoch 29/40\n",
            "48/48 [==============================] - 7s 139ms/step - loss: 1.5488 - accuracy: 0.4371 - val_loss: 2.2372 - val_accuracy: 0.2593\n",
            "Epoch 30/40\n",
            "48/48 [==============================] - 9s 177ms/step - loss: 1.6049 - accuracy: 0.3828 - val_loss: 2.1472 - val_accuracy: 0.3228\n",
            "Epoch 31/40\n",
            "48/48 [==============================] - 8s 157ms/step - loss: 1.6073 - accuracy: 0.3921 - val_loss: 1.7749 - val_accuracy: 0.3862\n",
            "Epoch 32/40\n",
            "48/48 [==============================] - 7s 139ms/step - loss: 1.3365 - accuracy: 0.4861 - val_loss: 1.7989 - val_accuracy: 0.3915\n",
            "Epoch 33/40\n",
            "48/48 [==============================] - 5s 105ms/step - loss: 1.3495 - accuracy: 0.4715 - val_loss: 1.6580 - val_accuracy: 0.4074\n",
            "Epoch 34/40\n",
            "48/48 [==============================] - 5s 105ms/step - loss: 1.3247 - accuracy: 0.4874 - val_loss: 1.6772 - val_accuracy: 0.3968\n",
            "Epoch 35/40\n",
            "48/48 [==============================] - 5s 105ms/step - loss: 1.4482 - accuracy: 0.4530 - val_loss: 1.7531 - val_accuracy: 0.3968\n",
            "Epoch 36/40\n",
            "48/48 [==============================] - 5s 103ms/step - loss: 1.5991 - accuracy: 0.4318 - val_loss: 1.7624 - val_accuracy: 0.3386\n",
            "Epoch 37/40\n",
            "48/48 [==============================] - 5s 104ms/step - loss: 1.3102 - accuracy: 0.4993 - val_loss: 1.6818 - val_accuracy: 0.3810\n",
            "Epoch 38/40\n",
            "48/48 [==============================] - 5s 103ms/step - loss: 1.2494 - accuracy: 0.5046 - val_loss: 1.6426 - val_accuracy: 0.4021\n",
            "Epoch 39/40\n",
            "48/48 [==============================] - 5s 104ms/step - loss: 1.1452 - accuracy: 0.5629 - val_loss: 2.0265 - val_accuracy: 0.3545\n",
            "Epoch 40/40\n",
            "48/48 [==============================] - 5s 105ms/step - loss: 1.2836 - accuracy: 0.5152 - val_loss: 1.9465 - val_accuracy: 0.3439\n"
          ]
        }
      ]
    },
    {
      "cell_type": "code",
      "source": [
        "plot_history(history)"
      ],
      "metadata": {
        "colab": {
          "base_uri": "https://localhost:8080/",
          "height": 433
        },
        "id": "r0YBZBEbAwAp",
        "outputId": "70f9563a-494a-41a9-ca6d-8afe2a019590"
      },
      "execution_count": 71,
      "outputs": [
        {
          "output_type": "display_data",
          "data": {
            "text/plain": [
              "<Figure size 432x216 with 1 Axes>"
            ],
            "image/png": "[encoded data removed]"
          },
          "metadata": {
            "needs_background": "light"
          }
        },
        {
          "output_type": "display_data",
          "data": {
            "text/plain": [
              "<Figure size 432x216 with 1 Axes>"
            ],
            "image/png": "[encoded data removed]"
          },
          "metadata": {
            "needs_background": "light"
          }
        }
      ]
    },
    {
      "cell_type": "code",
      "source": [
        "X_train, X_test, y_train, y_test = train_test_split(X, y, stratify=y, test_size=0.2)"
      ],
      "metadata": {
        "id": "tDvxo8L6Bdwu"
      },
      "execution_count": 79,
      "outputs": []
    },
    {
      "cell_type": "code",
      "source": [
        "X_train /= -80\n",
        "X_test /= -80"
      ],
      "metadata": {
        "id": "pvTFohVKMT7Y"
      },
      "execution_count": 80,
      "outputs": []
    },
    {
      "cell_type": "code",
      "source": [
        "X_train = X_train[..., np.newaxis]\n",
        "X_test = X_test[..., np.newaxis]"
      ],
      "metadata": {
        "id": "9m4jRGSPBbkL"
      },
      "execution_count": 81,
      "outputs": []
    },
    {
      "cell_type": "code",
      "source": [
        "X_train.shape"
      ],
      "metadata": {
        "colab": {
          "base_uri": "https://localhost:8080/"
        },
        "id": "3GO8fjj_Mcd_",
        "outputId": "82e3d0ef-947c-4c77-e3da-18dca29fd8ef"
      },
      "execution_count": 82,
      "outputs": [
        {
          "output_type": "execute_result",
          "data": {
            "text/plain": [
              "(755, 128, 1293, 1)"
            ]
          },
          "metadata": {},
          "execution_count": 82
        }
      ]
    },
    {
      "cell_type": "code",
      "source": [
        "X_test.shape"
      ],
      "metadata": {
        "colab": {
          "base_uri": "https://localhost:8080/"
        },
        "id": "ICeSHluPAjEq",
        "outputId": "30267414-a85e-4630-af72-4cb4fc03f87a"
      },
      "execution_count": 83,
      "outputs": [
        {
          "output_type": "execute_result",
          "data": {
            "text/plain": [
              "(189, 128, 1293, 1)"
            ]
          },
          "metadata": {},
          "execution_count": 83
        }
      ]
    },
    {
      "cell_type": "code",
      "source": [
        "y_train = to_categorical(y_train, 10)\n",
        "y_test = to_categorical(y_test, 10)"
      ],
      "metadata": {
        "id": "_jMYWhhdMnig"
      },
      "execution_count": 84,
      "outputs": []
    },
    {
      "cell_type": "code",
      "source": [
        "# Initiating an empty neural network\n",
        "cnn_model = Sequential()\n",
        "\n",
        "# Adding convolutional layer\n",
        "cnn_model.add(keras.layers.Conv2D(filters=16,\n",
        "                     kernel_size=(3,3),\n",
        "                     activation='relu',\n",
        "                     input_shape=(128,1293,1)))\n",
        "\n",
        "# Adding max pooling layer\n",
        "cnn_model.add(keras.layers.MaxPooling2D(pool_size=(2,4)))\n",
        "\n",
        "# Adding convolutional layer\n",
        "cnn_model.add(keras.layers.Conv2D(filters=32,\n",
        "                     kernel_size=(3,3),\n",
        "                     activation='relu'))\n",
        "\n",
        "# Adding max pooling layer\n",
        "cnn_model.add(keras.layers.MaxPooling2D(pool_size=(2,4)))\n",
        "\n",
        "# Adding a flattened layer to input our image data\n",
        "cnn_model.add(keras.layers.Flatten())\n",
        "\n",
        "# Adding a dense layer with 64 neurons\n",
        "cnn_model.add(keras.layers.Dense(64, activation='relu'))\n",
        "\n",
        "# Adding a dropout layer for regularization\n",
        "cnn_model.add(keras.layers.Dropout(0.25))\n",
        "\n",
        "# Adding an output layer\n",
        "cnn_model.add(keras.layers.Dense(10, activation='softmax'))\n"
      ],
      "metadata": {
        "id": "vUNBOKwdNHFW"
      },
      "execution_count": 86,
      "outputs": []
    },
    {
      "cell_type": "code",
      "source": [
        "# Compiling our neural network\n",
        "cnn_model.compile(loss='categorical_crossentropy',\n",
        "              optimizer='adam',\n",
        "              metrics=['accuracy'])\n",
        "\n"
      ],
      "metadata": {
        "id": "aPSWDZBsNfK9"
      },
      "execution_count": 87,
      "outputs": []
    },
    {
      "cell_type": "code",
      "source": [
        "history = cnn_model.fit(X_train,\n",
        "                        y_train, \n",
        "                        batch_size=16,\n",
        "                        validation_data=(X_test, y_test),\n",
        "                        epochs=15)"
      ],
      "metadata": {
        "colab": {
          "base_uri": "https://localhost:8080/"
        },
        "id": "W0bdTWnTU2oE",
        "outputId": "41a16020-046b-4665-df5c-cf6013d167d3"
      },
      "execution_count": 88,
      "outputs": [
        {
          "output_type": "stream",
          "name": "stdout",
          "text": [
            "Epoch 1/15\n",
            "48/48 [==============================] - 57s 1s/step - loss: 2.3949 - accuracy: 0.1166 - val_loss: 2.2522 - val_accuracy: 0.0899\n",
            "Epoch 2/15\n",
            "48/48 [==============================] - 55s 1s/step - loss: 2.1477 - accuracy: 0.1907 - val_loss: 2.0634 - val_accuracy: 0.3386\n",
            "Epoch 3/15\n",
            "48/48 [==============================] - 55s 1s/step - loss: 1.8707 - accuracy: 0.3192 - val_loss: 1.7400 - val_accuracy: 0.3915\n",
            "Epoch 4/15\n",
            "48/48 [==============================] - 55s 1s/step - loss: 1.5618 - accuracy: 0.4715 - val_loss: 1.6991 - val_accuracy: 0.4656\n",
            "Epoch 5/15\n",
            "48/48 [==============================] - 55s 1s/step - loss: 1.2867 - accuracy: 0.5311 - val_loss: 1.3059 - val_accuracy: 0.6085\n",
            "Epoch 6/15\n",
            "48/48 [==============================] - 57s 1s/step - loss: 0.9627 - accuracy: 0.6702 - val_loss: 1.2582 - val_accuracy: 0.5767\n",
            "Epoch 7/15\n",
            "48/48 [==============================] - 56s 1s/step - loss: 0.7895 - accuracy: 0.7417 - val_loss: 1.2882 - val_accuracy: 0.5979\n",
            "Epoch 8/15\n",
            "48/48 [==============================] - 56s 1s/step - loss: 0.6311 - accuracy: 0.7921 - val_loss: 1.0052 - val_accuracy: 0.6614\n",
            "Epoch 9/15\n",
            "48/48 [==============================] - 56s 1s/step - loss: 0.4456 - accuracy: 0.8623 - val_loss: 1.0954 - val_accuracy: 0.6508\n",
            "Epoch 10/15\n",
            "48/48 [==============================] - 56s 1s/step - loss: 0.3629 - accuracy: 0.8874 - val_loss: 1.1319 - val_accuracy: 0.6190\n",
            "Epoch 11/15\n",
            "48/48 [==============================] - 59s 1s/step - loss: 0.3211 - accuracy: 0.9033 - val_loss: 1.0508 - val_accuracy: 0.6296\n",
            "Epoch 12/15\n",
            "48/48 [==============================] - 56s 1s/step - loss: 0.2771 - accuracy: 0.9099 - val_loss: 1.3288 - val_accuracy: 0.6190\n",
            "Epoch 13/15\n",
            "48/48 [==============================] - 56s 1s/step - loss: 0.2306 - accuracy: 0.9219 - val_loss: 1.0194 - val_accuracy: 0.6878\n",
            "Epoch 14/15\n",
            "48/48 [==============================] - 62s 1s/step - loss: 0.1888 - accuracy: 0.9417 - val_loss: 1.0165 - val_accuracy: 0.6508\n",
            "Epoch 15/15\n",
            "48/48 [==============================] - 56s 1s/step - loss: 0.1747 - accuracy: 0.9457 - val_loss: 1.1264 - val_accuracy: 0.6402\n"
          ]
        }
      ]
    },
    {
      "cell_type": "code",
      "source": [
        "plot_history(history)"
      ],
      "metadata": {
        "colab": {
          "base_uri": "https://localhost:8080/",
          "height": 433
        },
        "id": "q-MXo7RITWGf",
        "outputId": "f3469cf3-30d1-47d9-8c75-5e7cbd4279e1"
      },
      "execution_count": 89,
      "outputs": [
        {
          "output_type": "display_data",
          "data": {
            "text/plain": [
              "<Figure size 432x216 with 1 Axes>"
            ],
            "image/png": "[encoded data removed]"
          },
          "metadata": {
            "needs_background": "light"
          }
        },
        {
          "output_type": "display_data",
          "data": {
            "text/plain": [
              "<Figure size 432x216 with 1 Axes>"
            ],
            "image/png": "[encoded data removed]"
          },
          "metadata": {
            "needs_background": "light"
          }
        }
      ]
    },
    {
      "cell_type": "code",
      "source": [
        "#a bit overfit but this works well!!"
      ],
      "metadata": {
        "id": "vLm0V0ddqzAU"
      },
      "execution_count": 24,
      "outputs": []
    },
    {
      "cell_type": "code",
      "source": [
        "labels_dict = {\n",
        "    0: 'blues',\n",
        "    1: 'classical',\n",
        "    2: 'country',\n",
        "    3: 'disco',\n",
        "    4: 'hiphop',\n",
        "    5: 'jazz',\n",
        "    6: 'metal',\n",
        "    7: 'pop',\n",
        "    8: 'reggae',\n",
        "    9: 'rock'\n",
        "}"
      ],
      "metadata": {
        "id": "B2oqtq84HPa_"
      },
      "execution_count": 105,
      "outputs": []
    },
    {
      "cell_type": "code",
      "source": [
        "predictions = cnn_model.predict(X_test, verbose=1)"
      ],
      "metadata": {
        "colab": {
          "base_uri": "https://localhost:8080/"
        },
        "id": "SBOJjj4xFxOk",
        "outputId": "1e8b796e-21c5-441e-b414-920d29eafbef"
      },
      "execution_count": 93,
      "outputs": [
        {
          "output_type": "stream",
          "name": "stdout",
          "text": [
            "6/6 [==============================] - 5s 666ms/step\n"
          ]
        }
      ]
    },
    {
      "cell_type": "code",
      "source": [
        "cf_matrix = confusion_matrix(np.argmax(y_test, 1), np.argmax(predictions, 1))\n",
        "cf_matrix"
      ],
      "metadata": {
        "colab": {
          "base_uri": "https://localhost:8080/"
        },
        "id": "MfZInERpGOMz",
        "outputId": "cef4e964-3661-4637-eaad-d81d90d726f8"
      },
      "execution_count": 102,
      "outputs": [
        {
          "output_type": "execute_result",
          "data": {
            "text/plain": [
              "array([[12,  0,  2,  4,  0,  1,  1,  0,  0,  0],\n",
              "       [ 0, 18,  1,  0,  0,  0,  0,  0,  0,  0],\n",
              "       [ 4,  1,  7,  1,  0,  0,  0,  3,  0,  2],\n",
              "       [ 1,  0,  1, 13,  1,  0,  0,  1,  0,  1],\n",
              "       [ 1,  0,  0,  1, 13,  0,  1,  0,  0,  0],\n",
              "       [ 5,  4,  0,  0,  0, 10,  0,  0,  0,  0],\n",
              "       [ 0,  0,  0,  0,  0,  0, 20,  0,  0,  0],\n",
              "       [ 1,  0,  0,  4,  0,  0,  0, 15,  0,  0],\n",
              "       [ 3,  0,  0,  2,  3,  0,  0,  1, 11,  0],\n",
              "       [ 6,  0,  3,  3,  0,  2,  0,  3,  0,  2]])"
            ]
          },
          "metadata": {},
          "execution_count": 102
        }
      ]
    },
    {
      "cell_type": "code",
      "source": [
        "confusion_df = pd.DataFrame(cf_matrix)\n",
        "confusion_df"
      ],
      "metadata": {
        "colab": {
          "base_uri": "https://localhost:8080/",
          "height": 363
        },
        "id": "XXAtFAraGX94",
        "outputId": "fb421fb8-54a4-42b7-91f2-e23e4e1a852a"
      },
      "execution_count": 103,
      "outputs": [
        {
          "output_type": "execute_result",
          "data": {
            "text/plain": [
              "    0   1  2   3   4   5   6   7   8  9\n",
              "0  12   0  2   4   0   1   1   0   0  0\n",
              "1   0  18  1   0   0   0   0   0   0  0\n",
              "2   4   1  7   1   0   0   0   3   0  2\n",
              "3   1   0  1  13   1   0   0   1   0  1\n",
              "4   1   0  0   1  13   0   1   0   0  0\n",
              "5   5   4  0   0   0  10   0   0   0  0\n",
              "6   0   0  0   0   0   0  20   0   0  0\n",
              "7   1   0  0   4   0   0   0  15   0  0\n",
              "8   3   0  0   2   3   0   0   1  11  0\n",
              "9   6   0  3   3   0   2   0   3   0  2"
            ],
            "text/html": [
              "\n",
              "  <div id=\"df-4fd36f99-3fa2-4382-a07c-f70ba28582e3\">\n",
              "    <div class=\"colab-df-container\">\n",
              "      <div>\n",
              "<style scoped>\n",
              "    .dataframe tbody tr th:only-of-type {\n",
              "        vertical-align: middle;\n",
              "    }\n",
              "\n",
              "    .dataframe tbody tr th {\n",
              "        vertical-align: top;\n",
              "    }\n",
              "\n",
              "    .dataframe thead th {\n",
              "        text-align: right;\n",
              "    }\n",
              "</style>\n",
              "<table border=\"1\" class=\"dataframe\">\n",
              "  <thead>\n",
              "    <tr style=\"text-align: right;\">\n",
              "      <th></th>\n",
              "      <th>0</th>\n",
              "      <th>1</th>\n",
              "      <th>2</th>\n",
              "      <th>3</th>\n",
              "      <th>4</th>\n",
              "      <th>5</th>\n",
              "      <th>6</th>\n",
              "      <th>7</th>\n",
              "      <th>8</th>\n",
              "      <th>9</th>\n",
              "    </tr>\n",
              "  </thead>\n",
              "  <tbody>\n",
              "    <tr>\n",
              "      <th>0</th>\n",
              "      <td>12</td>\n",
              "      <td>0</td>\n",
              "      <td>2</td>\n",
              "      <td>4</td>\n",
              "      <td>0</td>\n",
              "      <td>1</td>\n",
              "      <td>1</td>\n",
              "      <td>0</td>\n",
              "      <td>0</td>\n",
              "      <td>0</td>\n",
              "    </tr>\n",
              "    <tr>\n",
              "      <th>1</th>\n",
              "      <td>0</td>\n",
              "      <td>18</td>\n",
              "      <td>1</td>\n",
              "      <td>0</td>\n",
              "      <td>0</td>\n",
              "      <td>0</td>\n",
              "      <td>0</td>\n",
              "      <td>0</td>\n",
              "      <td>0</td>\n",
              "      <td>0</td>\n",
              "    </tr>\n",
              "    <tr>\n",
              "      <th>2</th>\n",
              "      <td>4</td>\n",
              "      <td>1</td>\n",
              "      <td>7</td>\n",
              "      <td>1</td>\n",
              "      <td>0</td>\n",
              "      <td>0</td>\n",
              "      <td>0</td>\n",
              "      <td>3</td>\n",
              "      <td>0</td>\n",
              "      <td>2</td>\n",
              "    </tr>\n",
              "    <tr>\n",
              "      <th>3</th>\n",
              "      <td>1</td>\n",
              "      <td>0</td>\n",
              "      <td>1</td>\n",
              "      <td>13</td>\n",
              "      <td>1</td>\n",
              "      <td>0</td>\n",
              "      <td>0</td>\n",
              "      <td>1</td>\n",
              "      <td>0</td>\n",
              "      <td>1</td>\n",
              "    </tr>\n",
              "    <tr>\n",
              "      <th>4</th>\n",
              "      <td>1</td>\n",
              "      <td>0</td>\n",
              "      <td>0</td>\n",
              "      <td>1</td>\n",
              "      <td>13</td>\n",
              "      <td>0</td>\n",
              "      <td>1</td>\n",
              "      <td>0</td>\n",
              "      <td>0</td>\n",
              "      <td>0</td>\n",
              "    </tr>\n",
              "    <tr>\n",
              "      <th>5</th>\n",
              "      <td>5</td>\n",
              "      <td>4</td>\n",
              "      <td>0</td>\n",
              "      <td>0</td>\n",
              "      <td>0</td>\n",
              "      <td>10</td>\n",
              "      <td>0</td>\n",
              "      <td>0</td>\n",
              "      <td>0</td>\n",
              "      <td>0</td>\n",
              "    </tr>\n",
              "    <tr>\n",
              "      <th>6</th>\n",
              "      <td>0</td>\n",
              "      <td>0</td>\n",
              "      <td>0</td>\n",
              "      <td>0</td>\n",
              "      <td>0</td>\n",
              "      <td>0</td>\n",
              "      <td>20</td>\n",
              "      <td>0</td>\n",
              "      <td>0</td>\n",
              "      <td>0</td>\n",
              "    </tr>\n",
              "    <tr>\n",
              "      <th>7</th>\n",
              "      <td>1</td>\n",
              "      <td>0</td>\n",
              "      <td>0</td>\n",
              "      <td>4</td>\n",
              "      <td>0</td>\n",
              "      <td>0</td>\n",
              "      <td>0</td>\n",
              "      <td>15</td>\n",
              "      <td>0</td>\n",
              "      <td>0</td>\n",
              "    </tr>\n",
              "    <tr>\n",
              "      <th>8</th>\n",
              "      <td>3</td>\n",
              "      <td>0</td>\n",
              "      <td>0</td>\n",
              "      <td>2</td>\n",
              "      <td>3</td>\n",
              "      <td>0</td>\n",
              "      <td>0</td>\n",
              "      <td>1</td>\n",
              "      <td>11</td>\n",
              "      <td>0</td>\n",
              "    </tr>\n",
              "    <tr>\n",
              "      <th>9</th>\n",
              "      <td>6</td>\n",
              "      <td>0</td>\n",
              "      <td>3</td>\n",
              "      <td>3</td>\n",
              "      <td>0</td>\n",
              "      <td>2</td>\n",
              "      <td>0</td>\n",
              "      <td>3</td>\n",
              "      <td>0</td>\n",
              "      <td>2</td>\n",
              "    </tr>\n",
              "  </tbody>\n",
              "</table>\n",
              "</div>\n",
              "      <button class=\"colab-df-convert\" onclick=\"convertToInteractive('df-4fd36f99-3fa2-4382-a07c-f70ba28582e3')\"\n",
              "              title=\"Convert this dataframe to an interactive table.\"\n",
              "              style=\"display:none;\">\n",
              "        \n",
              "  <svg xmlns=\"http://www.w3.org/2000/svg\" height=\"24px\"viewBox=\"0 0 24 24\"\n",
              "       width=\"24px\">\n",
              "    <path d=\"M0 0h24v24H0V0z\" fill=\"none\"/>\n",
              "    <path d=\"M18.56 5.44l.94 2.06.94-2.06 2.06-.94-2.06-.94-.94-2.06-.94 2.06-2.06.94zm-11 1L8.5 8.5l.94-2.06 2.06-.94-2.06-.94L8.5 2.5l-.94 2.06-2.06.94zm10 10l.94 2.06.94-2.06 2.06-.94-2.06-.94-.94-2.06-.94 2.06-2.06.94z\"/><path d=\"M17.41 7.96l-1.37-1.37c-.4-.4-.92-.59-1.43-.59-.52 0-1.04.2-1.43.59L10.3 9.45l-7.72 7.72c-.78.78-.78 2.05 0 2.83L4 21.41c.39.39.9.59 1.41.59.51 0 1.02-.2 1.41-.59l7.78-7.78 2.81-2.81c.8-.78.8-2.07 0-2.86zM5.41 20L4 18.59l7.72-7.72 1.47 1.35L5.41 20z\"/>\n",
              "  </svg>\n",
              "      </button>\n",
              "      \n",
              "  <style>\n",
              "    .colab-df-container {\n",
              "      display:flex;\n",
              "      flex-wrap:wrap;\n",
              "      gap: 12px;\n",
              "    }\n",
              "\n",
              "    .colab-df-convert {\n",
              "      background-color: #E8F0FE;\n",
              "      border: none;\n",
              "      border-radius: 50%;\n",
              "      cursor: pointer;\n",
              "      display: none;\n",
              "      fill: #1967D2;\n",
              "      height: 32px;\n",
              "      padding: 0 0 0 0;\n",
              "      width: 32px;\n",
              "    }\n",
              "\n",
              "    .colab-df-convert:hover {\n",
              "      background-color: #E2EBFA;\n",
              "      box-shadow: 0px 1px 2px rgba(60, 64, 67, 0.3), 0px 1px 3px 1px rgba(60, 64, 67, 0.15);\n",
              "      fill: #174EA6;\n",
              "    }\n",
              "\n",
              "    [theme=dark] .colab-df-convert {\n",
              "      background-color: #3B4455;\n",
              "      fill: #D2E3FC;\n",
              "    }\n",
              "\n",
              "    [theme=dark] .colab-df-convert:hover {\n",
              "      background-color: #434B5C;\n",
              "      box-shadow: 0px 1px 3px 1px rgba(0, 0, 0, 0.15);\n",
              "      filter: drop-shadow(0px 1px 2px rgba(0, 0, 0, 0.3));\n",
              "      fill: #FFFFFF;\n",
              "    }\n",
              "  </style>\n",
              "\n",
              "      <script>\n",
              "        const buttonEl =\n",
              "          document.querySelector('#df-4fd36f99-3fa2-4382-a07c-f70ba28582e3 button.colab-df-convert');\n",
              "        buttonEl.style.display =\n",
              "          google.colab.kernel.accessAllowed ? 'block' : 'none';\n",
              "\n",
              "        async function convertToInteractive(key) {\n",
              "          const element = document.querySelector('#df-4fd36f99-3fa2-4382-a07c-f70ba28582e3');\n",
              "          const dataTable =\n",
              "            await google.colab.kernel.invokeFunction('convertToInteractive',\n",
              "                                                     [key], {});\n",
              "          if (!dataTable) return;\n",
              "\n",
              "          const docLinkHtml = 'Like what you see? Visit the ' +\n",
              "            '<a target=\"_blank\" href=https://colab.research.google.com/notebooks/data_table.ipynb>data table notebook</a>'\n",
              "            + ' to learn more about interactive tables.';\n",
              "          element.innerHTML = '';\n",
              "          dataTable['output_type'] = 'display_data';\n",
              "          await google.colab.output.renderOutput(dataTable, element);\n",
              "          const docLink = document.createElement('div');\n",
              "          docLink.innerHTML = docLinkHtml;\n",
              "          element.appendChild(docLink);\n",
              "        }\n",
              "      </script>\n",
              "    </div>\n",
              "  </div>\n",
              "  "
            ]
          },
          "metadata": {},
          "execution_count": 103
        }
      ]
    },
    {
      "cell_type": "code",
      "source": [
        "confusion_df = confusion_df.rename(columns=labels_dict)\n",
        "confusion_df.index = confusion_df.columns\n",
        "confusion_df"
      ],
      "metadata": {
        "colab": {
          "base_uri": "https://localhost:8080/",
          "height": 363
        },
        "id": "VxwieORwGz5I",
        "outputId": "65ff67e7-77d0-4038-cb99-e7bf15168bf6"
      },
      "execution_count": 106,
      "outputs": [
        {
          "output_type": "execute_result",
          "data": {
            "text/plain": [
              "           blues  classical  country  disco  hiphop  jazz  metal  pop  reggae  \\\n",
              "blues         12          0        2      4       0     1      1    0       0   \n",
              "classical      0         18        1      0       0     0      0    0       0   \n",
              "country        4          1        7      1       0     0      0    3       0   \n",
              "disco          1          0        1     13       1     0      0    1       0   \n",
              "hiphop         1          0        0      1      13     0      1    0       0   \n",
              "jazz           5          4        0      0       0    10      0    0       0   \n",
              "metal          0          0        0      0       0     0     20    0       0   \n",
              "pop            1          0        0      4       0     0      0   15       0   \n",
              "reggae         3          0        0      2       3     0      0    1      11   \n",
              "rock           6          0        3      3       0     2      0    3       0   \n",
              "\n",
              "           rock  \n",
              "blues         0  \n",
              "classical     0  \n",
              "country       2  \n",
              "disco         1  \n",
              "hiphop        0  \n",
              "jazz          0  \n",
              "metal         0  \n",
              "pop           0  \n",
              "reggae        0  \n",
              "rock          2  "
            ],
            "text/html": [
              "\n",
              "  <div id=\"df-fdc70e79-a9d7-4707-a52c-88f1a08aba2b\">\n",
              "    <div class=\"colab-df-container\">\n",
              "      <div>\n",
              "<style scoped>\n",
              "    .dataframe tbody tr th:only-of-type {\n",
              "        vertical-align: middle;\n",
              "    }\n",
              "\n",
              "    .dataframe tbody tr th {\n",
              "        vertical-align: top;\n",
              "    }\n",
              "\n",
              "    .dataframe thead th {\n",
              "        text-align: right;\n",
              "    }\n",
              "</style>\n",
              "<table border=\"1\" class=\"dataframe\">\n",
              "  <thead>\n",
              "    <tr style=\"text-align: right;\">\n",
              "      <th></th>\n",
              "      <th>blues</th>\n",
              "      <th>classical</th>\n",
              "      <th>country</th>\n",
              "      <th>disco</th>\n",
              "      <th>hiphop</th>\n",
              "      <th>jazz</th>\n",
              "      <th>metal</th>\n",
              "      <th>pop</th>\n",
              "      <th>reggae</th>\n",
              "      <th>rock</th>\n",
              "    </tr>\n",
              "  </thead>\n",
              "  <tbody>\n",
              "    <tr>\n",
              "      <th>blues</th>\n",
              "      <td>12</td>\n",
              "      <td>0</td>\n",
              "      <td>2</td>\n",
              "      <td>4</td>\n",
              "      <td>0</td>\n",
              "      <td>1</td>\n",
              "      <td>1</td>\n",
              "      <td>0</td>\n",
              "      <td>0</td>\n",
              "      <td>0</td>\n",
              "    </tr>\n",
              "    <tr>\n",
              "      <th>classical</th>\n",
              "      <td>0</td>\n",
              "      <td>18</td>\n",
              "      <td>1</td>\n",
              "      <td>0</td>\n",
              "      <td>0</td>\n",
              "      <td>0</td>\n",
              "      <td>0</td>\n",
              "      <td>0</td>\n",
              "      <td>0</td>\n",
              "      <td>0</td>\n",
              "    </tr>\n",
              "    <tr>\n",
              "      <th>country</th>\n",
              "      <td>4</td>\n",
              "      <td>1</td>\n",
              "      <td>7</td>\n",
              "      <td>1</td>\n",
              "      <td>0</td>\n",
              "      <td>0</td>\n",
              "      <td>0</td>\n",
              "      <td>3</td>\n",
              "      <td>0</td>\n",
              "      <td>2</td>\n",
              "    </tr>\n",
              "    <tr>\n",
              "      <th>disco</th>\n",
              "      <td>1</td>\n",
              "      <td>0</td>\n",
              "      <td>1</td>\n",
              "      <td>13</td>\n",
              "      <td>1</td>\n",
              "      <td>0</td>\n",
              "      <td>0</td>\n",
              "      <td>1</td>\n",
              "      <td>0</td>\n",
              "      <td>1</td>\n",
              "    </tr>\n",
              "    <tr>\n",
              "      <th>hiphop</th>\n",
              "      <td>1</td>\n",
              "      <td>0</td>\n",
              "      <td>0</td>\n",
              "      <td>1</td>\n",
              "      <td>13</td>\n",
              "      <td>0</td>\n",
              "      <td>1</td>\n",
              "      <td>0</td>\n",
              "      <td>0</td>\n",
              "      <td>0</td>\n",
              "    </tr>\n",
              "    <tr>\n",
              "      <th>jazz</th>\n",
              "      <td>5</td>\n",
              "      <td>4</td>\n",
              "      <td>0</td>\n",
              "      <td>0</td>\n",
              "      <td>0</td>\n",
              "      <td>10</td>\n",
              "      <td>0</td>\n",
              "      <td>0</td>\n",
              "      <td>0</td>\n",
              "      <td>0</td>\n",
              "    </tr>\n",
              "    <tr>\n",
              "      <th>metal</th>\n",
              "      <td>0</td>\n",
              "      <td>0</td>\n",
              "      <td>0</td>\n",
              "      <td>0</td>\n",
              "      <td>0</td>\n",
              "      <td>0</td>\n",
              "      <td>20</td>\n",
              "      <td>0</td>\n",
              "      <td>0</td>\n",
              "      <td>0</td>\n",
              "    </tr>\n",
              "    <tr>\n",
              "      <th>pop</th>\n",
              "      <td>1</td>\n",
              "      <td>0</td>\n",
              "      <td>0</td>\n",
              "      <td>4</td>\n",
              "      <td>0</td>\n",
              "      <td>0</td>\n",
              "      <td>0</td>\n",
              "      <td>15</td>\n",
              "      <td>0</td>\n",
              "      <td>0</td>\n",
              "    </tr>\n",
              "    <tr>\n",
              "      <th>reggae</th>\n",
              "      <td>3</td>\n",
              "      <td>0</td>\n",
              "      <td>0</td>\n",
              "      <td>2</td>\n",
              "      <td>3</td>\n",
              "      <td>0</td>\n",
              "      <td>0</td>\n",
              "      <td>1</td>\n",
              "      <td>11</td>\n",
              "      <td>0</td>\n",
              "    </tr>\n",
              "    <tr>\n",
              "      <th>rock</th>\n",
              "      <td>6</td>\n",
              "      <td>0</td>\n",
              "      <td>3</td>\n",
              "      <td>3</td>\n",
              "      <td>0</td>\n",
              "      <td>2</td>\n",
              "      <td>0</td>\n",
              "      <td>3</td>\n",
              "      <td>0</td>\n",
              "      <td>2</td>\n",
              "    </tr>\n",
              "  </tbody>\n",
              "</table>\n",
              "</div>\n",
              "      <button class=\"colab-df-convert\" onclick=\"convertToInteractive('df-fdc70e79-a9d7-4707-a52c-88f1a08aba2b')\"\n",
              "              title=\"Convert this dataframe to an interactive table.\"\n",
              "              style=\"display:none;\">\n",
              "        \n",
              "  <svg xmlns=\"http://www.w3.org/2000/svg\" height=\"24px\"viewBox=\"0 0 24 24\"\n",
              "       width=\"24px\">\n",
              "    <path d=\"M0 0h24v24H0V0z\" fill=\"none\"/>\n",
              "    <path d=\"M18.56 5.44l.94 2.06.94-2.06 2.06-.94-2.06-.94-.94-2.06-.94 2.06-2.06.94zm-11 1L8.5 8.5l.94-2.06 2.06-.94-2.06-.94L8.5 2.5l-.94 2.06-2.06.94zm10 10l.94 2.06.94-2.06 2.06-.94-2.06-.94-.94-2.06-.94 2.06-2.06.94z\"/><path d=\"M17.41 7.96l-1.37-1.37c-.4-.4-.92-.59-1.43-.59-.52 0-1.04.2-1.43.59L10.3 9.45l-7.72 7.72c-.78.78-.78 2.05 0 2.83L4 21.41c.39.39.9.59 1.41.59.51 0 1.02-.2 1.41-.59l7.78-7.78 2.81-2.81c.8-.78.8-2.07 0-2.86zM5.41 20L4 18.59l7.72-7.72 1.47 1.35L5.41 20z\"/>\n",
              "  </svg>\n",
              "      </button>\n",
              "      \n",
              "  <style>\n",
              "    .colab-df-container {\n",
              "      display:flex;\n",
              "      flex-wrap:wrap;\n",
              "      gap: 12px;\n",
              "    }\n",
              "\n",
              "    .colab-df-convert {\n",
              "      background-color: #E8F0FE;\n",
              "      border: none;\n",
              "      border-radius: 50%;\n",
              "      cursor: pointer;\n",
              "      display: none;\n",
              "      fill: #1967D2;\n",
              "      height: 32px;\n",
              "      padding: 0 0 0 0;\n",
              "      width: 32px;\n",
              "    }\n",
              "\n",
              "    .colab-df-convert:hover {\n",
              "      background-color: #E2EBFA;\n",
              "      box-shadow: 0px 1px 2px rgba(60, 64, 67, 0.3), 0px 1px 3px 1px rgba(60, 64, 67, 0.15);\n",
              "      fill: #174EA6;\n",
              "    }\n",
              "\n",
              "    [theme=dark] .colab-df-convert {\n",
              "      background-color: #3B4455;\n",
              "      fill: #D2E3FC;\n",
              "    }\n",
              "\n",
              "    [theme=dark] .colab-df-convert:hover {\n",
              "      background-color: #434B5C;\n",
              "      box-shadow: 0px 1px 3px 1px rgba(0, 0, 0, 0.15);\n",
              "      filter: drop-shadow(0px 1px 2px rgba(0, 0, 0, 0.3));\n",
              "      fill: #FFFFFF;\n",
              "    }\n",
              "  </style>\n",
              "\n",
              "      <script>\n",
              "        const buttonEl =\n",
              "          document.querySelector('#df-fdc70e79-a9d7-4707-a52c-88f1a08aba2b button.colab-df-convert');\n",
              "        buttonEl.style.display =\n",
              "          google.colab.kernel.accessAllowed ? 'block' : 'none';\n",
              "\n",
              "        async function convertToInteractive(key) {\n",
              "          const element = document.querySelector('#df-fdc70e79-a9d7-4707-a52c-88f1a08aba2b');\n",
              "          const dataTable =\n",
              "            await google.colab.kernel.invokeFunction('convertToInteractive',\n",
              "                                                     [key], {});\n",
              "          if (!dataTable) return;\n",
              "\n",
              "          const docLinkHtml = 'Like what you see? Visit the ' +\n",
              "            '<a target=\"_blank\" href=https://colab.research.google.com/notebooks/data_table.ipynb>data table notebook</a>'\n",
              "            + ' to learn more about interactive tables.';\n",
              "          element.innerHTML = '';\n",
              "          dataTable['output_type'] = 'display_data';\n",
              "          await google.colab.output.renderOutput(dataTable, element);\n",
              "          const docLink = document.createElement('div');\n",
              "          docLink.innerHTML = docLinkHtml;\n",
              "          element.appendChild(docLink);\n",
              "        }\n",
              "      </script>\n",
              "    </div>\n",
              "  </div>\n",
              "  "
            ]
          },
          "metadata": {},
          "execution_count": 106
        }
      ]
    },
    {
      "cell_type": "code",
      "source": [
        "plt.figure(figsize = (10,7))\n",
        "sn.heatmap(confusion_df, annot=True, cmap=sn.cubehelix_palette(200), fmt='g')\n",
        "#actual values are on the y axis and predicted values are on the x axis"
      ],
      "metadata": {
        "colab": {
          "base_uri": "https://localhost:8080/",
          "height": 450
        },
        "id": "xnIjwMSXHqB0",
        "outputId": "e4988925-cec7-49fd-ee2f-ed9681a91afa"
      },
      "execution_count": 112,
      "outputs": [
        {
          "output_type": "execute_result",
          "data": {
            "text/plain": [
              "<matplotlib.axes._subplots.AxesSubplot at 0x7f36edf78150>"
            ]
          },
          "metadata": {},
          "execution_count": 112
        },
        {
          "output_type": "display_data",
          "data": {
            "text/plain": [
              "<Figure size 720x504 with 2 Axes>"
            ],
            "image/png": "[encoded data removed]"
          },
          "metadata": {
            "needs_background": "light"
          }
        }
      ]
    }
  ]
}