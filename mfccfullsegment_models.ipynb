{
  "nbformat": 4,
  "nbformat_minor": 0,
  "metadata": {
    "colab": {
      "name": "mfccfullsegment_models.ipynb",
      "provenance": [],
      "collapsed_sections": []
    },
    "kernelspec": {
      "name": "python3",
      "display_name": "Python 3"
    },
    "language_info": {
      "name": "python"
    }
  },
  "cells": [
    {
      "cell_type": "code",
      "execution_count": null,
      "metadata": {
        "id": "BC6vpUJvn_OO"
      },
      "outputs": [],
      "source": [
        "#trying out the whole song segment mfccs, instead of splitting it into 3s segements so that we can combine models"
      ]
    },
    {
      "cell_type": "code",
      "source": [
        "from google.colab import drive\n",
        "drive.mount('/content/drive')"
      ],
      "metadata": {
        "colab": {
          "base_uri": "https://localhost:8080/"
        },
        "id": "gJ6sB92boPR7",
        "outputId": "de144a3e-c139-4e19-900e-7c4caafe405b"
      },
      "execution_count": 1,
      "outputs": [
        {
          "output_type": "stream",
          "name": "stdout",
          "text": [
            "Mounted at /content/drive\n"
          ]
        }
      ]
    },
    {
      "cell_type": "code",
      "source": [
        "import numpy as np\n",
        "import librosa\n",
        "import librosa.display\n",
        "import matplotlib.pyplot as plt\n",
        "import os\n",
        "import math\n",
        "from sklearn.model_selection import train_test_split\n",
        "import tensorflow.keras as keras\n",
        "import random\n",
        "from sklearn.metrics import confusion_matrix\n",
        "import pandas as pd\n",
        "from sklearn.metrics import ConfusionMatrixDisplay\n",
        "import seaborn as sn"
      ],
      "metadata": {
        "id": "V6dgW-BHpGqu"
      },
      "execution_count": 76,
      "outputs": []
    },
    {
      "cell_type": "code",
      "source": [
        "dataset_path = 'drive/MyDrive/Data/genres_original'"
      ],
      "metadata": {
        "id": "UrVSY971pIbr"
      },
      "execution_count": 4,
      "outputs": []
    },
    {
      "cell_type": "code",
      "source": [
        "\n",
        "def save_mfccs(data_path, hop_length=512, sample_rate=22050, track_duration=30):\n",
        "  data = {'mapping': [], 'labels': [], 'mfcc': []}\n",
        "\n",
        "  samples_per_track = sample_rate*track_duration\n",
        "  num_mfcc_vectors_per_track = math.ceil(samples_per_track / hop_length) +1\n",
        "  #print(num_mfcc_vectors_per_track)\n",
        "\n",
        "  for i, (dirpath, dirnames, filenames) in enumerate(os.walk(dataset_path)):\n",
        "        if dirpath is not data_path:\n",
        "            semantic_label = dirpath.split(\"/\")[-1]\n",
        "            data[\"mapping\"].append(semantic_label)\n",
        "\n",
        "            for f in filenames:\n",
        "              file_path = os.path.join(dirpath, f)\n",
        "              signal, sample_rate = librosa.load(file_path, sr = sample_rate)\n",
        "\n",
        "              mfcc = librosa.feature.mfcc(y=signal, sr = sample_rate, n_mfcc = 13, n_fft = 2048, hop_length = hop_length)\n",
        "              mfcc = mfcc.T\n",
        "              #print(len(mfcc))\n",
        "              if len(mfcc) == num_mfcc_vectors_per_track:\n",
        "                #this will discard wrong mfcc lengths\n",
        "                data[\"mfcc\"].append(mfcc.tolist())\n",
        "                data[\"labels\"].append(i-1) \n",
        "\n",
        "  X = np.array(data[\"mfcc\"])\n",
        "  Y = np.array(data[\"labels\"])\n",
        "  z = data[\"mapping\"]\n",
        "  return X, Y, z"
      ],
      "metadata": {
        "id": "N-Yf8-CUpQ-2"
      },
      "execution_count": 27,
      "outputs": []
    },
    {
      "cell_type": "code",
      "source": [
        "X, y, label_map = save_mfccs(dataset_path)"
      ],
      "metadata": {
        "id": "d08SFLbsp2dv"
      },
      "execution_count": 28,
      "outputs": []
    },
    {
      "cell_type": "code",
      "source": [
        "X_train, X_test, y_train, y_test = train_test_split(X, y, test_size=0.2)"
      ],
      "metadata": {
        "id": "rkdOVRElqvdC"
      },
      "execution_count": 30,
      "outputs": []
    },
    {
      "cell_type": "code",
      "source": [
        "model = keras.Sequential([\n",
        "\n",
        "    # input layer\n",
        "    keras.layers.Flatten(input_shape=(X.shape[1], X.shape[2])),\n",
        "\n",
        "    # 1st dense layer\n",
        "    keras.layers.Dense(512, activation='relu'),\n",
        "\n",
        "    # 2nd dense layer\n",
        "    keras.layers.Dense(256, activation='relu'),\n",
        "\n",
        "    # 3rd dense layer\n",
        "    keras.layers.Dense(64, activation='relu'),\n",
        "\n",
        "    # output layer\n",
        "    keras.layers.Dense(10, activation='softmax')\n",
        "])"
      ],
      "metadata": {
        "id": "8NiDFHWzrJY6"
      },
      "execution_count": 31,
      "outputs": []
    },
    {
      "cell_type": "code",
      "source": [
        "optimiser = keras.optimizers.Adam(learning_rate=0.0001)\n",
        "model.compile(optimizer=optimiser,\n",
        "              loss='sparse_categorical_crossentropy',\n",
        "              metrics=['accuracy'])"
      ],
      "metadata": {
        "id": "qvrbvpCMrLdF"
      },
      "execution_count": 32,
      "outputs": []
    },
    {
      "cell_type": "code",
      "source": [
        "history = model.fit(X_train, y_train, validation_data=(X_test, y_test), batch_size=32, epochs=25)"
      ],
      "metadata": {
        "colab": {
          "base_uri": "https://localhost:8080/"
        },
        "id": "S_-5XYtRrNPU",
        "outputId": "dfc49b05-5605-49f5-b94d-af4914e2fba8"
      },
      "execution_count": 33,
      "outputs": [
        {
          "output_type": "stream",
          "name": "stdout",
          "text": [
            "Epoch 1/25\n",
            "24/24 [==============================] - 2s 70ms/step - loss: 34.0763 - accuracy: 0.2119 - val_loss: 13.3220 - val_accuracy: 0.3069\n",
            "Epoch 2/25\n",
            "24/24 [==============================] - 2s 66ms/step - loss: 8.7387 - accuracy: 0.3987 - val_loss: 8.2023 - val_accuracy: 0.4127\n",
            "Epoch 3/25\n",
            "24/24 [==============================] - 1s 62ms/step - loss: 4.6182 - accuracy: 0.4901 - val_loss: 5.1840 - val_accuracy: 0.4127\n",
            "Epoch 4/25\n",
            "24/24 [==============================] - 1s 61ms/step - loss: 4.3366 - accuracy: 0.5417 - val_loss: 6.0858 - val_accuracy: 0.4233\n",
            "Epoch 5/25\n",
            "24/24 [==============================] - 1s 62ms/step - loss: 2.7341 - accuracy: 0.6371 - val_loss: 5.7612 - val_accuracy: 0.4392\n",
            "Epoch 6/25\n",
            "24/24 [==============================] - 2s 65ms/step - loss: 2.5904 - accuracy: 0.6609 - val_loss: 4.3733 - val_accuracy: 0.5079\n",
            "Epoch 7/25\n",
            "24/24 [==============================] - 1s 61ms/step - loss: 0.6700 - accuracy: 0.8371 - val_loss: 5.0274 - val_accuracy: 0.4974\n",
            "Epoch 8/25\n",
            "24/24 [==============================] - 1s 62ms/step - loss: 0.5677 - accuracy: 0.8623 - val_loss: 6.0122 - val_accuracy: 0.4603\n",
            "Epoch 9/25\n",
            "24/24 [==============================] - 1s 62ms/step - loss: 0.5213 - accuracy: 0.8848 - val_loss: 4.7937 - val_accuracy: 0.5079\n",
            "Epoch 10/25\n",
            "24/24 [==============================] - 2s 65ms/step - loss: 0.1222 - accuracy: 0.9576 - val_loss: 4.4241 - val_accuracy: 0.5344\n",
            "Epoch 11/25\n",
            "24/24 [==============================] - 1s 62ms/step - loss: 0.3320 - accuracy: 0.9086 - val_loss: 5.8373 - val_accuracy: 0.4656\n",
            "Epoch 12/25\n",
            "24/24 [==============================] - 2s 63ms/step - loss: 0.2992 - accuracy: 0.9179 - val_loss: 5.3007 - val_accuracy: 0.4868\n",
            "Epoch 13/25\n",
            "24/24 [==============================] - 1s 63ms/step - loss: 0.0959 - accuracy: 0.9695 - val_loss: 5.2054 - val_accuracy: 0.5238\n",
            "Epoch 14/25\n",
            "24/24 [==============================] - 1s 62ms/step - loss: 0.1095 - accuracy: 0.9682 - val_loss: 5.8430 - val_accuracy: 0.4550\n",
            "Epoch 15/25\n",
            "24/24 [==============================] - 2s 64ms/step - loss: 0.4924 - accuracy: 0.8927 - val_loss: 7.0597 - val_accuracy: 0.4550\n",
            "Epoch 16/25\n",
            "24/24 [==============================] - 2s 63ms/step - loss: 0.8642 - accuracy: 0.8291 - val_loss: 6.9619 - val_accuracy: 0.4392\n",
            "Epoch 17/25\n",
            "24/24 [==============================] - 1s 62ms/step - loss: 0.8953 - accuracy: 0.8543 - val_loss: 8.7370 - val_accuracy: 0.4074\n",
            "Epoch 18/25\n",
            "24/24 [==============================] - 2s 63ms/step - loss: 0.4795 - accuracy: 0.8742 - val_loss: 5.5174 - val_accuracy: 0.4286\n",
            "Epoch 19/25\n",
            "24/24 [==============================] - 2s 64ms/step - loss: 0.2230 - accuracy: 0.9404 - val_loss: 4.9842 - val_accuracy: 0.4868\n",
            "Epoch 20/25\n",
            "24/24 [==============================] - 2s 63ms/step - loss: 0.2691 - accuracy: 0.9364 - val_loss: 7.0943 - val_accuracy: 0.4709\n",
            "Epoch 21/25\n",
            "24/24 [==============================] - 1s 62ms/step - loss: 0.8325 - accuracy: 0.8583 - val_loss: 5.7058 - val_accuracy: 0.5079\n",
            "Epoch 22/25\n",
            "24/24 [==============================] - 1s 63ms/step - loss: 0.3595 - accuracy: 0.9139 - val_loss: 6.6189 - val_accuracy: 0.4815\n",
            "Epoch 23/25\n",
            "24/24 [==============================] - 2s 64ms/step - loss: 0.3462 - accuracy: 0.9126 - val_loss: 6.1185 - val_accuracy: 0.4709\n",
            "Epoch 24/25\n",
            "24/24 [==============================] - 2s 63ms/step - loss: 0.3198 - accuracy: 0.9298 - val_loss: 6.0865 - val_accuracy: 0.5026\n",
            "Epoch 25/25\n",
            "24/24 [==============================] - 1s 63ms/step - loss: 0.4658 - accuracy: 0.9152 - val_loss: 5.3749 - val_accuracy: 0.4974\n"
          ]
        }
      ]
    },
    {
      "cell_type": "code",
      "source": [
        "def plot_history(history):\n",
        "\n",
        "  plt.figure(figsize=(6,3))\n",
        "  #create accuracy sublpot\n",
        "  plt.plot(history.history[\"accuracy\"], label=\"train accuracy\")\n",
        "  plt.plot(history.history[\"val_accuracy\"], label=\"test accuracy\")\n",
        "  plt.ylabel('Accuracy')\n",
        "  plt.xlabel('Epoch')\n",
        "  #axs[0].legend(loc=\"lower right\")\n",
        "  plt.title('Accuracy Comparison')\n",
        "  plt.legend()\n",
        "  plt.tight_layout()\n",
        "  plt.show()\n",
        "\n",
        "  plt.figure(figsize=(6,3))\n",
        "  #create error sublpot\n",
        "  plt.plot(history.history[\"loss\"], label=\"train error\")\n",
        "  plt.plot(history.history[\"val_loss\"], label=\"test error\")\n",
        "  plt.ylabel('Error')\n",
        "  plt.xlabel('Epoch')\n",
        "  #axs[1]wlegend(loc=\"upper right\")\n",
        "  plt.title('Error Comparison')\n",
        "  plt.legend()\n",
        "  plt.tight_layout()\n",
        "  plt.show()"
      ],
      "metadata": {
        "id": "iN5CrTuHrPek"
      },
      "execution_count": 34,
      "outputs": []
    },
    {
      "cell_type": "code",
      "source": [
        "plot_history(history)"
      ],
      "metadata": {
        "colab": {
          "base_uri": "https://localhost:8080/",
          "height": 433
        },
        "id": "3sXDHL5WrRjX",
        "outputId": "ce71d47d-a718-425b-eb29-47a567188859"
      },
      "execution_count": 35,
      "outputs": [
        {
          "output_type": "display_data",
          "data": {
            "text/plain": [
              "<Figure size 432x216 with 1 Axes>"
            ],
            "image/png": "[encoded data removed]"
          },
          "metadata": {
            "needs_background": "light"
          }
        },
        {
          "output_type": "display_data",
          "data": {
            "text/plain": [
              "<Figure size 432x216 with 1 Axes>"
            ],
            "image/png": "[encoded data removed]"
          },
          "metadata": {
            "needs_background": "light"
          }
        }
      ]
    },
    {
      "cell_type": "code",
      "source": [
        "#CNN"
      ],
      "metadata": {
        "id": "Xk4R9yvgulDs"
      },
      "execution_count": null,
      "outputs": []
    },
    {
      "cell_type": "code",
      "source": [
        "X_train, X_test, y_train, y_test = train_test_split(X, y, test_size=0.2)\n",
        "X_train, X_validation, y_train, y_validation = train_test_split(X_train, y_train, test_size=0.2)\n",
        "\n",
        "X_train = X_train[..., np.newaxis]\n",
        "X_validation = X_validation[..., np.newaxis]\n",
        "X_test = X_test[..., np.newaxis]"
      ],
      "metadata": {
        "id": "_SXbu35bvHkl"
      },
      "execution_count": 44,
      "outputs": []
    },
    {
      "cell_type": "code",
      "source": [
        "input_shape = (X_train.shape[1], X_train.shape[2], 1)"
      ],
      "metadata": {
        "id": "oW-3IU8yvLuF"
      },
      "execution_count": 45,
      "outputs": []
    },
    {
      "cell_type": "code",
      "source": [
        "model_cnn = keras.Sequential()\n",
        "\n",
        "# 1st conv layer\n",
        "model_cnn.add(keras.layers.Conv2D(32, (3, 3), activation='relu', input_shape=input_shape))\n",
        "model_cnn.add(keras.layers.MaxPooling2D((3, 3), strides=(2, 2), padding='same'))\n",
        "model_cnn.add(keras.layers.BatchNormalization())\n",
        "\n",
        "# 2nd conv layer\n",
        "model_cnn.add(keras.layers.Conv2D(32, (3, 3), activation='relu'))\n",
        "model_cnn.add(keras.layers.MaxPooling2D((3, 3), strides=(2, 2), padding='same'))\n",
        "model_cnn.add(keras.layers.BatchNormalization())\n",
        "\n",
        "# 3rd conv layer\n",
        "model_cnn.add(keras.layers.Conv2D(32, (2, 2), activation='relu'))\n",
        "model_cnn.add(keras.layers.MaxPooling2D((2, 2), strides=(2, 2), padding='same'))\n",
        "model_cnn.add(keras.layers.BatchNormalization())\n",
        "\n",
        "# flatten output and feed it into dense layer\n",
        "model_cnn.add(keras.layers.Flatten())\n",
        "model_cnn.add(keras.layers.Dense(64, activation='relu'))\n",
        "model_cnn.add(keras.layers.Dropout(0.3))\n",
        "\n",
        "# output layer\n",
        "model_cnn.add(keras.layers.Dense(10, activation='softmax'))"
      ],
      "metadata": {
        "id": "PC6Z10t4ulpy"
      },
      "execution_count": 46,
      "outputs": []
    },
    {
      "cell_type": "code",
      "source": [
        "optimiser = keras.optimizers.Adam(learning_rate=0.0001)\n",
        "model_cnn.compile(optimizer=optimiser,\n",
        "              loss='sparse_categorical_crossentropy',\n",
        "              metrics=['accuracy'])"
      ],
      "metadata": {
        "id": "_d0juAiUvO2o"
      },
      "execution_count": 47,
      "outputs": []
    },
    {
      "cell_type": "code",
      "source": [
        "history = model_cnn.fit(X_train, y_train, validation_data=(X_validation, y_validation), batch_size=32, epochs=50)"
      ],
      "metadata": {
        "colab": {
          "base_uri": "https://localhost:8080/"
        },
        "id": "E7-Ky1gfurMV",
        "outputId": "e0d389cf-cafc-4acf-e336-1cf2411335e1"
      },
      "execution_count": 48,
      "outputs": [
        {
          "output_type": "stream",
          "name": "stdout",
          "text": [
            "Epoch 1/50\n",
            "19/19 [==============================] - 12s 578ms/step - loss: 2.6966 - accuracy: 0.2086 - val_loss: 4.1452 - val_accuracy: 0.0927\n",
            "Epoch 2/50\n",
            "19/19 [==============================] - 11s 565ms/step - loss: 1.8839 - accuracy: 0.4106 - val_loss: 3.5391 - val_accuracy: 0.0795\n",
            "Epoch 3/50\n",
            "19/19 [==============================] - 11s 566ms/step - loss: 1.4447 - accuracy: 0.4934 - val_loss: 2.9428 - val_accuracy: 0.1192\n",
            "Epoch 4/50\n",
            "19/19 [==============================] - 11s 595ms/step - loss: 1.2364 - accuracy: 0.5679 - val_loss: 2.6274 - val_accuracy: 0.1523\n",
            "Epoch 5/50\n",
            "19/19 [==============================] - 11s 570ms/step - loss: 0.9580 - accuracy: 0.6904 - val_loss: 2.3864 - val_accuracy: 0.2119\n",
            "Epoch 6/50\n",
            "19/19 [==============================] - 11s 566ms/step - loss: 0.8319 - accuracy: 0.7285 - val_loss: 2.2107 - val_accuracy: 0.2517\n",
            "Epoch 7/50\n",
            "19/19 [==============================] - 11s 558ms/step - loss: 0.6899 - accuracy: 0.7964 - val_loss: 1.9776 - val_accuracy: 0.3046\n",
            "Epoch 8/50\n",
            "19/19 [==============================] - 11s 561ms/step - loss: 0.6347 - accuracy: 0.8046 - val_loss: 1.8506 - val_accuracy: 0.3510\n",
            "Epoch 9/50\n",
            "19/19 [==============================] - 12s 624ms/step - loss: 0.5048 - accuracy: 0.8675 - val_loss: 1.6933 - val_accuracy: 0.3907\n",
            "Epoch 10/50\n",
            "19/19 [==============================] - 11s 568ms/step - loss: 0.4481 - accuracy: 0.8874 - val_loss: 1.5912 - val_accuracy: 0.4371\n",
            "Epoch 11/50\n",
            "19/19 [==============================] - 11s 569ms/step - loss: 0.4233 - accuracy: 0.8825 - val_loss: 1.4800 - val_accuracy: 0.4967\n",
            "Epoch 12/50\n",
            "19/19 [==============================] - 11s 559ms/step - loss: 0.3652 - accuracy: 0.9205 - val_loss: 1.4210 - val_accuracy: 0.4901\n",
            "Epoch 13/50\n",
            "19/19 [==============================] - 11s 561ms/step - loss: 0.3343 - accuracy: 0.9338 - val_loss: 1.3572 - val_accuracy: 0.4901\n",
            "Epoch 14/50\n",
            "19/19 [==============================] - 11s 573ms/step - loss: 0.2769 - accuracy: 0.9454 - val_loss: 1.2747 - val_accuracy: 0.5364\n",
            "Epoch 15/50\n",
            "19/19 [==============================] - 11s 561ms/step - loss: 0.2659 - accuracy: 0.9437 - val_loss: 1.2363 - val_accuracy: 0.5762\n",
            "Epoch 16/50\n",
            "19/19 [==============================] - 11s 561ms/step - loss: 0.2335 - accuracy: 0.9520 - val_loss: 1.2341 - val_accuracy: 0.5629\n",
            "Epoch 17/50\n",
            "19/19 [==============================] - 11s 557ms/step - loss: 0.2061 - accuracy: 0.9685 - val_loss: 1.2181 - val_accuracy: 0.5894\n",
            "Epoch 18/50\n",
            "19/19 [==============================] - 11s 558ms/step - loss: 0.2242 - accuracy: 0.9603 - val_loss: 1.2045 - val_accuracy: 0.5762\n",
            "Epoch 19/50\n",
            "19/19 [==============================] - 10s 553ms/step - loss: 0.1961 - accuracy: 0.9652 - val_loss: 1.1975 - val_accuracy: 0.5828\n",
            "Epoch 20/50\n",
            "19/19 [==============================] - 11s 556ms/step - loss: 0.1753 - accuracy: 0.9768 - val_loss: 1.1737 - val_accuracy: 0.6026\n",
            "Epoch 21/50\n",
            "19/19 [==============================] - 10s 553ms/step - loss: 0.1716 - accuracy: 0.9752 - val_loss: 1.1954 - val_accuracy: 0.5695\n",
            "Epoch 22/50\n",
            "19/19 [==============================] - 11s 556ms/step - loss: 0.1448 - accuracy: 0.9851 - val_loss: 1.1673 - val_accuracy: 0.5695\n",
            "Epoch 23/50\n",
            "19/19 [==============================] - 10s 553ms/step - loss: 0.1381 - accuracy: 0.9818 - val_loss: 1.1766 - val_accuracy: 0.5629\n",
            "Epoch 24/50\n",
            "19/19 [==============================] - 11s 556ms/step - loss: 0.1387 - accuracy: 0.9801 - val_loss: 1.1944 - val_accuracy: 0.5960\n",
            "Epoch 25/50\n",
            "19/19 [==============================] - 11s 555ms/step - loss: 0.1048 - accuracy: 0.9917 - val_loss: 1.1862 - val_accuracy: 0.5960\n",
            "Epoch 26/50\n",
            "19/19 [==============================] - 11s 556ms/step - loss: 0.1148 - accuracy: 0.9834 - val_loss: 1.1855 - val_accuracy: 0.5828\n",
            "Epoch 27/50\n",
            "19/19 [==============================] - 11s 554ms/step - loss: 0.1051 - accuracy: 0.9868 - val_loss: 1.1821 - val_accuracy: 0.5762\n",
            "Epoch 28/50\n",
            "19/19 [==============================] - 11s 559ms/step - loss: 0.1091 - accuracy: 0.9851 - val_loss: 1.1698 - val_accuracy: 0.5762\n",
            "Epoch 29/50\n",
            "19/19 [==============================] - 11s 556ms/step - loss: 0.0974 - accuracy: 0.9901 - val_loss: 1.1851 - val_accuracy: 0.5762\n",
            "Epoch 30/50\n",
            "19/19 [==============================] - 11s 555ms/step - loss: 0.0984 - accuracy: 0.9917 - val_loss: 1.1847 - val_accuracy: 0.5828\n",
            "Epoch 31/50\n",
            "19/19 [==============================] - 11s 558ms/step - loss: 0.0845 - accuracy: 0.9884 - val_loss: 1.1890 - val_accuracy: 0.5894\n",
            "Epoch 32/50\n",
            "19/19 [==============================] - 11s 562ms/step - loss: 0.0924 - accuracy: 0.9901 - val_loss: 1.1838 - val_accuracy: 0.5960\n",
            "Epoch 33/50\n",
            "19/19 [==============================] - 11s 559ms/step - loss: 0.0887 - accuracy: 0.9901 - val_loss: 1.2073 - val_accuracy: 0.5960\n",
            "Epoch 34/50\n",
            "19/19 [==============================] - 11s 555ms/step - loss: 0.0730 - accuracy: 0.9901 - val_loss: 1.2106 - val_accuracy: 0.6026\n",
            "Epoch 35/50\n",
            "19/19 [==============================] - 11s 559ms/step - loss: 0.0745 - accuracy: 0.9901 - val_loss: 1.2076 - val_accuracy: 0.5828\n",
            "Epoch 36/50\n",
            "19/19 [==============================] - 11s 562ms/step - loss: 0.0706 - accuracy: 0.9868 - val_loss: 1.1731 - val_accuracy: 0.5894\n",
            "Epoch 37/50\n",
            "19/19 [==============================] - 11s 568ms/step - loss: 0.0673 - accuracy: 0.9950 - val_loss: 1.1686 - val_accuracy: 0.5828\n",
            "Epoch 38/50\n",
            "19/19 [==============================] - 11s 555ms/step - loss: 0.0657 - accuracy: 0.9967 - val_loss: 1.1995 - val_accuracy: 0.5762\n",
            "Epoch 39/50\n",
            "19/19 [==============================] - 11s 555ms/step - loss: 0.0592 - accuracy: 0.9967 - val_loss: 1.1851 - val_accuracy: 0.5828\n",
            "Epoch 40/50\n",
            "19/19 [==============================] - 10s 553ms/step - loss: 0.0556 - accuracy: 0.9950 - val_loss: 1.1727 - val_accuracy: 0.5828\n",
            "Epoch 41/50\n",
            "19/19 [==============================] - 10s 551ms/step - loss: 0.0493 - accuracy: 0.9983 - val_loss: 1.1685 - val_accuracy: 0.5894\n",
            "Epoch 42/50\n",
            "19/19 [==============================] - 10s 551ms/step - loss: 0.0606 - accuracy: 0.9901 - val_loss: 1.1324 - val_accuracy: 0.6026\n",
            "Epoch 43/50\n",
            "19/19 [==============================] - 10s 553ms/step - loss: 0.0573 - accuracy: 0.9950 - val_loss: 1.1448 - val_accuracy: 0.5894\n",
            "Epoch 44/50\n",
            "19/19 [==============================] - 11s 558ms/step - loss: 0.0602 - accuracy: 0.9901 - val_loss: 1.1469 - val_accuracy: 0.6026\n",
            "Epoch 45/50\n",
            "19/19 [==============================] - 11s 556ms/step - loss: 0.0552 - accuracy: 0.9917 - val_loss: 1.1425 - val_accuracy: 0.5960\n",
            "Epoch 46/50\n",
            "19/19 [==============================] - 10s 553ms/step - loss: 0.0520 - accuracy: 0.9950 - val_loss: 1.1556 - val_accuracy: 0.5960\n",
            "Epoch 47/50\n",
            "19/19 [==============================] - 12s 648ms/step - loss: 0.0488 - accuracy: 0.9934 - val_loss: 1.1678 - val_accuracy: 0.6093\n",
            "Epoch 48/50\n",
            "19/19 [==============================] - 14s 729ms/step - loss: 0.0449 - accuracy: 0.9967 - val_loss: 1.1779 - val_accuracy: 0.6026\n",
            "Epoch 49/50\n",
            "19/19 [==============================] - 13s 682ms/step - loss: 0.0443 - accuracy: 0.9950 - val_loss: 1.1758 - val_accuracy: 0.5828\n",
            "Epoch 50/50\n",
            "19/19 [==============================] - 11s 557ms/step - loss: 0.0407 - accuracy: 0.9983 - val_loss: 1.1800 - val_accuracy: 0.5894\n"
          ]
        }
      ]
    },
    {
      "cell_type": "code",
      "source": [
        "plot_history(history)"
      ],
      "metadata": {
        "colab": {
          "base_uri": "https://localhost:8080/",
          "height": 433
        },
        "id": "M6sNLbvlxNyv",
        "outputId": "60ce2546-e305-472a-f485-6723c253cf7a"
      },
      "execution_count": 49,
      "outputs": [
        {
          "output_type": "display_data",
          "data": {
            "text/plain": [
              "<Figure size 432x216 with 1 Axes>"
            ],
            "image/png": "[encoded data removed]"
          },
          "metadata": {
            "needs_background": "light"
          }
        },
        {
          "output_type": "display_data",
          "data": {
            "text/plain": [
              "<Figure size 432x216 with 1 Axes>"
            ],
            "image/png": "[encoded data removed]"
          },
          "metadata": {
            "needs_background": "light"
          }
        }
      ]
    },
    {
      "cell_type": "code",
      "source": [
        "label_map"
      ],
      "metadata": {
        "colab": {
          "base_uri": "https://localhost:8080/"
        },
        "id": "mmLAIWVOxRFV",
        "outputId": "89fb670b-ea85-4bff-f9bf-7cbd6cd19b68"
      },
      "execution_count": 50,
      "outputs": [
        {
          "output_type": "execute_result",
          "data": {
            "text/plain": [
              "['jazz',\n",
              " 'metal',\n",
              " 'disco',\n",
              " 'reggae',\n",
              " 'classical',\n",
              " 'country',\n",
              " 'rock',\n",
              " 'hiphop',\n",
              " 'blues',\n",
              " 'pop']"
            ]
          },
          "metadata": {},
          "execution_count": 50
        }
      ]
    },
    {
      "cell_type": "code",
      "source": [
        "labels_dict = {\n",
        "    0: 'jazz',\n",
        "    1: 'metal',\n",
        "    2: 'disco',\n",
        "    3: 'reggae',\n",
        "    4: 'classical',\n",
        "    5: 'country',\n",
        "    6: 'rock',\n",
        "    7: 'hiphop',\n",
        "    8: 'blues',\n",
        "    9: 'pop'\n",
        "}"
      ],
      "metadata": {
        "id": "r3YNMtiixTdR"
      },
      "execution_count": 51,
      "outputs": []
    },
    {
      "cell_type": "code",
      "source": [
        "for n in range(10):\n",
        "\n",
        "  i = random.randint(0,len(X_test))\n",
        "  X_to_predict = X_test[i]\n",
        "  y_to_predict = y_test[i]\n",
        "\n",
        "  print(\"\\nReal Genre:\", y_to_predict)\n",
        "\n",
        "  X_to_predict = X_to_predict[np.newaxis, ...]\n",
        "\n",
        "  prediction = model_cnn.predict(X_to_predict)\n",
        "\n",
        "  predicted_index = np.argmax(prediction, axis=1)\n",
        "\n",
        "  print(\"Predicted Genre:\", int(predicted_index))"
      ],
      "metadata": {
        "colab": {
          "base_uri": "https://localhost:8080/"
        },
        "id": "aZ18lqLMxz_0",
        "outputId": "48b94a10-070b-4907-b66c-81603f7caa00"
      },
      "execution_count": 53,
      "outputs": [
        {
          "output_type": "stream",
          "name": "stdout",
          "text": [
            "\n",
            "Real Genre: 3\n",
            "Predicted Genre: 3\n",
            "\n",
            "Real Genre: 0\n",
            "Predicted Genre: 0\n",
            "\n",
            "Real Genre: 2\n",
            "Predicted Genre: 2\n",
            "\n",
            "Real Genre: 2\n",
            "Predicted Genre: 2\n",
            "\n",
            "Real Genre: 1\n",
            "Predicted Genre: 1\n",
            "\n",
            "Real Genre: 9\n",
            "Predicted Genre: 9\n",
            "\n",
            "Real Genre: 2\n",
            "Predicted Genre: 1\n",
            "\n",
            "Real Genre: 7\n",
            "Predicted Genre: 9\n",
            "\n",
            "Real Genre: 2\n",
            "Predicted Genre: 3\n",
            "\n",
            "Real Genre: 2\n",
            "Predicted Genre: 1\n"
          ]
        }
      ]
    },
    {
      "cell_type": "code",
      "source": [
        "predictions = model_cnn.predict(X_test, verbose=1)"
      ],
      "metadata": {
        "colab": {
          "base_uri": "https://localhost:8080/"
        },
        "id": "a9yDHNeAAZNv",
        "outputId": "2a7105da-9d4f-405e-d2d1-ce48855f8965"
      },
      "execution_count": 83,
      "outputs": [
        {
          "output_type": "stream",
          "name": "stdout",
          "text": [
            "6/6 [==============================] - 1s 177ms/step\n"
          ]
        }
      ]
    },
    {
      "cell_type": "code",
      "source": [
        "y_true = []\n",
        "y_predict = []\n",
        "for i in range(len(predictions)):\n",
        "  X_to_predict = X_test[i]\n",
        "  y_to_predict = y_test[i]\n",
        "  X_to_predict = X_to_predict[np.newaxis, ...]\n",
        "  prediction = model_cnn.predict(X_to_predict)\n",
        "  predicted_index = np.argmax(prediction, axis=1)\n",
        "  y_true.append(y_to_predict)\n",
        "  y_predict.append(int(predicted_index))"
      ],
      "metadata": {
        "id": "iU2eous1A1eT"
      },
      "execution_count": 85,
      "outputs": []
    },
    {
      "cell_type": "code",
      "source": [
        "cf_matrix = confusion_matrix(y_true, y_predict)\n",
        "cf_matrix"
      ],
      "metadata": {
        "colab": {
          "base_uri": "https://localhost:8080/"
        },
        "id": "nwCjgkaNyGam",
        "outputId": "408cc0a0-54cf-4880-ef8b-586531a9bde3"
      },
      "execution_count": 86,
      "outputs": [
        {
          "output_type": "execute_result",
          "data": {
            "text/plain": [
              "array([[14,  1,  1,  0,  2,  1,  1,  0,  0,  0],\n",
              "       [ 0, 23,  0,  0,  0,  0,  0,  0,  0,  0],\n",
              "       [ 1,  4,  5,  4,  0,  0,  0,  3,  1,  6],\n",
              "       [ 0,  0,  1, 13,  0,  2,  0,  2,  2,  2],\n",
              "       [ 2,  0,  0,  0, 10,  0,  0,  0,  0,  0],\n",
              "       [ 0,  0,  1,  1,  0,  5,  3,  0,  1,  1],\n",
              "       [ 0,  3,  3,  1,  0,  2,  5,  0,  5,  2],\n",
              "       [ 0,  3,  2,  3,  0,  0,  1,  8,  0,  1],\n",
              "       [ 2,  6,  2,  0,  0,  1,  0,  0,  8,  0],\n",
              "       [ 0,  0,  1,  0,  0,  0,  0,  2,  0, 15]])"
            ]
          },
          "metadata": {},
          "execution_count": 86
        }
      ]
    },
    {
      "cell_type": "code",
      "source": [
        "confusion_df = pd.DataFrame(cf_matrix)\n",
        "confusion_df"
      ],
      "metadata": {
        "colab": {
          "base_uri": "https://localhost:8080/",
          "height": 363
        },
        "id": "RskWQ0EGylnL",
        "outputId": "bfe74acf-561c-4121-f29b-caa142f20a85"
      },
      "execution_count": 87,
      "outputs": [
        {
          "output_type": "execute_result",
          "data": {
            "text/plain": [
              "    0   1  2   3   4  5  6  7  8   9\n",
              "0  14   1  1   0   2  1  1  0  0   0\n",
              "1   0  23  0   0   0  0  0  0  0   0\n",
              "2   1   4  5   4   0  0  0  3  1   6\n",
              "3   0   0  1  13   0  2  0  2  2   2\n",
              "4   2   0  0   0  10  0  0  0  0   0\n",
              "5   0   0  1   1   0  5  3  0  1   1\n",
              "6   0   3  3   1   0  2  5  0  5   2\n",
              "7   0   3  2   3   0  0  1  8  0   1\n",
              "8   2   6  2   0   0  1  0  0  8   0\n",
              "9   0   0  1   0   0  0  0  2  0  15"
            ],
            "text/html": [
              "\n",
              "  <div id=\"df-08919ce1-1dc2-47da-aaa3-0703a72276fb\">\n",
              "    <div class=\"colab-df-container\">\n",
              "      <div>\n",
              "<style scoped>\n",
              "    .dataframe tbody tr th:only-of-type {\n",
              "        vertical-align: middle;\n",
              "    }\n",
              "\n",
              "    .dataframe tbody tr th {\n",
              "        vertical-align: top;\n",
              "    }\n",
              "\n",
              "    .dataframe thead th {\n",
              "        text-align: right;\n",
              "    }\n",
              "</style>\n",
              "<table border=\"1\" class=\"dataframe\">\n",
              "  <thead>\n",
              "    <tr style=\"text-align: right;\">\n",
              "      <th></th>\n",
              "      <th>0</th>\n",
              "      <th>1</th>\n",
              "      <th>2</th>\n",
              "      <th>3</th>\n",
              "      <th>4</th>\n",
              "      <th>5</th>\n",
              "      <th>6</th>\n",
              "      <th>7</th>\n",
              "      <th>8</th>\n",
              "      <th>9</th>\n",
              "    </tr>\n",
              "  </thead>\n",
              "  <tbody>\n",
              "    <tr>\n",
              "      <th>0</th>\n",
              "      <td>14</td>\n",
              "      <td>1</td>\n",
              "      <td>1</td>\n",
              "      <td>0</td>\n",
              "      <td>2</td>\n",
              "      <td>1</td>\n",
              "      <td>1</td>\n",
              "      <td>0</td>\n",
              "      <td>0</td>\n",
              "      <td>0</td>\n",
              "    </tr>\n",
              "    <tr>\n",
              "      <th>1</th>\n",
              "      <td>0</td>\n",
              "      <td>23</td>\n",
              "      <td>0</td>\n",
              "      <td>0</td>\n",
              "      <td>0</td>\n",
              "      <td>0</td>\n",
              "      <td>0</td>\n",
              "      <td>0</td>\n",
              "      <td>0</td>\n",
              "      <td>0</td>\n",
              "    </tr>\n",
              "    <tr>\n",
              "      <th>2</th>\n",
              "      <td>1</td>\n",
              "      <td>4</td>\n",
              "      <td>5</td>\n",
              "      <td>4</td>\n",
              "      <td>0</td>\n",
              "      <td>0</td>\n",
              "      <td>0</td>\n",
              "      <td>3</td>\n",
              "      <td>1</td>\n",
              "      <td>6</td>\n",
              "    </tr>\n",
              "    <tr>\n",
              "      <th>3</th>\n",
              "      <td>0</td>\n",
              "      <td>0</td>\n",
              "      <td>1</td>\n",
              "      <td>13</td>\n",
              "      <td>0</td>\n",
              "      <td>2</td>\n",
              "      <td>0</td>\n",
              "      <td>2</td>\n",
              "      <td>2</td>\n",
              "      <td>2</td>\n",
              "    </tr>\n",
              "    <tr>\n",
              "      <th>4</th>\n",
              "      <td>2</td>\n",
              "      <td>0</td>\n",
              "      <td>0</td>\n",
              "      <td>0</td>\n",
              "      <td>10</td>\n",
              "      <td>0</td>\n",
              "      <td>0</td>\n",
              "      <td>0</td>\n",
              "      <td>0</td>\n",
              "      <td>0</td>\n",
              "    </tr>\n",
              "    <tr>\n",
              "      <th>5</th>\n",
              "      <td>0</td>\n",
              "      <td>0</td>\n",
              "      <td>1</td>\n",
              "      <td>1</td>\n",
              "      <td>0</td>\n",
              "      <td>5</td>\n",
              "      <td>3</td>\n",
              "      <td>0</td>\n",
              "      <td>1</td>\n",
              "      <td>1</td>\n",
              "    </tr>\n",
              "    <tr>\n",
              "      <th>6</th>\n",
              "      <td>0</td>\n",
              "      <td>3</td>\n",
              "      <td>3</td>\n",
              "      <td>1</td>\n",
              "      <td>0</td>\n",
              "      <td>2</td>\n",
              "      <td>5</td>\n",
              "      <td>0</td>\n",
              "      <td>5</td>\n",
              "      <td>2</td>\n",
              "    </tr>\n",
              "    <tr>\n",
              "      <th>7</th>\n",
              "      <td>0</td>\n",
              "      <td>3</td>\n",
              "      <td>2</td>\n",
              "      <td>3</td>\n",
              "      <td>0</td>\n",
              "      <td>0</td>\n",
              "      <td>1</td>\n",
              "      <td>8</td>\n",
              "      <td>0</td>\n",
              "      <td>1</td>\n",
              "    </tr>\n",
              "    <tr>\n",
              "      <th>8</th>\n",
              "      <td>2</td>\n",
              "      <td>6</td>\n",
              "      <td>2</td>\n",
              "      <td>0</td>\n",
              "      <td>0</td>\n",
              "      <td>1</td>\n",
              "      <td>0</td>\n",
              "      <td>0</td>\n",
              "      <td>8</td>\n",
              "      <td>0</td>\n",
              "    </tr>\n",
              "    <tr>\n",
              "      <th>9</th>\n",
              "      <td>0</td>\n",
              "      <td>0</td>\n",
              "      <td>1</td>\n",
              "      <td>0</td>\n",
              "      <td>0</td>\n",
              "      <td>0</td>\n",
              "      <td>0</td>\n",
              "      <td>2</td>\n",
              "      <td>0</td>\n",
              "      <td>15</td>\n",
              "    </tr>\n",
              "  </tbody>\n",
              "</table>\n",
              "</div>\n",
              "      <button class=\"colab-df-convert\" onclick=\"convertToInteractive('df-08919ce1-1dc2-47da-aaa3-0703a72276fb')\"\n",
              "              title=\"Convert this dataframe to an interactive table.\"\n",
              "              style=\"display:none;\">\n",
              "        \n",
              "  <svg xmlns=\"http://www.w3.org/2000/svg\" height=\"24px\"viewBox=\"0 0 24 24\"\n",
              "       width=\"24px\">\n",
              "    <path d=\"M0 0h24v24H0V0z\" fill=\"none\"/>\n",
              "    <path d=\"M18.56 5.44l.94 2.06.94-2.06 2.06-.94-2.06-.94-.94-2.06-.94 2.06-2.06.94zm-11 1L8.5 8.5l.94-2.06 2.06-.94-2.06-.94L8.5 2.5l-.94 2.06-2.06.94zm10 10l.94 2.06.94-2.06 2.06-.94-2.06-.94-.94-2.06-.94 2.06-2.06.94z\"/><path d=\"M17.41 7.96l-1.37-1.37c-.4-.4-.92-.59-1.43-.59-.52 0-1.04.2-1.43.59L10.3 9.45l-7.72 7.72c-.78.78-.78 2.05 0 2.83L4 21.41c.39.39.9.59 1.41.59.51 0 1.02-.2 1.41-.59l7.78-7.78 2.81-2.81c.8-.78.8-2.07 0-2.86zM5.41 20L4 18.59l7.72-7.72 1.47 1.35L5.41 20z\"/>\n",
              "  </svg>\n",
              "      </button>\n",
              "      \n",
              "  <style>\n",
              "    .colab-df-container {\n",
              "      display:flex;\n",
              "      flex-wrap:wrap;\n",
              "      gap: 12px;\n",
              "    }\n",
              "\n",
              "    .colab-df-convert {\n",
              "      background-color: #E8F0FE;\n",
              "      border: none;\n",
              "      border-radius: 50%;\n",
              "      cursor: pointer;\n",
              "      display: none;\n",
              "      fill: #1967D2;\n",
              "      height: 32px;\n",
              "      padding: 0 0 0 0;\n",
              "      width: 32px;\n",
              "    }\n",
              "\n",
              "    .colab-df-convert:hover {\n",
              "      background-color: #E2EBFA;\n",
              "      box-shadow: 0px 1px 2px rgba(60, 64, 67, 0.3), 0px 1px 3px 1px rgba(60, 64, 67, 0.15);\n",
              "      fill: #174EA6;\n",
              "    }\n",
              "\n",
              "    [theme=dark] .colab-df-convert {\n",
              "      background-color: #3B4455;\n",
              "      fill: #D2E3FC;\n",
              "    }\n",
              "\n",
              "    [theme=dark] .colab-df-convert:hover {\n",
              "      background-color: #434B5C;\n",
              "      box-shadow: 0px 1px 3px 1px rgba(0, 0, 0, 0.15);\n",
              "      filter: drop-shadow(0px 1px 2px rgba(0, 0, 0, 0.3));\n",
              "      fill: #FFFFFF;\n",
              "    }\n",
              "  </style>\n",
              "\n",
              "      <script>\n",
              "        const buttonEl =\n",
              "          document.querySelector('#df-08919ce1-1dc2-47da-aaa3-0703a72276fb button.colab-df-convert');\n",
              "        buttonEl.style.display =\n",
              "          google.colab.kernel.accessAllowed ? 'block' : 'none';\n",
              "\n",
              "        async function convertToInteractive(key) {\n",
              "          const element = document.querySelector('#df-08919ce1-1dc2-47da-aaa3-0703a72276fb');\n",
              "          const dataTable =\n",
              "            await google.colab.kernel.invokeFunction('convertToInteractive',\n",
              "                                                     [key], {});\n",
              "          if (!dataTable) return;\n",
              "\n",
              "          const docLinkHtml = 'Like what you see? Visit the ' +\n",
              "            '<a target=\"_blank\" href=https://colab.research.google.com/notebooks/data_table.ipynb>data table notebook</a>'\n",
              "            + ' to learn more about interactive tables.';\n",
              "          element.innerHTML = '';\n",
              "          dataTable['output_type'] = 'display_data';\n",
              "          await google.colab.output.renderOutput(dataTable, element);\n",
              "          const docLink = document.createElement('div');\n",
              "          docLink.innerHTML = docLinkHtml;\n",
              "          element.appendChild(docLink);\n",
              "        }\n",
              "      </script>\n",
              "    </div>\n",
              "  </div>\n",
              "  "
            ]
          },
          "metadata": {},
          "execution_count": 87
        }
      ]
    },
    {
      "cell_type": "code",
      "source": [
        "confusion_df = confusion_df.rename(columns=labels_dict)\n",
        "confusion_df.index = confusion_df.columns\n",
        "confusion_df"
      ],
      "metadata": {
        "colab": {
          "base_uri": "https://localhost:8080/",
          "height": 363
        },
        "id": "TiV7r49jyo9O",
        "outputId": "3ae7b9b4-cb13-4e66-b461-9392c06e9c17"
      },
      "execution_count": 88,
      "outputs": [
        {
          "output_type": "execute_result",
          "data": {
            "text/plain": [
              "           jazz  metal  disco  reggae  classical  country  rock  hiphop  \\\n",
              "jazz         14      1      1       0          2        1     1       0   \n",
              "metal         0     23      0       0          0        0     0       0   \n",
              "disco         1      4      5       4          0        0     0       3   \n",
              "reggae        0      0      1      13          0        2     0       2   \n",
              "classical     2      0      0       0         10        0     0       0   \n",
              "country       0      0      1       1          0        5     3       0   \n",
              "rock          0      3      3       1          0        2     5       0   \n",
              "hiphop        0      3      2       3          0        0     1       8   \n",
              "blues         2      6      2       0          0        1     0       0   \n",
              "pop           0      0      1       0          0        0     0       2   \n",
              "\n",
              "           blues  pop  \n",
              "jazz           0    0  \n",
              "metal          0    0  \n",
              "disco          1    6  \n",
              "reggae         2    2  \n",
              "classical      0    0  \n",
              "country        1    1  \n",
              "rock           5    2  \n",
              "hiphop         0    1  \n",
              "blues          8    0  \n",
              "pop            0   15  "
            ],
            "text/html": [
              "\n",
              "  <div id=\"df-5840c6bc-68fb-4ad0-8478-a47dbac074b2\">\n",
              "    <div class=\"colab-df-container\">\n",
              "      <div>\n",
              "<style scoped>\n",
              "    .dataframe tbody tr th:only-of-type {\n",
              "        vertical-align: middle;\n",
              "    }\n",
              "\n",
              "    .dataframe tbody tr th {\n",
              "        vertical-align: top;\n",
              "    }\n",
              "\n",
              "    .dataframe thead th {\n",
              "        text-align: right;\n",
              "    }\n",
              "</style>\n",
              "<table border=\"1\" class=\"dataframe\">\n",
              "  <thead>\n",
              "    <tr style=\"text-align: right;\">\n",
              "      <th></th>\n",
              "      <th>jazz</th>\n",
              "      <th>metal</th>\n",
              "      <th>disco</th>\n",
              "      <th>reggae</th>\n",
              "      <th>classical</th>\n",
              "      <th>country</th>\n",
              "      <th>rock</th>\n",
              "      <th>hiphop</th>\n",
              "      <th>blues</th>\n",
              "      <th>pop</th>\n",
              "    </tr>\n",
              "  </thead>\n",
              "  <tbody>\n",
              "    <tr>\n",
              "      <th>jazz</th>\n",
              "      <td>14</td>\n",
              "      <td>1</td>\n",
              "      <td>1</td>\n",
              "      <td>0</td>\n",
              "      <td>2</td>\n",
              "      <td>1</td>\n",
              "      <td>1</td>\n",
              "      <td>0</td>\n",
              "      <td>0</td>\n",
              "      <td>0</td>\n",
              "    </tr>\n",
              "    <tr>\n",
              "      <th>metal</th>\n",
              "      <td>0</td>\n",
              "      <td>23</td>\n",
              "      <td>0</td>\n",
              "      <td>0</td>\n",
              "      <td>0</td>\n",
              "      <td>0</td>\n",
              "      <td>0</td>\n",
              "      <td>0</td>\n",
              "      <td>0</td>\n",
              "      <td>0</td>\n",
              "    </tr>\n",
              "    <tr>\n",
              "      <th>disco</th>\n",
              "      <td>1</td>\n",
              "      <td>4</td>\n",
              "      <td>5</td>\n",
              "      <td>4</td>\n",
              "      <td>0</td>\n",
              "      <td>0</td>\n",
              "      <td>0</td>\n",
              "      <td>3</td>\n",
              "      <td>1</td>\n",
              "      <td>6</td>\n",
              "    </tr>\n",
              "    <tr>\n",
              "      <th>reggae</th>\n",
              "      <td>0</td>\n",
              "      <td>0</td>\n",
              "      <td>1</td>\n",
              "      <td>13</td>\n",
              "      <td>0</td>\n",
              "      <td>2</td>\n",
              "      <td>0</td>\n",
              "      <td>2</td>\n",
              "      <td>2</td>\n",
              "      <td>2</td>\n",
              "    </tr>\n",
              "    <tr>\n",
              "      <th>classical</th>\n",
              "      <td>2</td>\n",
              "      <td>0</td>\n",
              "      <td>0</td>\n",
              "      <td>0</td>\n",
              "      <td>10</td>\n",
              "      <td>0</td>\n",
              "      <td>0</td>\n",
              "      <td>0</td>\n",
              "      <td>0</td>\n",
              "      <td>0</td>\n",
              "    </tr>\n",
              "    <tr>\n",
              "      <th>country</th>\n",
              "      <td>0</td>\n",
              "      <td>0</td>\n",
              "      <td>1</td>\n",
              "      <td>1</td>\n",
              "      <td>0</td>\n",
              "      <td>5</td>\n",
              "      <td>3</td>\n",
              "      <td>0</td>\n",
              "      <td>1</td>\n",
              "      <td>1</td>\n",
              "    </tr>\n",
              "    <tr>\n",
              "      <th>rock</th>\n",
              "      <td>0</td>\n",
              "      <td>3</td>\n",
              "      <td>3</td>\n",
              "      <td>1</td>\n",
              "      <td>0</td>\n",
              "      <td>2</td>\n",
              "      <td>5</td>\n",
              "      <td>0</td>\n",
              "      <td>5</td>\n",
              "      <td>2</td>\n",
              "    </tr>\n",
              "    <tr>\n",
              "      <th>hiphop</th>\n",
              "      <td>0</td>\n",
              "      <td>3</td>\n",
              "      <td>2</td>\n",
              "      <td>3</td>\n",
              "      <td>0</td>\n",
              "      <td>0</td>\n",
              "      <td>1</td>\n",
              "      <td>8</td>\n",
              "      <td>0</td>\n",
              "      <td>1</td>\n",
              "    </tr>\n",
              "    <tr>\n",
              "      <th>blues</th>\n",
              "      <td>2</td>\n",
              "      <td>6</td>\n",
              "      <td>2</td>\n",
              "      <td>0</td>\n",
              "      <td>0</td>\n",
              "      <td>1</td>\n",
              "      <td>0</td>\n",
              "      <td>0</td>\n",
              "      <td>8</td>\n",
              "      <td>0</td>\n",
              "    </tr>\n",
              "    <tr>\n",
              "      <th>pop</th>\n",
              "      <td>0</td>\n",
              "      <td>0</td>\n",
              "      <td>1</td>\n",
              "      <td>0</td>\n",
              "      <td>0</td>\n",
              "      <td>0</td>\n",
              "      <td>0</td>\n",
              "      <td>2</td>\n",
              "      <td>0</td>\n",
              "      <td>15</td>\n",
              "    </tr>\n",
              "  </tbody>\n",
              "</table>\n",
              "</div>\n",
              "      <button class=\"colab-df-convert\" onclick=\"convertToInteractive('df-5840c6bc-68fb-4ad0-8478-a47dbac074b2')\"\n",
              "              title=\"Convert this dataframe to an interactive table.\"\n",
              "              style=\"display:none;\">\n",
              "        \n",
              "  <svg xmlns=\"http://www.w3.org/2000/svg\" height=\"24px\"viewBox=\"0 0 24 24\"\n",
              "       width=\"24px\">\n",
              "    <path d=\"M0 0h24v24H0V0z\" fill=\"none\"/>\n",
              "    <path d=\"M18.56 5.44l.94 2.06.94-2.06 2.06-.94-2.06-.94-.94-2.06-.94 2.06-2.06.94zm-11 1L8.5 8.5l.94-2.06 2.06-.94-2.06-.94L8.5 2.5l-.94 2.06-2.06.94zm10 10l.94 2.06.94-2.06 2.06-.94-2.06-.94-.94-2.06-.94 2.06-2.06.94z\"/><path d=\"M17.41 7.96l-1.37-1.37c-.4-.4-.92-.59-1.43-.59-.52 0-1.04.2-1.43.59L10.3 9.45l-7.72 7.72c-.78.78-.78 2.05 0 2.83L4 21.41c.39.39.9.59 1.41.59.51 0 1.02-.2 1.41-.59l7.78-7.78 2.81-2.81c.8-.78.8-2.07 0-2.86zM5.41 20L4 18.59l7.72-7.72 1.47 1.35L5.41 20z\"/>\n",
              "  </svg>\n",
              "      </button>\n",
              "      \n",
              "  <style>\n",
              "    .colab-df-container {\n",
              "      display:flex;\n",
              "      flex-wrap:wrap;\n",
              "      gap: 12px;\n",
              "    }\n",
              "\n",
              "    .colab-df-convert {\n",
              "      background-color: #E8F0FE;\n",
              "      border: none;\n",
              "      border-radius: 50%;\n",
              "      cursor: pointer;\n",
              "      display: none;\n",
              "      fill: #1967D2;\n",
              "      height: 32px;\n",
              "      padding: 0 0 0 0;\n",
              "      width: 32px;\n",
              "    }\n",
              "\n",
              "    .colab-df-convert:hover {\n",
              "      background-color: #E2EBFA;\n",
              "      box-shadow: 0px 1px 2px rgba(60, 64, 67, 0.3), 0px 1px 3px 1px rgba(60, 64, 67, 0.15);\n",
              "      fill: #174EA6;\n",
              "    }\n",
              "\n",
              "    [theme=dark] .colab-df-convert {\n",
              "      background-color: #3B4455;\n",
              "      fill: #D2E3FC;\n",
              "    }\n",
              "\n",
              "    [theme=dark] .colab-df-convert:hover {\n",
              "      background-color: #434B5C;\n",
              "      box-shadow: 0px 1px 3px 1px rgba(0, 0, 0, 0.15);\n",
              "      filter: drop-shadow(0px 1px 2px rgba(0, 0, 0, 0.3));\n",
              "      fill: #FFFFFF;\n",
              "    }\n",
              "  </style>\n",
              "\n",
              "      <script>\n",
              "        const buttonEl =\n",
              "          document.querySelector('#df-5840c6bc-68fb-4ad0-8478-a47dbac074b2 button.colab-df-convert');\n",
              "        buttonEl.style.display =\n",
              "          google.colab.kernel.accessAllowed ? 'block' : 'none';\n",
              "\n",
              "        async function convertToInteractive(key) {\n",
              "          const element = document.querySelector('#df-5840c6bc-68fb-4ad0-8478-a47dbac074b2');\n",
              "          const dataTable =\n",
              "            await google.colab.kernel.invokeFunction('convertToInteractive',\n",
              "                                                     [key], {});\n",
              "          if (!dataTable) return;\n",
              "\n",
              "          const docLinkHtml = 'Like what you see? Visit the ' +\n",
              "            '<a target=\"_blank\" href=https://colab.research.google.com/notebooks/data_table.ipynb>data table notebook</a>'\n",
              "            + ' to learn more about interactive tables.';\n",
              "          element.innerHTML = '';\n",
              "          dataTable['output_type'] = 'display_data';\n",
              "          await google.colab.output.renderOutput(dataTable, element);\n",
              "          const docLink = document.createElement('div');\n",
              "          docLink.innerHTML = docLinkHtml;\n",
              "          element.appendChild(docLink);\n",
              "        }\n",
              "      </script>\n",
              "    </div>\n",
              "  </div>\n",
              "  "
            ]
          },
          "metadata": {},
          "execution_count": 88
        }
      ]
    },
    {
      "cell_type": "code",
      "source": [
        "plt.figure(figsize = (10,7))\n",
        "sn.heatmap(confusion_df, annot=True, cmap=sn.cubehelix_palette(25))\n",
        "#actual values are on the y axis and predicted values are on the x axis"
      ],
      "metadata": {
        "colab": {
          "base_uri": "https://localhost:8080/",
          "height": 446
        },
        "id": "-DH20BzUysMr",
        "outputId": "706bcbfb-7a18-4a0c-8e97-b64929062c6f"
      },
      "execution_count": 89,
      "outputs": [
        {
          "output_type": "execute_result",
          "data": {
            "text/plain": [
              "<matplotlib.axes._subplots.AxesSubplot at 0x7f6c77b22c50>"
            ]
          },
          "metadata": {},
          "execution_count": 89
        },
        {
          "output_type": "display_data",
          "data": {
            "text/plain": [
              "<Figure size 720x504 with 2 Axes>"
            ],
            "image/png": "[encoded data removed]"
          },
          "metadata": {
            "needs_background": "light"
          }
        }
      ]
    }
  ]
}