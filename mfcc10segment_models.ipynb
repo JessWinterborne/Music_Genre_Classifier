{
  "nbformat": 4,
  "nbformat_minor": 0,
  "metadata": {
    "colab": {
      "name": "mfcc10segment_models.ipynb",
      "provenance": [],
      "collapsed_sections": []
    },
    "kernelspec": {
      "name": "python3",
      "display_name": "Python 3"
    },
    "language_info": {
      "name": "python"
    }
  },
  "cells": [
    {
      "cell_type": "code",
      "execution_count": null,
      "metadata": {
        "colab": {
          "base_uri": "https://localhost:8080/"
        },
        "id": "51BmIKoFGnhO",
        "outputId": "1aa3d342-c6d8-4e20-b78d-f2981e578277"
      },
      "outputs": [
        {
          "output_type": "stream",
          "name": "stdout",
          "text": [
            "Mounted at /content/drive\n"
          ]
        }
      ],
      "source": [
        "from google.colab import drive\n",
        "drive.mount('/content/drive')"
      ]
    },
    {
      "cell_type": "code",
      "source": [
        "import numpy as np\n",
        "import librosa\n",
        "import librosa.display\n",
        "import matplotlib.pyplot as plt\n",
        "import os\n",
        "import math\n",
        "from sklearn.model_selection import train_test_split\n",
        "import tensorflow.keras as keras\n",
        "import random\n",
        "from sklearn.metrics import confusion_matrix\n",
        "import pandas as pd\n",
        "from sklearn.metrics import ConfusionMatrixDisplay\n",
        "import seaborn as sn"
      ],
      "metadata": {
        "id": "gQaZCJXXGp-m"
      },
      "execution_count": null,
      "outputs": []
    },
    {
      "cell_type": "code",
      "source": [
        "dataset_path = 'drive/MyDrive/Data/genres_original'"
      ],
      "metadata": {
        "id": "GNjkaBThGvV8"
      },
      "execution_count": null,
      "outputs": []
    },
    {
      "cell_type": "code",
      "source": [
        "def save_mfccs(data_path, hop_length=512, sample_rate=22050, track_duration=30, num_segments=10):\n",
        "  data = {'mapping': [], 'labels': [], 'mfcc': []}\n",
        "\n",
        "  samples_per_track = sample_rate*track_duration\n",
        "  samples_per_segment = int(samples_per_track / num_segments)\n",
        "  num_mfcc_vectors_per_segment = math.ceil(samples_per_segment / hop_length)\n",
        "\n",
        "  for i, (dirpath, dirnames, filenames) in enumerate(os.walk(dataset_path)):\n",
        "        if dirpath is not data_path:\n",
        "            semantic_label = dirpath.split(\"/\")[-1]\n",
        "            data[\"mapping\"].append(semantic_label)\n",
        "\n",
        "            for f in filenames:\n",
        "              file_path = os.path.join(dirpath, f)\n",
        "              signal, sample_rate = librosa.load(file_path, sr = sample_rate)\n",
        "\n",
        "              for d in range(num_segments):\n",
        "                    start = samples_per_segment * d\n",
        "                    finish =  start + samples_per_segment\n",
        "                    mfcc = librosa.feature.mfcc(y=signal[start:finish], sr = sample_rate, n_mfcc = 13, n_fft = 2048, hop_length = hop_length)\n",
        "                    mfcc = mfcc.T\n",
        "\n",
        "                    if len(mfcc) == num_mfcc_vectors_per_segment:\n",
        "                      #this will discard wrong mfcc lengths\n",
        "                      data[\"mfcc\"].append(mfcc.tolist())\n",
        "                      data[\"labels\"].append(i-1) \n",
        "\n",
        "  X = np.array(data[\"mfcc\"])\n",
        "  Y = np.array(data[\"labels\"])\n",
        "  z = data[\"mapping\"]\n",
        "  return X, Y, z"
      ],
      "metadata": {
        "id": "HKjM55JQG1HQ"
      },
      "execution_count": null,
      "outputs": []
    },
    {
      "cell_type": "code",
      "source": [
        "X, y, label_map = save_mfccs(dataset_path)\n",
        "#for 10 segments takes about 3 mins"
      ],
      "metadata": {
        "id": "Rk4-oMyCHpO5"
      },
      "execution_count": null,
      "outputs": []
    },
    {
      "cell_type": "code",
      "source": [
        "X_train, X_test, y_train, y_test = train_test_split(X, y, test_size=0.2)"
      ],
      "metadata": {
        "id": "MgY3qNnUIpq8"
      },
      "execution_count": null,
      "outputs": []
    },
    {
      "cell_type": "code",
      "source": [
        "model = keras.Sequential([\n",
        "\n",
        "    # input layer\n",
        "    keras.layers.Flatten(input_shape=(X.shape[1], X.shape[2])),\n",
        "\n",
        "    # 1st dense layer\n",
        "    keras.layers.Dense(512, activation='relu'),\n",
        "\n",
        "    # 2nd dense layer\n",
        "    keras.layers.Dense(256, activation='relu'),\n",
        "\n",
        "    # 3rd dense layer\n",
        "    keras.layers.Dense(64, activation='relu'),\n",
        "\n",
        "    # output layer\n",
        "    keras.layers.Dense(10, activation='softmax')\n",
        "])"
      ],
      "metadata": {
        "id": "JodLwunaItQL"
      },
      "execution_count": null,
      "outputs": []
    },
    {
      "cell_type": "code",
      "source": [
        "optimiser = keras.optimizers.Adam(learning_rate=0.0001)\n",
        "model.compile(optimizer=optimiser,\n",
        "              loss='sparse_categorical_crossentropy',\n",
        "              metrics=['accuracy'])"
      ],
      "metadata": {
        "id": "Picg7nFFIuZZ"
      },
      "execution_count": null,
      "outputs": []
    },
    {
      "cell_type": "code",
      "source": [
        "history = model.fit(X_train, y_train, validation_data=(X_test, y_test), batch_size=32, epochs=25)"
      ],
      "metadata": {
        "colab": {
          "base_uri": "https://localhost:8080/"
        },
        "id": "3t5wgEb3Ixbk",
        "outputId": "867d4e8e-bb4f-4e39-8f85-5f37ca7a623d"
      },
      "execution_count": null,
      "outputs": [
        {
          "output_type": "stream",
          "name": "stdout",
          "text": [
            "Epoch 1/25\n",
            "250/250 [==============================] - 4s 16ms/step - loss: 10.0881 - accuracy: 0.3229 - val_loss: 4.6610 - val_accuracy: 0.3473\n",
            "Epoch 2/25\n",
            "250/250 [==============================] - 3s 13ms/step - loss: 3.2430 - accuracy: 0.4214 - val_loss: 3.1345 - val_accuracy: 0.3899\n",
            "Epoch 3/25\n",
            "250/250 [==============================] - 3s 13ms/step - loss: 2.1002 - accuracy: 0.4266 - val_loss: 2.1439 - val_accuracy: 0.3839\n",
            "Epoch 4/25\n",
            "250/250 [==============================] - 3s 12ms/step - loss: 1.6382 - accuracy: 0.4661 - val_loss: 2.1653 - val_accuracy: 0.3879\n",
            "Epoch 5/25\n",
            "250/250 [==============================] - 3s 12ms/step - loss: 1.4696 - accuracy: 0.5161 - val_loss: 2.0920 - val_accuracy: 0.4149\n",
            "Epoch 6/25\n",
            "250/250 [==============================] - 3s 12ms/step - loss: 1.3150 - accuracy: 0.5611 - val_loss: 2.1132 - val_accuracy: 0.4244\n",
            "Epoch 7/25\n",
            "250/250 [==============================] - 4s 16ms/step - loss: 1.2060 - accuracy: 0.5918 - val_loss: 1.9573 - val_accuracy: 0.4494\n",
            "Epoch 8/25\n",
            "250/250 [==============================] - 4s 17ms/step - loss: 1.1207 - accuracy: 0.6227 - val_loss: 2.2209 - val_accuracy: 0.4630\n",
            "Epoch 9/25\n",
            "250/250 [==============================] - 3s 13ms/step - loss: 1.0297 - accuracy: 0.6502 - val_loss: 2.0047 - val_accuracy: 0.4700\n",
            "Epoch 10/25\n",
            "250/250 [==============================] - 4s 14ms/step - loss: 0.9447 - accuracy: 0.6786 - val_loss: 1.9128 - val_accuracy: 0.4700\n",
            "Epoch 11/25\n",
            "250/250 [==============================] - 4s 14ms/step - loss: 0.8600 - accuracy: 0.7074 - val_loss: 2.0135 - val_accuracy: 0.4685\n",
            "Epoch 12/25\n",
            "250/250 [==============================] - 3s 12ms/step - loss: 0.8392 - accuracy: 0.7099 - val_loss: 2.0338 - val_accuracy: 0.5010\n",
            "Epoch 13/25\n",
            "250/250 [==============================] - 4s 15ms/step - loss: 0.7982 - accuracy: 0.7271 - val_loss: 2.0250 - val_accuracy: 0.5065\n",
            "Epoch 14/25\n",
            "250/250 [==============================] - 3s 12ms/step - loss: 0.7046 - accuracy: 0.7545 - val_loss: 1.9254 - val_accuracy: 0.5155\n",
            "Epoch 15/25\n",
            "250/250 [==============================] - 3s 13ms/step - loss: 0.6429 - accuracy: 0.7728 - val_loss: 2.0837 - val_accuracy: 0.4965\n",
            "Epoch 16/25\n",
            "250/250 [==============================] - 3s 13ms/step - loss: 0.6188 - accuracy: 0.7779 - val_loss: 2.0244 - val_accuracy: 0.5065\n",
            "Epoch 17/25\n",
            "250/250 [==============================] - 4s 14ms/step - loss: 0.5814 - accuracy: 0.7952 - val_loss: 2.1635 - val_accuracy: 0.5295\n",
            "Epoch 18/25\n",
            "250/250 [==============================] - 3s 14ms/step - loss: 0.5482 - accuracy: 0.8098 - val_loss: 2.0492 - val_accuracy: 0.5130\n",
            "Epoch 19/25\n",
            "250/250 [==============================] - 3s 14ms/step - loss: 0.4810 - accuracy: 0.8334 - val_loss: 1.9741 - val_accuracy: 0.5415\n",
            "Epoch 20/25\n",
            "250/250 [==============================] - 4s 14ms/step - loss: 0.4338 - accuracy: 0.8496 - val_loss: 1.9636 - val_accuracy: 0.5576\n",
            "Epoch 21/25\n",
            "250/250 [==============================] - 3s 14ms/step - loss: 0.4465 - accuracy: 0.8473 - val_loss: 1.9890 - val_accuracy: 0.5601\n",
            "Epoch 22/25\n",
            "250/250 [==============================] - 3s 13ms/step - loss: 0.4265 - accuracy: 0.8535 - val_loss: 2.0575 - val_accuracy: 0.5460\n",
            "Epoch 23/25\n",
            "250/250 [==============================] - 3s 13ms/step - loss: 0.3435 - accuracy: 0.8819 - val_loss: 2.0949 - val_accuracy: 0.5666\n",
            "Epoch 24/25\n",
            "250/250 [==============================] - 4s 14ms/step - loss: 0.3491 - accuracy: 0.8818 - val_loss: 2.1987 - val_accuracy: 0.5280\n",
            "Epoch 25/25\n",
            "250/250 [==============================] - 4s 14ms/step - loss: 0.3358 - accuracy: 0.8831 - val_loss: 2.3382 - val_accuracy: 0.5445\n"
          ]
        }
      ]
    },
    {
      "cell_type": "code",
      "source": [
        "def plot_history(history):\n",
        "\n",
        "  plt.figure(figsize=(6,3))\n",
        "  #create accuracy sublpot\n",
        "  plt.plot(history.history[\"accuracy\"], label=\"train accuracy\")\n",
        "  plt.plot(history.history[\"val_accuracy\"], label=\"test accuracy\")\n",
        "  plt.ylabel('Accuracy')\n",
        "  plt.xlabel('Epoch')\n",
        "  #axs[0].legend(loc=\"lower right\")\n",
        "  plt.title('Accuracy Comparison')\n",
        "  plt.legend()\n",
        "  plt.tight_layout()\n",
        "  plt.show()\n",
        "\n",
        "  plt.figure(figsize=(6,3))\n",
        "  #create error sublpot\n",
        "  plt.plot(history.history[\"loss\"], label=\"train error\")\n",
        "  plt.plot(history.history[\"val_loss\"], label=\"test error\")\n",
        "  plt.ylabel('Error')\n",
        "  plt.xlabel('Epoch')\n",
        "  #axs[1]wlegend(loc=\"upper right\")\n",
        "  plt.title('Error Comparison')\n",
        "  plt.legend()\n",
        "  plt.tight_layout()\n",
        "  plt.show()"
      ],
      "metadata": {
        "id": "ltIn7wtmI30P"
      },
      "execution_count": null,
      "outputs": []
    },
    {
      "cell_type": "code",
      "source": [
        "plot_history(history)\n"
      ],
      "metadata": {
        "colab": {
          "base_uri": "https://localhost:8080/",
          "height": 433
        },
        "id": "Igvd-18hI5CI",
        "outputId": "0b2916c6-3d72-4bbc-8434-92d50f176b2a"
      },
      "execution_count": null,
      "outputs": [
        {
          "output_type": "display_data",
          "data": {
            "text/plain": [
              "<Figure size 432x216 with 1 Axes>"
            ],
            "image/png": "[encoded data removed]"
          },
          "metadata": {
            "needs_background": "light"
          }
        },
        {
          "output_type": "display_data",
          "data": {
            "text/plain": [
              "<Figure size 432x216 with 1 Axes>"
            ],
            "image/png": "[encoded data removed]"
          },
          "metadata": {
            "needs_background": "light"
          }
        }
      ]
    },
    {
      "cell_type": "code",
      "source": [
        "#overfitting:"
      ],
      "metadata": {
        "id": "IA5Mj41ZI6bL"
      },
      "execution_count": null,
      "outputs": []
    },
    {
      "cell_type": "code",
      "source": [
        "model_regularized = keras.Sequential([\n",
        "\n",
        "    # input layer\n",
        "    keras.layers.Flatten(input_shape=(X.shape[1], X.shape[2])),\n",
        "\n",
        "    # 1st dense layer\n",
        "    keras.layers.Dense(512, activation='relu', kernel_regularizer=keras.regularizers.l2(0.001)),\n",
        "    keras.layers.Dropout(0.3),\n",
        "\n",
        "    # 2nd dense layer\n",
        "    keras.layers.Dense(256, activation='relu', kernel_regularizer=keras.regularizers.l2(0.001)),\n",
        "    keras.layers.Dropout(0.3),\n",
        "\n",
        "    # 3rd dense layer\n",
        "    keras.layers.Dense(64, activation='relu', kernel_regularizer=keras.regularizers.l2(0.001)),\n",
        "    keras.layers.Dropout(0.3),\n",
        "\n",
        "    # output layer\n",
        "    keras.layers.Dense(10, activation='softmax')\n",
        "])"
      ],
      "metadata": {
        "id": "pafLIk0bI8Vz"
      },
      "execution_count": null,
      "outputs": []
    },
    {
      "cell_type": "code",
      "source": [
        "optimiser = keras.optimizers.Adam(learning_rate=0.0001)\n",
        "model_regularized.compile(optimizer=optimiser,\n",
        "              loss='sparse_categorical_crossentropy',\n",
        "              metrics=['accuracy'])"
      ],
      "metadata": {
        "id": "vp6raeaNI9m5"
      },
      "execution_count": null,
      "outputs": []
    },
    {
      "cell_type": "code",
      "source": [
        "history = model_regularized.fit(X_train, y_train, validation_data=(X_test, y_test), batch_size=32, epochs=50)"
      ],
      "metadata": {
        "colab": {
          "base_uri": "https://localhost:8080/"
        },
        "id": "98InQ5TmI-VG",
        "outputId": "606f4c78-54bb-45c4-f1fd-b601f49a09e4"
      },
      "execution_count": null,
      "outputs": [
        {
          "output_type": "stream",
          "name": "stdout",
          "text": [
            "Epoch 1/50\n",
            "250/250 [==============================] - 7s 20ms/step - loss: 22.9832 - accuracy: 0.1631 - val_loss: 3.4482 - val_accuracy: 0.2462\n",
            "Epoch 2/50\n",
            "250/250 [==============================] - 5s 21ms/step - loss: 6.1214 - accuracy: 0.1654 - val_loss: 3.4619 - val_accuracy: 0.1481\n",
            "Epoch 3/50\n",
            "250/250 [==============================] - 5s 21ms/step - loss: 4.2478 - accuracy: 0.1689 - val_loss: 3.4803 - val_accuracy: 0.1251\n",
            "Epoch 4/50\n",
            "250/250 [==============================] - 5s 19ms/step - loss: 3.8315 - accuracy: 0.1685 - val_loss: 3.4780 - val_accuracy: 0.1296\n",
            "Epoch 5/50\n",
            "250/250 [==============================] - 5s 19ms/step - loss: 3.6333 - accuracy: 0.1706 - val_loss: 3.4448 - val_accuracy: 0.1491\n",
            "Epoch 6/50\n",
            "250/250 [==============================] - 8s 32ms/step - loss: 3.5713 - accuracy: 0.1699 - val_loss: 3.4274 - val_accuracy: 0.1522\n",
            "Epoch 7/50\n",
            "250/250 [==============================] - 7s 28ms/step - loss: 3.5023 - accuracy: 0.1805 - val_loss: 3.3938 - val_accuracy: 0.1667\n",
            "Epoch 8/50\n",
            "250/250 [==============================] - 5s 22ms/step - loss: 3.4390 - accuracy: 0.1874 - val_loss: 3.3713 - val_accuracy: 0.1662\n",
            "Epoch 9/50\n",
            "250/250 [==============================] - 5s 20ms/step - loss: 3.4147 - accuracy: 0.2008 - val_loss: 3.3415 - val_accuracy: 0.1852\n",
            "Epoch 10/50\n",
            "250/250 [==============================] - 5s 21ms/step - loss: 3.3888 - accuracy: 0.2016 - val_loss: 3.3131 - val_accuracy: 0.1892\n",
            "Epoch 11/50\n",
            "250/250 [==============================] - 5s 20ms/step - loss: 3.3380 - accuracy: 0.2111 - val_loss: 3.2610 - val_accuracy: 0.2172\n",
            "Epoch 12/50\n",
            "250/250 [==============================] - 5s 18ms/step - loss: 3.3069 - accuracy: 0.2233 - val_loss: 3.2317 - val_accuracy: 0.2267\n",
            "Epoch 13/50\n",
            "250/250 [==============================] - 5s 20ms/step - loss: 3.2686 - accuracy: 0.2345 - val_loss: 3.2293 - val_accuracy: 0.2247\n",
            "Epoch 14/50\n",
            "250/250 [==============================] - 5s 19ms/step - loss: 3.2333 - accuracy: 0.2509 - val_loss: 3.2193 - val_accuracy: 0.2322\n",
            "Epoch 15/50\n",
            "250/250 [==============================] - 5s 18ms/step - loss: 3.1922 - accuracy: 0.2600 - val_loss: 3.0883 - val_accuracy: 0.2913\n",
            "Epoch 16/50\n",
            "250/250 [==============================] - 5s 19ms/step - loss: 3.1677 - accuracy: 0.2825 - val_loss: 3.0539 - val_accuracy: 0.2998\n",
            "Epoch 17/50\n",
            "250/250 [==============================] - 5s 21ms/step - loss: 3.1314 - accuracy: 0.2750 - val_loss: 2.9986 - val_accuracy: 0.3183\n",
            "Epoch 18/50\n",
            "250/250 [==============================] - 5s 20ms/step - loss: 3.0649 - accuracy: 0.2927 - val_loss: 2.9578 - val_accuracy: 0.3343\n",
            "Epoch 19/50\n",
            "250/250 [==============================] - 5s 20ms/step - loss: 3.0328 - accuracy: 0.3007 - val_loss: 2.9208 - val_accuracy: 0.3398\n",
            "Epoch 20/50\n",
            "250/250 [==============================] - 5s 19ms/step - loss: 2.9990 - accuracy: 0.3070 - val_loss: 2.9325 - val_accuracy: 0.3418\n",
            "Epoch 21/50\n",
            "250/250 [==============================] - 5s 19ms/step - loss: 2.9627 - accuracy: 0.3141 - val_loss: 2.8624 - val_accuracy: 0.3609\n",
            "Epoch 22/50\n",
            "250/250 [==============================] - 5s 20ms/step - loss: 2.9202 - accuracy: 0.3252 - val_loss: 2.8641 - val_accuracy: 0.3438\n",
            "Epoch 23/50\n",
            "250/250 [==============================] - 5s 20ms/step - loss: 2.8994 - accuracy: 0.3216 - val_loss: 2.8316 - val_accuracy: 0.3674\n",
            "Epoch 24/50\n",
            "250/250 [==============================] - 5s 21ms/step - loss: 2.8413 - accuracy: 0.3353 - val_loss: 2.7862 - val_accuracy: 0.3719\n",
            "Epoch 25/50\n",
            "250/250 [==============================] - 5s 21ms/step - loss: 2.8176 - accuracy: 0.3378 - val_loss: 2.7574 - val_accuracy: 0.3884\n",
            "Epoch 26/50\n",
            "250/250 [==============================] - 5s 21ms/step - loss: 2.7822 - accuracy: 0.3423 - val_loss: 2.7266 - val_accuracy: 0.3774\n",
            "Epoch 27/50\n",
            "250/250 [==============================] - 5s 21ms/step - loss: 2.7427 - accuracy: 0.3476 - val_loss: 2.6348 - val_accuracy: 0.4064\n",
            "Epoch 28/50\n",
            "250/250 [==============================] - 5s 20ms/step - loss: 2.6933 - accuracy: 0.3610 - val_loss: 2.6097 - val_accuracy: 0.4109\n",
            "Epoch 29/50\n",
            "250/250 [==============================] - 5s 21ms/step - loss: 2.6481 - accuracy: 0.3624 - val_loss: 2.5761 - val_accuracy: 0.4159\n",
            "Epoch 30/50\n",
            "250/250 [==============================] - 5s 21ms/step - loss: 2.6107 - accuracy: 0.3681 - val_loss: 2.5255 - val_accuracy: 0.4319\n",
            "Epoch 31/50\n",
            "250/250 [==============================] - 5s 18ms/step - loss: 2.5604 - accuracy: 0.3777 - val_loss: 2.5017 - val_accuracy: 0.4124\n",
            "Epoch 32/50\n",
            "250/250 [==============================] - 5s 21ms/step - loss: 2.5098 - accuracy: 0.3858 - val_loss: 2.4833 - val_accuracy: 0.4324\n",
            "Epoch 33/50\n",
            "250/250 [==============================] - 5s 21ms/step - loss: 2.4688 - accuracy: 0.3995 - val_loss: 2.4265 - val_accuracy: 0.4359\n",
            "Epoch 34/50\n",
            "250/250 [==============================] - 5s 21ms/step - loss: 2.4430 - accuracy: 0.3978 - val_loss: 2.3790 - val_accuracy: 0.4359\n",
            "Epoch 35/50\n",
            "250/250 [==============================] - 5s 20ms/step - loss: 2.3806 - accuracy: 0.4091 - val_loss: 2.3480 - val_accuracy: 0.4459\n",
            "Epoch 36/50\n",
            "250/250 [==============================] - 5s 21ms/step - loss: 2.3666 - accuracy: 0.4170 - val_loss: 2.3178 - val_accuracy: 0.4434\n",
            "Epoch 37/50\n",
            "250/250 [==============================] - 5s 20ms/step - loss: 2.3081 - accuracy: 0.4243 - val_loss: 2.2719 - val_accuracy: 0.4670\n",
            "Epoch 38/50\n",
            "250/250 [==============================] - 5s 21ms/step - loss: 2.2602 - accuracy: 0.4352 - val_loss: 2.2589 - val_accuracy: 0.4675\n",
            "Epoch 39/50\n",
            "250/250 [==============================] - 5s 21ms/step - loss: 2.2099 - accuracy: 0.4408 - val_loss: 2.2267 - val_accuracy: 0.4625\n",
            "Epoch 40/50\n",
            "250/250 [==============================] - 5s 19ms/step - loss: 2.2047 - accuracy: 0.4353 - val_loss: 2.2041 - val_accuracy: 0.4765\n",
            "Epoch 41/50\n",
            "250/250 [==============================] - 5s 21ms/step - loss: 2.1633 - accuracy: 0.4534 - val_loss: 2.1623 - val_accuracy: 0.4720\n",
            "Epoch 42/50\n",
            "250/250 [==============================] - 5s 21ms/step - loss: 2.1458 - accuracy: 0.4465 - val_loss: 2.1492 - val_accuracy: 0.4765\n",
            "Epoch 43/50\n",
            "250/250 [==============================] - 5s 21ms/step - loss: 2.0808 - accuracy: 0.4628 - val_loss: 2.0882 - val_accuracy: 0.4885\n",
            "Epoch 44/50\n",
            "250/250 [==============================] - 5s 22ms/step - loss: 2.0422 - accuracy: 0.4748 - val_loss: 2.0755 - val_accuracy: 0.4780\n",
            "Epoch 45/50\n",
            "250/250 [==============================] - 5s 18ms/step - loss: 1.9975 - accuracy: 0.4807 - val_loss: 2.0526 - val_accuracy: 0.4780\n",
            "Epoch 46/50\n",
            "250/250 [==============================] - 5s 21ms/step - loss: 1.9494 - accuracy: 0.4859 - val_loss: 2.0684 - val_accuracy: 0.4905\n",
            "Epoch 47/50\n",
            "250/250 [==============================] - 6s 23ms/step - loss: 1.9469 - accuracy: 0.4859 - val_loss: 2.0385 - val_accuracy: 0.4825\n",
            "Epoch 48/50\n",
            "250/250 [==============================] - 5s 22ms/step - loss: 1.9057 - accuracy: 0.4902 - val_loss: 2.0102 - val_accuracy: 0.4940\n",
            "Epoch 49/50\n",
            "250/250 [==============================] - 5s 22ms/step - loss: 1.8756 - accuracy: 0.4975 - val_loss: 1.9738 - val_accuracy: 0.5090\n",
            "Epoch 50/50\n",
            "250/250 [==============================] - 5s 21ms/step - loss: 1.8309 - accuracy: 0.5130 - val_loss: 1.9669 - val_accuracy: 0.5020\n"
          ]
        }
      ]
    },
    {
      "cell_type": "code",
      "source": [
        "plot_history(history)\n",
        "#50 epochs may not be enough here, so well try 100"
      ],
      "metadata": {
        "colab": {
          "base_uri": "https://localhost:8080/",
          "height": 433
        },
        "id": "X82mrQL5JAIG",
        "outputId": "b1bc6eba-0261-4823-bcef-3dd5889ac7f1"
      },
      "execution_count": null,
      "outputs": [
        {
          "output_type": "display_data",
          "data": {
            "text/plain": [
              "<Figure size 432x216 with 1 Axes>"
            ],
            "image/png": "[encoded data removed]"
          },
          "metadata": {
            "needs_background": "light"
          }
        },
        {
          "output_type": "display_data",
          "data": {
            "text/plain": [
              "<Figure size 432x216 with 1 Axes>"
            ],
            "image/png": "[encoded data removed]"
          },
          "metadata": {
            "needs_background": "light"
          }
        }
      ]
    },
    {
      "cell_type": "code",
      "source": [
        "history = model_regularized.fit(X_train, y_train, validation_data=(X_test, y_test), batch_size=32, epochs=100)"
      ],
      "metadata": {
        "colab": {
          "base_uri": "https://localhost:8080/"
        },
        "id": "40CI6gSnNa7b",
        "outputId": "767343c5-e1ef-469d-956d-71bb8adcfdb6"
      },
      "execution_count": null,
      "outputs": [
        {
          "output_type": "stream",
          "name": "stdout",
          "text": [
            "Epoch 1/100\n",
            "250/250 [==============================] - 5s 21ms/step - loss: 1.8226 - accuracy: 0.5119 - val_loss: 1.9508 - val_accuracy: 0.4900\n",
            "Epoch 2/100\n",
            "250/250 [==============================] - 8s 33ms/step - loss: 1.7977 - accuracy: 0.5217 - val_loss: 1.9365 - val_accuracy: 0.5070\n",
            "Epoch 3/100\n",
            "250/250 [==============================] - 5s 20ms/step - loss: 1.7662 - accuracy: 0.5225 - val_loss: 1.9461 - val_accuracy: 0.5265\n",
            "Epoch 4/100\n",
            "250/250 [==============================] - 5s 19ms/step - loss: 1.7318 - accuracy: 0.5358 - val_loss: 1.9280 - val_accuracy: 0.5180\n",
            "Epoch 5/100\n",
            "250/250 [==============================] - 5s 19ms/step - loss: 1.7174 - accuracy: 0.5378 - val_loss: 1.8932 - val_accuracy: 0.5090\n",
            "Epoch 6/100\n",
            "250/250 [==============================] - 5s 21ms/step - loss: 1.6861 - accuracy: 0.5442 - val_loss: 1.9166 - val_accuracy: 0.5195\n",
            "Epoch 7/100\n",
            "250/250 [==============================] - 5s 19ms/step - loss: 1.6665 - accuracy: 0.5548 - val_loss: 1.9144 - val_accuracy: 0.5270\n",
            "Epoch 8/100\n",
            "250/250 [==============================] - 5s 20ms/step - loss: 1.6467 - accuracy: 0.5613 - val_loss: 1.8847 - val_accuracy: 0.5330\n",
            "Epoch 9/100\n",
            "250/250 [==============================] - 5s 20ms/step - loss: 1.6101 - accuracy: 0.5671 - val_loss: 1.8717 - val_accuracy: 0.5335\n",
            "Epoch 10/100\n",
            "250/250 [==============================] - 5s 21ms/step - loss: 1.5953 - accuracy: 0.5742 - val_loss: 1.8877 - val_accuracy: 0.5395\n",
            "Epoch 11/100\n",
            "250/250 [==============================] - 5s 20ms/step - loss: 1.5659 - accuracy: 0.5777 - val_loss: 1.8446 - val_accuracy: 0.5440\n",
            "Epoch 12/100\n",
            "250/250 [==============================] - 5s 21ms/step - loss: 1.5581 - accuracy: 0.5881 - val_loss: 1.8412 - val_accuracy: 0.5435\n",
            "Epoch 13/100\n",
            "250/250 [==============================] - 5s 21ms/step - loss: 1.5439 - accuracy: 0.5879 - val_loss: 1.8289 - val_accuracy: 0.5385\n",
            "Epoch 14/100\n",
            "250/250 [==============================] - 5s 21ms/step - loss: 1.5169 - accuracy: 0.5949 - val_loss: 1.8654 - val_accuracy: 0.5571\n",
            "Epoch 15/100\n",
            "250/250 [==============================] - 5s 21ms/step - loss: 1.4928 - accuracy: 0.6033 - val_loss: 1.8190 - val_accuracy: 0.5536\n",
            "Epoch 16/100\n",
            "250/250 [==============================] - 5s 19ms/step - loss: 1.4976 - accuracy: 0.5969 - val_loss: 1.8614 - val_accuracy: 0.5380\n",
            "Epoch 17/100\n",
            "250/250 [==============================] - 4s 17ms/step - loss: 1.4550 - accuracy: 0.6124 - val_loss: 1.8017 - val_accuracy: 0.5596\n",
            "Epoch 18/100\n",
            "250/250 [==============================] - 4s 18ms/step - loss: 1.4151 - accuracy: 0.6238 - val_loss: 1.7768 - val_accuracy: 0.5380\n",
            "Epoch 19/100\n",
            "250/250 [==============================] - 4s 17ms/step - loss: 1.4134 - accuracy: 0.6262 - val_loss: 1.7925 - val_accuracy: 0.5611\n",
            "Epoch 20/100\n",
            "250/250 [==============================] - 5s 19ms/step - loss: 1.3953 - accuracy: 0.6321 - val_loss: 1.7632 - val_accuracy: 0.5851\n",
            "Epoch 21/100\n",
            "250/250 [==============================] - 5s 20ms/step - loss: 1.3878 - accuracy: 0.6332 - val_loss: 1.8333 - val_accuracy: 0.5626\n",
            "Epoch 22/100\n",
            "250/250 [==============================] - 5s 20ms/step - loss: 1.3802 - accuracy: 0.6317 - val_loss: 1.7652 - val_accuracy: 0.5821\n",
            "Epoch 23/100\n",
            "250/250 [==============================] - 5s 20ms/step - loss: 1.3413 - accuracy: 0.6458 - val_loss: 1.7928 - val_accuracy: 0.5736\n",
            "Epoch 24/100\n",
            "250/250 [==============================] - 5s 19ms/step - loss: 1.3243 - accuracy: 0.6476 - val_loss: 1.7900 - val_accuracy: 0.5566\n",
            "Epoch 25/100\n",
            "250/250 [==============================] - 5s 19ms/step - loss: 1.3099 - accuracy: 0.6600 - val_loss: 1.7991 - val_accuracy: 0.5736\n",
            "Epoch 26/100\n",
            "250/250 [==============================] - 5s 19ms/step - loss: 1.2788 - accuracy: 0.6615 - val_loss: 1.7647 - val_accuracy: 0.5731\n",
            "Epoch 27/100\n",
            "250/250 [==============================] - 5s 20ms/step - loss: 1.2706 - accuracy: 0.6626 - val_loss: 1.7268 - val_accuracy: 0.5801\n",
            "Epoch 28/100\n",
            "250/250 [==============================] - 5s 19ms/step - loss: 1.2442 - accuracy: 0.6735 - val_loss: 1.7440 - val_accuracy: 0.5856\n",
            "Epoch 29/100\n",
            "250/250 [==============================] - 5s 20ms/step - loss: 1.2376 - accuracy: 0.6776 - val_loss: 1.7578 - val_accuracy: 0.5926\n",
            "Epoch 30/100\n",
            "250/250 [==============================] - 5s 21ms/step - loss: 1.2201 - accuracy: 0.6810 - val_loss: 1.7483 - val_accuracy: 0.5861\n",
            "Epoch 31/100\n",
            "250/250 [==============================] - 5s 21ms/step - loss: 1.2204 - accuracy: 0.6842 - val_loss: 1.7338 - val_accuracy: 0.6066\n",
            "Epoch 32/100\n",
            "250/250 [==============================] - 5s 20ms/step - loss: 1.1998 - accuracy: 0.6859 - val_loss: 1.7901 - val_accuracy: 0.5806\n",
            "Epoch 33/100\n",
            "250/250 [==============================] - 5s 21ms/step - loss: 1.1950 - accuracy: 0.6895 - val_loss: 1.7765 - val_accuracy: 0.5911\n",
            "Epoch 34/100\n",
            "250/250 [==============================] - 5s 21ms/step - loss: 1.1633 - accuracy: 0.7012 - val_loss: 1.7780 - val_accuracy: 0.5956\n",
            "Epoch 35/100\n",
            "250/250 [==============================] - 5s 20ms/step - loss: 1.1565 - accuracy: 0.6992 - val_loss: 1.7082 - val_accuracy: 0.6011\n",
            "Epoch 36/100\n",
            "250/250 [==============================] - 5s 21ms/step - loss: 1.1288 - accuracy: 0.7123 - val_loss: 1.8112 - val_accuracy: 0.5771\n",
            "Epoch 37/100\n",
            "250/250 [==============================] - 5s 21ms/step - loss: 1.1300 - accuracy: 0.7067 - val_loss: 1.7719 - val_accuracy: 0.6056\n",
            "Epoch 38/100\n",
            "250/250 [==============================] - 5s 20ms/step - loss: 1.0905 - accuracy: 0.7206 - val_loss: 1.7977 - val_accuracy: 0.5896\n",
            "Epoch 39/100\n",
            "250/250 [==============================] - 5s 20ms/step - loss: 1.0746 - accuracy: 0.7238 - val_loss: 1.8200 - val_accuracy: 0.6031\n",
            "Epoch 40/100\n",
            "250/250 [==============================] - 5s 19ms/step - loss: 1.0854 - accuracy: 0.7242 - val_loss: 1.7678 - val_accuracy: 0.5951\n",
            "Epoch 41/100\n",
            "250/250 [==============================] - 5s 20ms/step - loss: 1.0442 - accuracy: 0.7362 - val_loss: 1.8670 - val_accuracy: 0.5996\n",
            "Epoch 42/100\n",
            "250/250 [==============================] - 5s 21ms/step - loss: 1.0689 - accuracy: 0.7301 - val_loss: 1.7862 - val_accuracy: 0.6021\n",
            "Epoch 43/100\n",
            "250/250 [==============================] - 4s 17ms/step - loss: 1.0435 - accuracy: 0.7405 - val_loss: 1.7241 - val_accuracy: 0.6076\n",
            "Epoch 44/100\n",
            "250/250 [==============================] - 4s 17ms/step - loss: 1.0410 - accuracy: 0.7400 - val_loss: 1.7992 - val_accuracy: 0.5956\n",
            "Epoch 45/100\n",
            "250/250 [==============================] - 4s 17ms/step - loss: 1.0163 - accuracy: 0.7441 - val_loss: 1.7557 - val_accuracy: 0.6016\n",
            "Epoch 46/100\n",
            "250/250 [==============================] - 5s 21ms/step - loss: 1.0275 - accuracy: 0.7419 - val_loss: 1.7575 - val_accuracy: 0.6091\n",
            "Epoch 47/100\n",
            "250/250 [==============================] - 5s 20ms/step - loss: 1.0306 - accuracy: 0.7429 - val_loss: 1.8032 - val_accuracy: 0.6181\n",
            "Epoch 48/100\n",
            "250/250 [==============================] - 5s 19ms/step - loss: 1.0035 - accuracy: 0.7487 - val_loss: 1.7756 - val_accuracy: 0.6096\n",
            "Epoch 49/100\n",
            "250/250 [==============================] - 5s 21ms/step - loss: 0.9831 - accuracy: 0.7564 - val_loss: 1.8545 - val_accuracy: 0.6106\n",
            "Epoch 50/100\n",
            "250/250 [==============================] - 5s 20ms/step - loss: 0.9794 - accuracy: 0.7581 - val_loss: 1.7411 - val_accuracy: 0.6036\n",
            "Epoch 51/100\n",
            "250/250 [==============================] - 5s 20ms/step - loss: 0.9682 - accuracy: 0.7626 - val_loss: 1.7553 - val_accuracy: 0.6061\n",
            "Epoch 52/100\n",
            "250/250 [==============================] - 5s 18ms/step - loss: 0.9416 - accuracy: 0.7624 - val_loss: 1.7853 - val_accuracy: 0.6071\n",
            "Epoch 53/100\n",
            "250/250 [==============================] - 5s 20ms/step - loss: 0.9495 - accuracy: 0.7730 - val_loss: 1.7447 - val_accuracy: 0.6076\n",
            "Epoch 54/100\n",
            "250/250 [==============================] - 5s 18ms/step - loss: 0.9517 - accuracy: 0.7659 - val_loss: 1.7959 - val_accuracy: 0.6071\n",
            "Epoch 55/100\n",
            "250/250 [==============================] - 5s 21ms/step - loss: 0.9316 - accuracy: 0.7727 - val_loss: 1.8264 - val_accuracy: 0.6036\n",
            "Epoch 56/100\n",
            "250/250 [==============================] - 5s 21ms/step - loss: 0.9454 - accuracy: 0.7734 - val_loss: 1.7611 - val_accuracy: 0.6141\n",
            "Epoch 57/100\n",
            "250/250 [==============================] - 5s 19ms/step - loss: 0.9421 - accuracy: 0.7669 - val_loss: 1.7909 - val_accuracy: 0.6106\n",
            "Epoch 58/100\n",
            "250/250 [==============================] - 5s 20ms/step - loss: 0.8928 - accuracy: 0.7825 - val_loss: 1.7450 - val_accuracy: 0.6151\n",
            "Epoch 59/100\n",
            "250/250 [==============================] - 5s 21ms/step - loss: 0.8838 - accuracy: 0.7919 - val_loss: 1.7229 - val_accuracy: 0.6121\n",
            "Epoch 60/100\n",
            "250/250 [==============================] - 5s 20ms/step - loss: 0.8680 - accuracy: 0.7929 - val_loss: 1.7204 - val_accuracy: 0.6296\n",
            "Epoch 61/100\n",
            "250/250 [==============================] - 5s 20ms/step - loss: 0.8811 - accuracy: 0.7833 - val_loss: 1.7713 - val_accuracy: 0.6156\n",
            "Epoch 62/100\n",
            "250/250 [==============================] - 5s 19ms/step - loss: 0.8579 - accuracy: 0.7963 - val_loss: 1.7950 - val_accuracy: 0.6156\n",
            "Epoch 63/100\n",
            "250/250 [==============================] - 5s 21ms/step - loss: 0.8772 - accuracy: 0.7928 - val_loss: 1.8014 - val_accuracy: 0.6066\n",
            "Epoch 64/100\n",
            "250/250 [==============================] - 4s 18ms/step - loss: 0.8586 - accuracy: 0.7971 - val_loss: 1.7580 - val_accuracy: 0.6246\n",
            "Epoch 65/100\n",
            "250/250 [==============================] - 5s 21ms/step - loss: 0.8535 - accuracy: 0.8018 - val_loss: 1.8597 - val_accuracy: 0.6051\n",
            "Epoch 66/100\n",
            "250/250 [==============================] - 5s 18ms/step - loss: 0.8509 - accuracy: 0.7991 - val_loss: 1.7401 - val_accuracy: 0.6211\n",
            "Epoch 67/100\n",
            "250/250 [==============================] - 4s 17ms/step - loss: 0.8355 - accuracy: 0.8071 - val_loss: 1.7394 - val_accuracy: 0.6246\n",
            "Epoch 68/100\n",
            "250/250 [==============================] - 5s 20ms/step - loss: 0.8163 - accuracy: 0.8095 - val_loss: 1.7503 - val_accuracy: 0.6266\n",
            "Epoch 69/100\n",
            "250/250 [==============================] - 5s 20ms/step - loss: 0.8184 - accuracy: 0.8081 - val_loss: 1.7597 - val_accuracy: 0.6131\n",
            "Epoch 70/100\n",
            "250/250 [==============================] - 5s 21ms/step - loss: 0.8301 - accuracy: 0.8041 - val_loss: 1.7075 - val_accuracy: 0.6166\n",
            "Epoch 71/100\n",
            "250/250 [==============================] - 5s 19ms/step - loss: 0.7982 - accuracy: 0.8167 - val_loss: 1.7454 - val_accuracy: 0.6276\n",
            "Epoch 72/100\n",
            "250/250 [==============================] - 5s 19ms/step - loss: 0.7956 - accuracy: 0.8162 - val_loss: 1.7627 - val_accuracy: 0.6291\n",
            "Epoch 73/100\n",
            "250/250 [==============================] - 5s 19ms/step - loss: 0.7873 - accuracy: 0.8162 - val_loss: 1.7353 - val_accuracy: 0.6246\n",
            "Epoch 74/100\n",
            "250/250 [==============================] - 4s 17ms/step - loss: 0.7672 - accuracy: 0.8212 - val_loss: 1.7934 - val_accuracy: 0.6296\n",
            "Epoch 75/100\n",
            "250/250 [==============================] - 5s 20ms/step - loss: 0.7680 - accuracy: 0.8240 - val_loss: 1.7566 - val_accuracy: 0.6221\n",
            "Epoch 76/100\n",
            "250/250 [==============================] - 5s 19ms/step - loss: 0.7882 - accuracy: 0.8247 - val_loss: 1.7424 - val_accuracy: 0.6146\n",
            "Epoch 77/100\n",
            "250/250 [==============================] - 4s 18ms/step - loss: 0.7910 - accuracy: 0.8205 - val_loss: 1.7018 - val_accuracy: 0.6281\n",
            "Epoch 78/100\n",
            "250/250 [==============================] - 4s 17ms/step - loss: 0.7585 - accuracy: 0.8294 - val_loss: 1.7488 - val_accuracy: 0.6256\n",
            "Epoch 79/100\n",
            "250/250 [==============================] - 4s 18ms/step - loss: 0.7666 - accuracy: 0.8311 - val_loss: 1.7196 - val_accuracy: 0.6296\n",
            "Epoch 80/100\n",
            "250/250 [==============================] - 4s 18ms/step - loss: 0.7554 - accuracy: 0.8339 - val_loss: 1.7823 - val_accuracy: 0.6166\n",
            "Epoch 81/100\n",
            "250/250 [==============================] - 5s 20ms/step - loss: 0.7375 - accuracy: 0.8346 - val_loss: 1.7779 - val_accuracy: 0.6266\n",
            "Epoch 82/100\n",
            "250/250 [==============================] - 5s 18ms/step - loss: 0.7291 - accuracy: 0.8363 - val_loss: 1.8463 - val_accuracy: 0.6376\n",
            "Epoch 83/100\n",
            "250/250 [==============================] - 4s 17ms/step - loss: 0.7420 - accuracy: 0.8413 - val_loss: 1.7732 - val_accuracy: 0.6226\n",
            "Epoch 84/100\n",
            "250/250 [==============================] - 5s 19ms/step - loss: 0.7436 - accuracy: 0.8330 - val_loss: 1.8665 - val_accuracy: 0.6186\n",
            "Epoch 85/100\n",
            "250/250 [==============================] - 5s 19ms/step - loss: 0.7319 - accuracy: 0.8390 - val_loss: 1.7844 - val_accuracy: 0.6211\n",
            "Epoch 86/100\n",
            "250/250 [==============================] - 4s 18ms/step - loss: 0.7429 - accuracy: 0.8286 - val_loss: 1.7800 - val_accuracy: 0.6266\n",
            "Epoch 87/100\n",
            "250/250 [==============================] - 4s 17ms/step - loss: 0.7225 - accuracy: 0.8383 - val_loss: 1.7346 - val_accuracy: 0.6221\n",
            "Epoch 88/100\n",
            "250/250 [==============================] - 5s 22ms/step - loss: 0.7168 - accuracy: 0.8383 - val_loss: 1.7662 - val_accuracy: 0.6281\n",
            "Epoch 89/100\n",
            "250/250 [==============================] - 5s 21ms/step - loss: 0.7245 - accuracy: 0.8408 - val_loss: 1.8458 - val_accuracy: 0.6281\n",
            "Epoch 90/100\n",
            "250/250 [==============================] - 5s 21ms/step - loss: 0.7438 - accuracy: 0.8385 - val_loss: 1.9103 - val_accuracy: 0.6106\n",
            "Epoch 91/100\n",
            "250/250 [==============================] - 5s 19ms/step - loss: 0.7122 - accuracy: 0.8515 - val_loss: 1.7894 - val_accuracy: 0.6181\n",
            "Epoch 92/100\n",
            "250/250 [==============================] - 5s 21ms/step - loss: 0.6889 - accuracy: 0.8480 - val_loss: 1.8062 - val_accuracy: 0.6226\n",
            "Epoch 93/100\n",
            "250/250 [==============================] - 5s 21ms/step - loss: 0.7074 - accuracy: 0.8479 - val_loss: 1.7746 - val_accuracy: 0.6036\n",
            "Epoch 94/100\n",
            "250/250 [==============================] - 5s 19ms/step - loss: 0.6847 - accuracy: 0.8504 - val_loss: 1.8462 - val_accuracy: 0.6226\n",
            "Epoch 95/100\n",
            "250/250 [==============================] - 4s 17ms/step - loss: 0.6978 - accuracy: 0.8505 - val_loss: 1.7861 - val_accuracy: 0.6256\n",
            "Epoch 96/100\n",
            "250/250 [==============================] - 5s 18ms/step - loss: 0.6803 - accuracy: 0.8585 - val_loss: 1.8314 - val_accuracy: 0.6281\n",
            "Epoch 97/100\n",
            "250/250 [==============================] - 5s 20ms/step - loss: 0.6785 - accuracy: 0.8563 - val_loss: 1.7389 - val_accuracy: 0.6376\n",
            "Epoch 98/100\n",
            "250/250 [==============================] - 5s 20ms/step - loss: 0.6932 - accuracy: 0.8514 - val_loss: 1.7747 - val_accuracy: 0.6321\n",
            "Epoch 99/100\n",
            "250/250 [==============================] - 4s 17ms/step - loss: 0.6652 - accuracy: 0.8629 - val_loss: 1.7430 - val_accuracy: 0.6351\n",
            "Epoch 100/100\n",
            "250/250 [==============================] - 5s 21ms/step - loss: 0.6850 - accuracy: 0.8525 - val_loss: 1.7912 - val_accuracy: 0.6311\n"
          ]
        }
      ]
    },
    {
      "cell_type": "code",
      "source": [
        "plot_history(history)"
      ],
      "metadata": {
        "colab": {
          "base_uri": "https://localhost:8080/",
          "height": 433
        },
        "id": "Kqq63Pn5NedA",
        "outputId": "cd977ca9-2239-4f75-ce54-fe6894453827"
      },
      "execution_count": null,
      "outputs": [
        {
          "output_type": "display_data",
          "data": {
            "text/plain": [
              "<Figure size 432x216 with 1 Axes>"
            ],
            "image/png": "[encoded data removed]"
          },
          "metadata": {
            "needs_background": "light"
          }
        },
        {
          "output_type": "display_data",
          "data": {
            "text/plain": [
              "<Figure size 432x216 with 1 Axes>"
            ],
            "image/png": "[encoded data removed]"
          },
          "metadata": {
            "needs_background": "light"
          }
        }
      ]
    },
    {
      "cell_type": "code",
      "source": [
        "#still have overfitting"
      ],
      "metadata": {
        "id": "jC5IlRw3Sg-L"
      },
      "execution_count": null,
      "outputs": []
    },
    {
      "cell_type": "code",
      "source": [
        "#CNN"
      ],
      "metadata": {
        "id": "xTlGaDKgJCiO"
      },
      "execution_count": null,
      "outputs": []
    },
    {
      "cell_type": "code",
      "source": [
        "X_train, X_test, y_train, y_test = train_test_split(X, y, test_size=0.2)\n",
        "X_train, X_validation, y_train, y_validation = train_test_split(X_train, y_train, test_size=0.2)\n",
        "\n",
        "X_train = X_train[..., np.newaxis]\n",
        "X_validation = X_validation[..., np.newaxis]\n",
        "X_test = X_test[..., np.newaxis]"
      ],
      "metadata": {
        "id": "BbPHGTFbJHDG"
      },
      "execution_count": null,
      "outputs": []
    },
    {
      "cell_type": "code",
      "source": [
        "input_shape = (X_train.shape[1], X_train.shape[2], 1)"
      ],
      "metadata": {
        "id": "MYcSaJi_JJlx"
      },
      "execution_count": null,
      "outputs": []
    },
    {
      "cell_type": "code",
      "source": [
        "model_cnn = keras.Sequential()\n",
        "\n",
        "# 1st conv layer\n",
        "model_cnn.add(keras.layers.Conv2D(32, (3, 3), activation='relu', input_shape=input_shape))\n",
        "model_cnn.add(keras.layers.MaxPooling2D((3, 3), strides=(2, 2), padding='same'))\n",
        "model_cnn.add(keras.layers.BatchNormalization())\n",
        "\n",
        "# 2nd conv layer\n",
        "model_cnn.add(keras.layers.Conv2D(32, (3, 3), activation='relu'))\n",
        "model_cnn.add(keras.layers.MaxPooling2D((3, 3), strides=(2, 2), padding='same'))\n",
        "model_cnn.add(keras.layers.BatchNormalization())\n",
        "\n",
        "# 3rd conv layer\n",
        "model_cnn.add(keras.layers.Conv2D(32, (2, 2), activation='relu'))\n",
        "model_cnn.add(keras.layers.MaxPooling2D((2, 2), strides=(2, 2), padding='same'))\n",
        "model_cnn.add(keras.layers.BatchNormalization())\n",
        "\n",
        "# flatten output and feed it into dense layer\n",
        "model_cnn.add(keras.layers.Flatten())\n",
        "model_cnn.add(keras.layers.Dense(64, activation='relu'))\n",
        "model_cnn.add(keras.layers.Dropout(0.3))\n",
        "\n",
        "# output layer\n",
        "model_cnn.add(keras.layers.Dense(10, activation='softmax'))"
      ],
      "metadata": {
        "id": "tQ1sQZlaJLzF"
      },
      "execution_count": null,
      "outputs": []
    },
    {
      "cell_type": "code",
      "source": [
        "optimiser = keras.optimizers.Adam(learning_rate=0.0001)\n",
        "model_cnn.compile(optimizer=optimiser,\n",
        "              loss='sparse_categorical_crossentropy',\n",
        "              metrics=['accuracy'])"
      ],
      "metadata": {
        "id": "EXgSS1PBJMcz"
      },
      "execution_count": null,
      "outputs": []
    },
    {
      "cell_type": "code",
      "source": [
        "history = model_cnn.fit(X_train, y_train, validation_data=(X_validation, y_validation), batch_size=32, epochs=50)"
      ],
      "metadata": {
        "colab": {
          "base_uri": "https://localhost:8080/"
        },
        "id": "vfbA8DkHJPQS",
        "outputId": "78ef3e60-526f-4807-bd1e-f202d243b77c"
      },
      "execution_count": null,
      "outputs": [
        {
          "output_type": "stream",
          "name": "stdout",
          "text": [
            "Epoch 1/50\n",
            "188/188 [==============================] - 14s 69ms/step - loss: 2.3590 - accuracy: 0.2344 - val_loss: 1.7945 - val_accuracy: 0.3578\n",
            "Epoch 2/50\n",
            "188/188 [==============================] - 12s 65ms/step - loss: 1.8069 - accuracy: 0.3762 - val_loss: 1.4867 - val_accuracy: 0.4599\n",
            "Epoch 3/50\n",
            "188/188 [==============================] - 12s 66ms/step - loss: 1.6282 - accuracy: 0.4250 - val_loss: 1.3901 - val_accuracy: 0.4873\n",
            "Epoch 4/50\n",
            "188/188 [==============================] - 13s 68ms/step - loss: 1.5352 - accuracy: 0.4612 - val_loss: 1.3347 - val_accuracy: 0.5127\n",
            "Epoch 5/50\n",
            "188/188 [==============================] - 13s 67ms/step - loss: 1.4376 - accuracy: 0.4841 - val_loss: 1.2796 - val_accuracy: 0.5347\n",
            "Epoch 6/50\n",
            "188/188 [==============================] - 13s 68ms/step - loss: 1.3723 - accuracy: 0.5078 - val_loss: 1.2078 - val_accuracy: 0.5594\n",
            "Epoch 7/50\n",
            "188/188 [==============================] - 12s 66ms/step - loss: 1.3267 - accuracy: 0.5270 - val_loss: 1.1607 - val_accuracy: 0.5808\n",
            "Epoch 8/50\n",
            "188/188 [==============================] - 13s 67ms/step - loss: 1.2625 - accuracy: 0.5523 - val_loss: 1.1481 - val_accuracy: 0.5794\n",
            "Epoch 9/50\n",
            "188/188 [==============================] - 12s 65ms/step - loss: 1.2100 - accuracy: 0.5690 - val_loss: 1.0993 - val_accuracy: 0.6095\n",
            "Epoch 10/50\n",
            "188/188 [==============================] - 13s 67ms/step - loss: 1.1668 - accuracy: 0.5901 - val_loss: 1.0598 - val_accuracy: 0.6235\n",
            "Epoch 11/50\n",
            "188/188 [==============================] - 12s 66ms/step - loss: 1.1412 - accuracy: 0.5931 - val_loss: 1.0389 - val_accuracy: 0.6235\n",
            "Epoch 12/50\n",
            "188/188 [==============================] - 13s 67ms/step - loss: 1.1086 - accuracy: 0.6081 - val_loss: 1.0260 - val_accuracy: 0.6362\n",
            "Epoch 13/50\n",
            "188/188 [==============================] - 12s 65ms/step - loss: 1.0617 - accuracy: 0.6298 - val_loss: 0.9831 - val_accuracy: 0.6522\n",
            "Epoch 14/50\n",
            "188/188 [==============================] - 13s 69ms/step - loss: 1.0464 - accuracy: 0.6318 - val_loss: 0.9705 - val_accuracy: 0.6575\n",
            "Epoch 15/50\n",
            "188/188 [==============================] - 13s 68ms/step - loss: 1.0118 - accuracy: 0.6448 - val_loss: 0.9572 - val_accuracy: 0.6656\n",
            "Epoch 16/50\n",
            "188/188 [==============================] - 13s 68ms/step - loss: 0.9829 - accuracy: 0.6570 - val_loss: 0.9429 - val_accuracy: 0.6622\n",
            "Epoch 17/50\n",
            "188/188 [==============================] - 13s 67ms/step - loss: 0.9437 - accuracy: 0.6657 - val_loss: 0.9170 - val_accuracy: 0.6802\n",
            "Epoch 18/50\n",
            "188/188 [==============================] - 13s 67ms/step - loss: 0.9342 - accuracy: 0.6765 - val_loss: 0.8883 - val_accuracy: 0.6909\n",
            "Epoch 19/50\n",
            "188/188 [==============================] - 12s 66ms/step - loss: 0.8921 - accuracy: 0.6919 - val_loss: 0.8834 - val_accuracy: 0.6916\n",
            "Epoch 20/50\n",
            "188/188 [==============================] - 12s 64ms/step - loss: 0.8685 - accuracy: 0.7024 - val_loss: 0.8833 - val_accuracy: 0.6956\n",
            "Epoch 21/50\n",
            "188/188 [==============================] - 12s 66ms/step - loss: 0.8619 - accuracy: 0.6989 - val_loss: 0.8854 - val_accuracy: 0.6949\n",
            "Epoch 22/50\n",
            "188/188 [==============================] - 12s 66ms/step - loss: 0.8241 - accuracy: 0.7117 - val_loss: 0.8344 - val_accuracy: 0.7143\n",
            "Epoch 23/50\n",
            "188/188 [==============================] - 13s 68ms/step - loss: 0.8064 - accuracy: 0.7176 - val_loss: 0.8517 - val_accuracy: 0.7096\n",
            "Epoch 24/50\n",
            "188/188 [==============================] - 12s 66ms/step - loss: 0.7931 - accuracy: 0.7266 - val_loss: 0.8393 - val_accuracy: 0.7003\n",
            "Epoch 25/50\n",
            "188/188 [==============================] - 13s 67ms/step - loss: 0.7704 - accuracy: 0.7311 - val_loss: 0.8469 - val_accuracy: 0.7103\n",
            "Epoch 26/50\n",
            "188/188 [==============================] - 12s 66ms/step - loss: 0.7604 - accuracy: 0.7379 - val_loss: 0.8221 - val_accuracy: 0.7270\n",
            "Epoch 27/50\n",
            "188/188 [==============================] - 13s 67ms/step - loss: 0.7283 - accuracy: 0.7485 - val_loss: 0.8102 - val_accuracy: 0.7276\n",
            "Epoch 28/50\n",
            "188/188 [==============================] - 13s 67ms/step - loss: 0.7409 - accuracy: 0.7404 - val_loss: 0.7955 - val_accuracy: 0.7363\n",
            "Epoch 29/50\n",
            "188/188 [==============================] - 13s 67ms/step - loss: 0.7346 - accuracy: 0.7486 - val_loss: 0.7954 - val_accuracy: 0.7336\n",
            "Epoch 30/50\n",
            "188/188 [==============================] - 12s 65ms/step - loss: 0.7039 - accuracy: 0.7591 - val_loss: 0.7975 - val_accuracy: 0.7263\n",
            "Epoch 31/50\n",
            "188/188 [==============================] - 12s 66ms/step - loss: 0.6871 - accuracy: 0.7650 - val_loss: 0.7864 - val_accuracy: 0.7377\n",
            "Epoch 32/50\n",
            "188/188 [==============================] - 13s 67ms/step - loss: 0.6657 - accuracy: 0.7710 - val_loss: 0.7713 - val_accuracy: 0.7343\n",
            "Epoch 33/50\n",
            "188/188 [==============================] - 13s 67ms/step - loss: 0.6592 - accuracy: 0.7727 - val_loss: 0.7813 - val_accuracy: 0.7363\n",
            "Epoch 34/50\n",
            "188/188 [==============================] - 12s 66ms/step - loss: 0.6548 - accuracy: 0.7723 - val_loss: 0.7480 - val_accuracy: 0.7517\n",
            "Epoch 35/50\n",
            "188/188 [==============================] - 12s 66ms/step - loss: 0.6300 - accuracy: 0.7840 - val_loss: 0.7670 - val_accuracy: 0.7483\n",
            "Epoch 36/50\n",
            "188/188 [==============================] - 12s 66ms/step - loss: 0.6212 - accuracy: 0.7850 - val_loss: 0.7702 - val_accuracy: 0.7450\n",
            "Epoch 37/50\n",
            "188/188 [==============================] - 12s 65ms/step - loss: 0.6126 - accuracy: 0.7868 - val_loss: 0.7583 - val_accuracy: 0.7443\n",
            "Epoch 38/50\n",
            "188/188 [==============================] - 13s 68ms/step - loss: 0.5936 - accuracy: 0.7972 - val_loss: 0.8020 - val_accuracy: 0.7270\n",
            "Epoch 39/50\n",
            "188/188 [==============================] - 13s 67ms/step - loss: 0.5773 - accuracy: 0.7984 - val_loss: 0.7565 - val_accuracy: 0.7377\n",
            "Epoch 40/50\n",
            "188/188 [==============================] - 13s 68ms/step - loss: 0.5617 - accuracy: 0.8052 - val_loss: 0.7653 - val_accuracy: 0.7403\n",
            "Epoch 41/50\n",
            "188/188 [==============================] - 13s 67ms/step - loss: 0.5714 - accuracy: 0.7987 - val_loss: 0.7760 - val_accuracy: 0.7423\n",
            "Epoch 42/50\n",
            "188/188 [==============================] - 13s 67ms/step - loss: 0.5405 - accuracy: 0.8109 - val_loss: 0.7631 - val_accuracy: 0.7463\n",
            "Epoch 43/50\n",
            "188/188 [==============================] - 13s 68ms/step - loss: 0.5258 - accuracy: 0.8152 - val_loss: 0.7583 - val_accuracy: 0.7377\n",
            "Epoch 44/50\n",
            "188/188 [==============================] - 13s 67ms/step - loss: 0.5399 - accuracy: 0.8139 - val_loss: 0.7326 - val_accuracy: 0.7543\n",
            "Epoch 45/50\n",
            "188/188 [==============================] - 13s 67ms/step - loss: 0.5269 - accuracy: 0.8187 - val_loss: 0.7328 - val_accuracy: 0.7510\n",
            "Epoch 46/50\n",
            "188/188 [==============================] - 13s 68ms/step - loss: 0.5277 - accuracy: 0.8167 - val_loss: 0.7452 - val_accuracy: 0.7457\n",
            "Epoch 47/50\n",
            "188/188 [==============================] - 13s 68ms/step - loss: 0.5178 - accuracy: 0.8197 - val_loss: 0.7519 - val_accuracy: 0.7417\n",
            "Epoch 48/50\n",
            "188/188 [==============================] - 13s 68ms/step - loss: 0.5075 - accuracy: 0.8196 - val_loss: 0.7287 - val_accuracy: 0.7550\n",
            "Epoch 49/50\n",
            "188/188 [==============================] - 13s 68ms/step - loss: 0.5037 - accuracy: 0.8254 - val_loss: 0.7176 - val_accuracy: 0.7577\n",
            "Epoch 50/50\n",
            "188/188 [==============================] - 12s 66ms/step - loss: 0.4887 - accuracy: 0.8339 - val_loss: 0.7421 - val_accuracy: 0.7437\n"
          ]
        }
      ]
    },
    {
      "cell_type": "code",
      "source": [
        "plot_history(history)"
      ],
      "metadata": {
        "colab": {
          "base_uri": "https://localhost:8080/",
          "height": 433
        },
        "id": "KC3bTh81JQ_T",
        "outputId": "c2dd501e-0e87-4d24-ce85-6c0920629b3f"
      },
      "execution_count": null,
      "outputs": [
        {
          "output_type": "display_data",
          "data": {
            "text/plain": [
              "<Figure size 432x216 with 1 Axes>"
            ],
            "image/png": "[encoded data removed]"
          },
          "metadata": {
            "needs_background": "light"
          }
        },
        {
          "output_type": "display_data",
          "data": {
            "text/plain": [
              "<Figure size 432x216 with 1 Axes>"
            ],
            "image/png": "[encoded data removed]"
          },
          "metadata": {
            "needs_background": "light"
          }
        }
      ]
    },
    {
      "cell_type": "code",
      "source": [
        "label_map"
      ],
      "metadata": {
        "id": "jAhwPRgFbxk-",
        "colab": {
          "base_uri": "https://localhost:8080/"
        },
        "outputId": "dbc57ce4-7c95-4917-8f79-3db144f13321"
      },
      "execution_count": null,
      "outputs": [
        {
          "output_type": "execute_result",
          "data": {
            "text/plain": [
              "['jazz',\n",
              " 'metal',\n",
              " 'disco',\n",
              " 'reggae',\n",
              " 'classical',\n",
              " 'country',\n",
              " 'rock',\n",
              " 'hiphop',\n",
              " 'blues',\n",
              " 'pop']"
            ]
          },
          "metadata": {},
          "execution_count": 83
        }
      ]
    },
    {
      "cell_type": "code",
      "source": [
        "labels_dict = {\n",
        "    0: 'jazz',\n",
        "    1: 'metal',\n",
        "    2: 'disco',\n",
        "    3: 'reggae',\n",
        "    4: 'classical',\n",
        "    5: 'country',\n",
        "    6: 'rock',\n",
        "    7: 'hiphop',\n",
        "    8: 'blues',\n",
        "    9: 'pop'\n",
        "}"
      ],
      "metadata": {
        "id": "A0j80YO5cxg3"
      },
      "execution_count": null,
      "outputs": []
    },
    {
      "cell_type": "code",
      "source": [
        "X_to_predict = X_test[10]\n",
        "y_to_predict = y_test[10]"
      ],
      "metadata": {
        "id": "u2eptKmqZodQ"
      },
      "execution_count": null,
      "outputs": []
    },
    {
      "cell_type": "code",
      "source": [
        "y_to_predict"
      ],
      "metadata": {
        "colab": {
          "base_uri": "https://localhost:8080/"
        },
        "id": "7LKkFe77Z3Ig",
        "outputId": "bb77d84a-f595-4ea9-995a-c43e7ebe0d62"
      },
      "execution_count": null,
      "outputs": [
        {
          "output_type": "execute_result",
          "data": {
            "text/plain": [
              "8"
            ]
          },
          "metadata": {},
          "execution_count": 165
        }
      ]
    },
    {
      "cell_type": "code",
      "source": [
        "X_to_predict = X_to_predict[np.newaxis, ...]"
      ],
      "metadata": {
        "id": "QKT7srDLZ5Z9"
      },
      "execution_count": null,
      "outputs": []
    },
    {
      "cell_type": "code",
      "source": [
        "prediction = model_cnn.predict(X_to_predict)\n",
        "predicted_index = np.argmax(prediction, axis=1)\n",
        "int(predicted_index)"
      ],
      "metadata": {
        "colab": {
          "base_uri": "https://localhost:8080/"
        },
        "id": "iyAUbqfEZ6aB",
        "outputId": "3858a695-bacd-44ed-fd6e-9a55bdeadda6"
      },
      "execution_count": null,
      "outputs": [
        {
          "output_type": "execute_result",
          "data": {
            "text/plain": [
              "8"
            ]
          },
          "metadata": {},
          "execution_count": 167
        }
      ]
    },
    {
      "cell_type": "code",
      "source": [
        "for n in range(10):\n",
        "\n",
        "  i = random.randint(0,len(X_test))\n",
        "  X_to_predict = X_test[i]\n",
        "  y_to_predict = y_test[i]\n",
        "\n",
        "  print(\"\\nReal Genre:\", y_to_predict)\n",
        "\n",
        "  X_to_predict = X_to_predict[np.newaxis, ...]\n",
        "\n",
        "  prediction = model_cnn.predict(X_to_predict)\n",
        "\n",
        "  predicted_index = np.argmax(prediction, axis=1)\n",
        "\n",
        "  print(\"Predicted Genre:\", int(predicted_index))"
      ],
      "metadata": {
        "colab": {
          "base_uri": "https://localhost:8080/"
        },
        "id": "a1RHqehIaMKE",
        "outputId": "789eb76f-e99e-4f80-8a03-f1cf7dd6de93"
      },
      "execution_count": null,
      "outputs": [
        {
          "output_type": "stream",
          "name": "stdout",
          "text": [
            "\n",
            "Real Genre: 1\n",
            "Predicted Genre: 1\n",
            "\n",
            "Real Genre: 1\n",
            "Predicted Genre: 1\n",
            "\n",
            "Real Genre: 2\n",
            "Predicted Genre: 1\n",
            "\n",
            "Real Genre: 7\n",
            "Predicted Genre: 7\n",
            "\n",
            "Real Genre: 0\n",
            "Predicted Genre: 0\n",
            "\n",
            "Real Genre: 4\n",
            "Predicted Genre: 4\n",
            "\n",
            "Real Genre: 3\n",
            "Predicted Genre: 5\n",
            "\n",
            "Real Genre: 0\n",
            "Predicted Genre: 0\n",
            "\n",
            "Real Genre: 8\n",
            "Predicted Genre: 8\n",
            "\n",
            "Real Genre: 0\n",
            "Predicted Genre: 0\n"
          ]
        }
      ]
    },
    {
      "cell_type": "code",
      "source": [
        "X.shape"
      ],
      "metadata": {
        "colab": {
          "base_uri": "https://localhost:8080/"
        },
        "id": "JZutJZJRCkA2",
        "outputId": "0cf38dc1-a8eb-4b30-ad82-1821b7bd4b6f"
      },
      "execution_count": 226,
      "outputs": [
        {
          "output_type": "execute_result",
          "data": {
            "text/plain": [
              "(9986, 130, 13)"
            ]
          },
          "metadata": {},
          "execution_count": 226
        }
      ]
    },
    {
      "cell_type": "code",
      "source": [
        "X_train, X_test, y_train, y_test = train_test_split(X, y, test_size=0.2)\n",
        "X_train, X_validation, y_train, y_validation = train_test_split(X_train, y_train, test_size=0.2)"
      ],
      "metadata": {
        "id": "uvGbA8QpCecc"
      },
      "execution_count": 227,
      "outputs": []
    },
    {
      "cell_type": "code",
      "source": [
        "predictions = model_cnn.predict(X_test)"
      ],
      "metadata": {
        "id": "YrCb8maSB7WM"
      },
      "execution_count": 224,
      "outputs": []
    },
    {
      "cell_type": "code",
      "source": [
        "len(predictions)"
      ],
      "metadata": {
        "colab": {
          "base_uri": "https://localhost:8080/"
        },
        "id": "oncK8SL7CAXx",
        "outputId": "4e42acd6-2e44-481f-a874-9f160f55d337"
      },
      "execution_count": 225,
      "outputs": [
        {
          "output_type": "execute_result",
          "data": {
            "text/plain": [
              "1998"
            ]
          },
          "metadata": {},
          "execution_count": 225
        }
      ]
    },
    {
      "cell_type": "code",
      "source": [
        "y_true = []\n",
        "y_predict = []\n",
        "for i in range(len(predictions)):\n",
        "  X_to_predict = X_test[i]\n",
        "  y_to_predict = y_test[i]\n",
        "  X_to_predict = X_to_predict[np.newaxis, ...]\n",
        "  prediction = model_cnn.predict(X_to_predict)\n",
        "  predicted_index = np.argmax(prediction, axis=1)\n",
        "  y_true.append(y_to_predict)\n",
        "  y_predict.append(int(predicted_index))"
      ],
      "metadata": {
        "id": "b1HEjzteiMAl"
      },
      "execution_count": 228,
      "outputs": []
    },
    {
      "cell_type": "code",
      "source": [
        "cf_matrix = confusion_matrix(y_true, y_predict)\n",
        "cf_matrix"
      ],
      "metadata": {
        "colab": {
          "base_uri": "https://localhost:8080/"
        },
        "id": "htkW44XIiSeH",
        "outputId": "afc123da-529e-4d6a-bbc4-a2b15d94c814"
      },
      "execution_count": 229,
      "outputs": [
        {
          "output_type": "execute_result",
          "data": {
            "text/plain": [
              "array([[173,   0,   0,   0,   9,   5,   0,   0,   2,   0],\n",
              "       [  0, 187,   1,   1,   0,   2,   2,   2,   3,   1],\n",
              "       [  1,   2, 178,   1,   1,   5,   3,   6,   1,   4],\n",
              "       [  1,   2,  12, 158,   0,   1,   1,  10,   1,   4],\n",
              "       [  5,   0,   0,   1, 208,   1,   0,   0,   0,   0],\n",
              "       [  7,   1,   2,   3,   1, 179,   7,   1,   2,   0],\n",
              "       [  7,  17,  20,  10,   2,  24, 109,   1,   7,   6],\n",
              "       [  1,   7,   4,  10,   0,   1,   3, 168,   3,   5],\n",
              "       [  7,   7,   8,   5,   0,   9,   1,   2, 163,   1],\n",
              "       [  2,   0,   9,   4,   0,   7,   1,   4,   0, 165]])"
            ]
          },
          "metadata": {},
          "execution_count": 229
        }
      ]
    },
    {
      "cell_type": "code",
      "source": [
        "confusion_df = pd.DataFrame(cf_matrix)\n",
        "confusion_df"
      ],
      "metadata": {
        "colab": {
          "base_uri": "https://localhost:8080/",
          "height": 363
        },
        "id": "z-RRYiynfuIn",
        "outputId": "e8d91d53-e2dd-450a-d3ff-79423a52842a"
      },
      "execution_count": 230,
      "outputs": [
        {
          "output_type": "execute_result",
          "data": {
            "text/plain": [
              "     0    1    2    3    4    5    6    7    8    9\n",
              "0  173    0    0    0    9    5    0    0    2    0\n",
              "1    0  187    1    1    0    2    2    2    3    1\n",
              "2    1    2  178    1    1    5    3    6    1    4\n",
              "3    1    2   12  158    0    1    1   10    1    4\n",
              "4    5    0    0    1  208    1    0    0    0    0\n",
              "5    7    1    2    3    1  179    7    1    2    0\n",
              "6    7   17   20   10    2   24  109    1    7    6\n",
              "7    1    7    4   10    0    1    3  168    3    5\n",
              "8    7    7    8    5    0    9    1    2  163    1\n",
              "9    2    0    9    4    0    7    1    4    0  165"
            ],
            "text/html": [
              "\n",
              "  <div id=\"df-6efc6722-3699-4065-8fc5-c261073362ee\">\n",
              "    <div class=\"colab-df-container\">\n",
              "      <div>\n",
              "<style scoped>\n",
              "    .dataframe tbody tr th:only-of-type {\n",
              "        vertical-align: middle;\n",
              "    }\n",
              "\n",
              "    .dataframe tbody tr th {\n",
              "        vertical-align: top;\n",
              "    }\n",
              "\n",
              "    .dataframe thead th {\n",
              "        text-align: right;\n",
              "    }\n",
              "</style>\n",
              "<table border=\"1\" class=\"dataframe\">\n",
              "  <thead>\n",
              "    <tr style=\"text-align: right;\">\n",
              "      <th></th>\n",
              "      <th>0</th>\n",
              "      <th>1</th>\n",
              "      <th>2</th>\n",
              "      <th>3</th>\n",
              "      <th>4</th>\n",
              "      <th>5</th>\n",
              "      <th>6</th>\n",
              "      <th>7</th>\n",
              "      <th>8</th>\n",
              "      <th>9</th>\n",
              "    </tr>\n",
              "  </thead>\n",
              "  <tbody>\n",
              "    <tr>\n",
              "      <th>0</th>\n",
              "      <td>173</td>\n",
              "      <td>0</td>\n",
              "      <td>0</td>\n",
              "      <td>0</td>\n",
              "      <td>9</td>\n",
              "      <td>5</td>\n",
              "      <td>0</td>\n",
              "      <td>0</td>\n",
              "      <td>2</td>\n",
              "      <td>0</td>\n",
              "    </tr>\n",
              "    <tr>\n",
              "      <th>1</th>\n",
              "      <td>0</td>\n",
              "      <td>187</td>\n",
              "      <td>1</td>\n",
              "      <td>1</td>\n",
              "      <td>0</td>\n",
              "      <td>2</td>\n",
              "      <td>2</td>\n",
              "      <td>2</td>\n",
              "      <td>3</td>\n",
              "      <td>1</td>\n",
              "    </tr>\n",
              "    <tr>\n",
              "      <th>2</th>\n",
              "      <td>1</td>\n",
              "      <td>2</td>\n",
              "      <td>178</td>\n",
              "      <td>1</td>\n",
              "      <td>1</td>\n",
              "      <td>5</td>\n",
              "      <td>3</td>\n",
              "      <td>6</td>\n",
              "      <td>1</td>\n",
              "      <td>4</td>\n",
              "    </tr>\n",
              "    <tr>\n",
              "      <th>3</th>\n",
              "      <td>1</td>\n",
              "      <td>2</td>\n",
              "      <td>12</td>\n",
              "      <td>158</td>\n",
              "      <td>0</td>\n",
              "      <td>1</td>\n",
              "      <td>1</td>\n",
              "      <td>10</td>\n",
              "      <td>1</td>\n",
              "      <td>4</td>\n",
              "    </tr>\n",
              "    <tr>\n",
              "      <th>4</th>\n",
              "      <td>5</td>\n",
              "      <td>0</td>\n",
              "      <td>0</td>\n",
              "      <td>1</td>\n",
              "      <td>208</td>\n",
              "      <td>1</td>\n",
              "      <td>0</td>\n",
              "      <td>0</td>\n",
              "      <td>0</td>\n",
              "      <td>0</td>\n",
              "    </tr>\n",
              "    <tr>\n",
              "      <th>5</th>\n",
              "      <td>7</td>\n",
              "      <td>1</td>\n",
              "      <td>2</td>\n",
              "      <td>3</td>\n",
              "      <td>1</td>\n",
              "      <td>179</td>\n",
              "      <td>7</td>\n",
              "      <td>1</td>\n",
              "      <td>2</td>\n",
              "      <td>0</td>\n",
              "    </tr>\n",
              "    <tr>\n",
              "      <th>6</th>\n",
              "      <td>7</td>\n",
              "      <td>17</td>\n",
              "      <td>20</td>\n",
              "      <td>10</td>\n",
              "      <td>2</td>\n",
              "      <td>24</td>\n",
              "      <td>109</td>\n",
              "      <td>1</td>\n",
              "      <td>7</td>\n",
              "      <td>6</td>\n",
              "    </tr>\n",
              "    <tr>\n",
              "      <th>7</th>\n",
              "      <td>1</td>\n",
              "      <td>7</td>\n",
              "      <td>4</td>\n",
              "      <td>10</td>\n",
              "      <td>0</td>\n",
              "      <td>1</td>\n",
              "      <td>3</td>\n",
              "      <td>168</td>\n",
              "      <td>3</td>\n",
              "      <td>5</td>\n",
              "    </tr>\n",
              "    <tr>\n",
              "      <th>8</th>\n",
              "      <td>7</td>\n",
              "      <td>7</td>\n",
              "      <td>8</td>\n",
              "      <td>5</td>\n",
              "      <td>0</td>\n",
              "      <td>9</td>\n",
              "      <td>1</td>\n",
              "      <td>2</td>\n",
              "      <td>163</td>\n",
              "      <td>1</td>\n",
              "    </tr>\n",
              "    <tr>\n",
              "      <th>9</th>\n",
              "      <td>2</td>\n",
              "      <td>0</td>\n",
              "      <td>9</td>\n",
              "      <td>4</td>\n",
              "      <td>0</td>\n",
              "      <td>7</td>\n",
              "      <td>1</td>\n",
              "      <td>4</td>\n",
              "      <td>0</td>\n",
              "      <td>165</td>\n",
              "    </tr>\n",
              "  </tbody>\n",
              "</table>\n",
              "</div>\n",
              "      <button class=\"colab-df-convert\" onclick=\"convertToInteractive('df-6efc6722-3699-4065-8fc5-c261073362ee')\"\n",
              "              title=\"Convert this dataframe to an interactive table.\"\n",
              "              style=\"display:none;\">\n",
              "        \n",
              "  <svg xmlns=\"http://www.w3.org/2000/svg\" height=\"24px\"viewBox=\"0 0 24 24\"\n",
              "       width=\"24px\">\n",
              "    <path d=\"M0 0h24v24H0V0z\" fill=\"none\"/>\n",
              "    <path d=\"M18.56 5.44l.94 2.06.94-2.06 2.06-.94-2.06-.94-.94-2.06-.94 2.06-2.06.94zm-11 1L8.5 8.5l.94-2.06 2.06-.94-2.06-.94L8.5 2.5l-.94 2.06-2.06.94zm10 10l.94 2.06.94-2.06 2.06-.94-2.06-.94-.94-2.06-.94 2.06-2.06.94z\"/><path d=\"M17.41 7.96l-1.37-1.37c-.4-.4-.92-.59-1.43-.59-.52 0-1.04.2-1.43.59L10.3 9.45l-7.72 7.72c-.78.78-.78 2.05 0 2.83L4 21.41c.39.39.9.59 1.41.59.51 0 1.02-.2 1.41-.59l7.78-7.78 2.81-2.81c.8-.78.8-2.07 0-2.86zM5.41 20L4 18.59l7.72-7.72 1.47 1.35L5.41 20z\"/>\n",
              "  </svg>\n",
              "      </button>\n",
              "      \n",
              "  <style>\n",
              "    .colab-df-container {\n",
              "      display:flex;\n",
              "      flex-wrap:wrap;\n",
              "      gap: 12px;\n",
              "    }\n",
              "\n",
              "    .colab-df-convert {\n",
              "      background-color: #E8F0FE;\n",
              "      border: none;\n",
              "      border-radius: 50%;\n",
              "      cursor: pointer;\n",
              "      display: none;\n",
              "      fill: #1967D2;\n",
              "      height: 32px;\n",
              "      padding: 0 0 0 0;\n",
              "      width: 32px;\n",
              "    }\n",
              "\n",
              "    .colab-df-convert:hover {\n",
              "      background-color: #E2EBFA;\n",
              "      box-shadow: 0px 1px 2px rgba(60, 64, 67, 0.3), 0px 1px 3px 1px rgba(60, 64, 67, 0.15);\n",
              "      fill: #174EA6;\n",
              "    }\n",
              "\n",
              "    [theme=dark] .colab-df-convert {\n",
              "      background-color: #3B4455;\n",
              "      fill: #D2E3FC;\n",
              "    }\n",
              "\n",
              "    [theme=dark] .colab-df-convert:hover {\n",
              "      background-color: #434B5C;\n",
              "      box-shadow: 0px 1px 3px 1px rgba(0, 0, 0, 0.15);\n",
              "      filter: drop-shadow(0px 1px 2px rgba(0, 0, 0, 0.3));\n",
              "      fill: #FFFFFF;\n",
              "    }\n",
              "  </style>\n",
              "\n",
              "      <script>\n",
              "        const buttonEl =\n",
              "          document.querySelector('#df-6efc6722-3699-4065-8fc5-c261073362ee button.colab-df-convert');\n",
              "        buttonEl.style.display =\n",
              "          google.colab.kernel.accessAllowed ? 'block' : 'none';\n",
              "\n",
              "        async function convertToInteractive(key) {\n",
              "          const element = document.querySelector('#df-6efc6722-3699-4065-8fc5-c261073362ee');\n",
              "          const dataTable =\n",
              "            await google.colab.kernel.invokeFunction('convertToInteractive',\n",
              "                                                     [key], {});\n",
              "          if (!dataTable) return;\n",
              "\n",
              "          const docLinkHtml = 'Like what you see? Visit the ' +\n",
              "            '<a target=\"_blank\" href=https://colab.research.google.com/notebooks/data_table.ipynb>data table notebook</a>'\n",
              "            + ' to learn more about interactive tables.';\n",
              "          element.innerHTML = '';\n",
              "          dataTable['output_type'] = 'display_data';\n",
              "          await google.colab.output.renderOutput(dataTable, element);\n",
              "          const docLink = document.createElement('div');\n",
              "          docLink.innerHTML = docLinkHtml;\n",
              "          element.appendChild(docLink);\n",
              "        }\n",
              "      </script>\n",
              "    </div>\n",
              "  </div>\n",
              "  "
            ]
          },
          "metadata": {},
          "execution_count": 230
        }
      ]
    },
    {
      "cell_type": "code",
      "source": [
        "confusion_df = confusion_df.rename(columns=labels_dict)\n",
        "confusion_df.index = confusion_df.columns\n",
        "confusion_df"
      ],
      "metadata": {
        "colab": {
          "base_uri": "https://localhost:8080/",
          "height": 363
        },
        "id": "x3djFt08ktE2",
        "outputId": "76ba0abc-2a62-4411-d1c0-6ba8b39bf161"
      },
      "execution_count": 231,
      "outputs": [
        {
          "output_type": "execute_result",
          "data": {
            "text/plain": [
              "           jazz  metal  disco  reggae  classical  country  rock  hiphop  \\\n",
              "jazz        173      0      0       0          9        5     0       0   \n",
              "metal         0    187      1       1          0        2     2       2   \n",
              "disco         1      2    178       1          1        5     3       6   \n",
              "reggae        1      2     12     158          0        1     1      10   \n",
              "classical     5      0      0       1        208        1     0       0   \n",
              "country       7      1      2       3          1      179     7       1   \n",
              "rock          7     17     20      10          2       24   109       1   \n",
              "hiphop        1      7      4      10          0        1     3     168   \n",
              "blues         7      7      8       5          0        9     1       2   \n",
              "pop           2      0      9       4          0        7     1       4   \n",
              "\n",
              "           blues  pop  \n",
              "jazz           2    0  \n",
              "metal          3    1  \n",
              "disco          1    4  \n",
              "reggae         1    4  \n",
              "classical      0    0  \n",
              "country        2    0  \n",
              "rock           7    6  \n",
              "hiphop         3    5  \n",
              "blues        163    1  \n",
              "pop            0  165  "
            ],
            "text/html": [
              "\n",
              "  <div id=\"df-4eb3a9b3-8f7d-49cb-bdb3-cf0b90753229\">\n",
              "    <div class=\"colab-df-container\">\n",
              "      <div>\n",
              "<style scoped>\n",
              "    .dataframe tbody tr th:only-of-type {\n",
              "        vertical-align: middle;\n",
              "    }\n",
              "\n",
              "    .dataframe tbody tr th {\n",
              "        vertical-align: top;\n",
              "    }\n",
              "\n",
              "    .dataframe thead th {\n",
              "        text-align: right;\n",
              "    }\n",
              "</style>\n",
              "<table border=\"1\" class=\"dataframe\">\n",
              "  <thead>\n",
              "    <tr style=\"text-align: right;\">\n",
              "      <th></th>\n",
              "      <th>jazz</th>\n",
              "      <th>metal</th>\n",
              "      <th>disco</th>\n",
              "      <th>reggae</th>\n",
              "      <th>classical</th>\n",
              "      <th>country</th>\n",
              "      <th>rock</th>\n",
              "      <th>hiphop</th>\n",
              "      <th>blues</th>\n",
              "      <th>pop</th>\n",
              "    </tr>\n",
              "  </thead>\n",
              "  <tbody>\n",
              "    <tr>\n",
              "      <th>jazz</th>\n",
              "      <td>173</td>\n",
              "      <td>0</td>\n",
              "      <td>0</td>\n",
              "      <td>0</td>\n",
              "      <td>9</td>\n",
              "      <td>5</td>\n",
              "      <td>0</td>\n",
              "      <td>0</td>\n",
              "      <td>2</td>\n",
              "      <td>0</td>\n",
              "    </tr>\n",
              "    <tr>\n",
              "      <th>metal</th>\n",
              "      <td>0</td>\n",
              "      <td>187</td>\n",
              "      <td>1</td>\n",
              "      <td>1</td>\n",
              "      <td>0</td>\n",
              "      <td>2</td>\n",
              "      <td>2</td>\n",
              "      <td>2</td>\n",
              "      <td>3</td>\n",
              "      <td>1</td>\n",
              "    </tr>\n",
              "    <tr>\n",
              "      <th>disco</th>\n",
              "      <td>1</td>\n",
              "      <td>2</td>\n",
              "      <td>178</td>\n",
              "      <td>1</td>\n",
              "      <td>1</td>\n",
              "      <td>5</td>\n",
              "      <td>3</td>\n",
              "      <td>6</td>\n",
              "      <td>1</td>\n",
              "      <td>4</td>\n",
              "    </tr>\n",
              "    <tr>\n",
              "      <th>reggae</th>\n",
              "      <td>1</td>\n",
              "      <td>2</td>\n",
              "      <td>12</td>\n",
              "      <td>158</td>\n",
              "      <td>0</td>\n",
              "      <td>1</td>\n",
              "      <td>1</td>\n",
              "      <td>10</td>\n",
              "      <td>1</td>\n",
              "      <td>4</td>\n",
              "    </tr>\n",
              "    <tr>\n",
              "      <th>classical</th>\n",
              "      <td>5</td>\n",
              "      <td>0</td>\n",
              "      <td>0</td>\n",
              "      <td>1</td>\n",
              "      <td>208</td>\n",
              "      <td>1</td>\n",
              "      <td>0</td>\n",
              "      <td>0</td>\n",
              "      <td>0</td>\n",
              "      <td>0</td>\n",
              "    </tr>\n",
              "    <tr>\n",
              "      <th>country</th>\n",
              "      <td>7</td>\n",
              "      <td>1</td>\n",
              "      <td>2</td>\n",
              "      <td>3</td>\n",
              "      <td>1</td>\n",
              "      <td>179</td>\n",
              "      <td>7</td>\n",
              "      <td>1</td>\n",
              "      <td>2</td>\n",
              "      <td>0</td>\n",
              "    </tr>\n",
              "    <tr>\n",
              "      <th>rock</th>\n",
              "      <td>7</td>\n",
              "      <td>17</td>\n",
              "      <td>20</td>\n",
              "      <td>10</td>\n",
              "      <td>2</td>\n",
              "      <td>24</td>\n",
              "      <td>109</td>\n",
              "      <td>1</td>\n",
              "      <td>7</td>\n",
              "      <td>6</td>\n",
              "    </tr>\n",
              "    <tr>\n",
              "      <th>hiphop</th>\n",
              "      <td>1</td>\n",
              "      <td>7</td>\n",
              "      <td>4</td>\n",
              "      <td>10</td>\n",
              "      <td>0</td>\n",
              "      <td>1</td>\n",
              "      <td>3</td>\n",
              "      <td>168</td>\n",
              "      <td>3</td>\n",
              "      <td>5</td>\n",
              "    </tr>\n",
              "    <tr>\n",
              "      <th>blues</th>\n",
              "      <td>7</td>\n",
              "      <td>7</td>\n",
              "      <td>8</td>\n",
              "      <td>5</td>\n",
              "      <td>0</td>\n",
              "      <td>9</td>\n",
              "      <td>1</td>\n",
              "      <td>2</td>\n",
              "      <td>163</td>\n",
              "      <td>1</td>\n",
              "    </tr>\n",
              "    <tr>\n",
              "      <th>pop</th>\n",
              "      <td>2</td>\n",
              "      <td>0</td>\n",
              "      <td>9</td>\n",
              "      <td>4</td>\n",
              "      <td>0</td>\n",
              "      <td>7</td>\n",
              "      <td>1</td>\n",
              "      <td>4</td>\n",
              "      <td>0</td>\n",
              "      <td>165</td>\n",
              "    </tr>\n",
              "  </tbody>\n",
              "</table>\n",
              "</div>\n",
              "      <button class=\"colab-df-convert\" onclick=\"convertToInteractive('df-4eb3a9b3-8f7d-49cb-bdb3-cf0b90753229')\"\n",
              "              title=\"Convert this dataframe to an interactive table.\"\n",
              "              style=\"display:none;\">\n",
              "        \n",
              "  <svg xmlns=\"http://www.w3.org/2000/svg\" height=\"24px\"viewBox=\"0 0 24 24\"\n",
              "       width=\"24px\">\n",
              "    <path d=\"M0 0h24v24H0V0z\" fill=\"none\"/>\n",
              "    <path d=\"M18.56 5.44l.94 2.06.94-2.06 2.06-.94-2.06-.94-.94-2.06-.94 2.06-2.06.94zm-11 1L8.5 8.5l.94-2.06 2.06-.94-2.06-.94L8.5 2.5l-.94 2.06-2.06.94zm10 10l.94 2.06.94-2.06 2.06-.94-2.06-.94-.94-2.06-.94 2.06-2.06.94z\"/><path d=\"M17.41 7.96l-1.37-1.37c-.4-.4-.92-.59-1.43-.59-.52 0-1.04.2-1.43.59L10.3 9.45l-7.72 7.72c-.78.78-.78 2.05 0 2.83L4 21.41c.39.39.9.59 1.41.59.51 0 1.02-.2 1.41-.59l7.78-7.78 2.81-2.81c.8-.78.8-2.07 0-2.86zM5.41 20L4 18.59l7.72-7.72 1.47 1.35L5.41 20z\"/>\n",
              "  </svg>\n",
              "      </button>\n",
              "      \n",
              "  <style>\n",
              "    .colab-df-container {\n",
              "      display:flex;\n",
              "      flex-wrap:wrap;\n",
              "      gap: 12px;\n",
              "    }\n",
              "\n",
              "    .colab-df-convert {\n",
              "      background-color: #E8F0FE;\n",
              "      border: none;\n",
              "      border-radius: 50%;\n",
              "      cursor: pointer;\n",
              "      display: none;\n",
              "      fill: #1967D2;\n",
              "      height: 32px;\n",
              "      padding: 0 0 0 0;\n",
              "      width: 32px;\n",
              "    }\n",
              "\n",
              "    .colab-df-convert:hover {\n",
              "      background-color: #E2EBFA;\n",
              "      box-shadow: 0px 1px 2px rgba(60, 64, 67, 0.3), 0px 1px 3px 1px rgba(60, 64, 67, 0.15);\n",
              "      fill: #174EA6;\n",
              "    }\n",
              "\n",
              "    [theme=dark] .colab-df-convert {\n",
              "      background-color: #3B4455;\n",
              "      fill: #D2E3FC;\n",
              "    }\n",
              "\n",
              "    [theme=dark] .colab-df-convert:hover {\n",
              "      background-color: #434B5C;\n",
              "      box-shadow: 0px 1px 3px 1px rgba(0, 0, 0, 0.15);\n",
              "      filter: drop-shadow(0px 1px 2px rgba(0, 0, 0, 0.3));\n",
              "      fill: #FFFFFF;\n",
              "    }\n",
              "  </style>\n",
              "\n",
              "      <script>\n",
              "        const buttonEl =\n",
              "          document.querySelector('#df-4eb3a9b3-8f7d-49cb-bdb3-cf0b90753229 button.colab-df-convert');\n",
              "        buttonEl.style.display =\n",
              "          google.colab.kernel.accessAllowed ? 'block' : 'none';\n",
              "\n",
              "        async function convertToInteractive(key) {\n",
              "          const element = document.querySelector('#df-4eb3a9b3-8f7d-49cb-bdb3-cf0b90753229');\n",
              "          const dataTable =\n",
              "            await google.colab.kernel.invokeFunction('convertToInteractive',\n",
              "                                                     [key], {});\n",
              "          if (!dataTable) return;\n",
              "\n",
              "          const docLinkHtml = 'Like what you see? Visit the ' +\n",
              "            '<a target=\"_blank\" href=https://colab.research.google.com/notebooks/data_table.ipynb>data table notebook</a>'\n",
              "            + ' to learn more about interactive tables.';\n",
              "          element.innerHTML = '';\n",
              "          dataTable['output_type'] = 'display_data';\n",
              "          await google.colab.output.renderOutput(dataTable, element);\n",
              "          const docLink = document.createElement('div');\n",
              "          docLink.innerHTML = docLinkHtml;\n",
              "          element.appendChild(docLink);\n",
              "        }\n",
              "      </script>\n",
              "    </div>\n",
              "  </div>\n",
              "  "
            ]
          },
          "metadata": {},
          "execution_count": 231
        }
      ]
    },
    {
      "cell_type": "code",
      "source": [
        "plt.figure(figsize = (20,12))\n",
        "sn.heatmap(confusion_df, annot=True, cmap=sn.cubehelix_palette(200), fmt='g')\n",
        "#actual values are on the y axis and predicted values are on the x axis"
      ],
      "metadata": {
        "colab": {
          "base_uri": "https://localhost:8080/",
          "height": 731
        },
        "id": "i3dl1EJQ2Wlv",
        "outputId": "6d7e6adf-045b-4833-fdfd-f8161d285178"
      },
      "execution_count": 242,
      "outputs": [
        {
          "output_type": "execute_result",
          "data": {
            "text/plain": [
              "<matplotlib.axes._subplots.AxesSubplot at 0x7efc29e1cf90>"
            ]
          },
          "metadata": {},
          "execution_count": 242
        },
        {
          "output_type": "display_data",
          "data": {
            "text/plain": [
              "<Figure size 1440x864 with 2 Axes>"
            ],
            "image/png": "[encoded data removed]"
          },
          "metadata": {}
        }
      ]
    }
  ]
}